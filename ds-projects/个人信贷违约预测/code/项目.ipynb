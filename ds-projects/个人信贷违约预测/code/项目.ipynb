{
 "cells": [
  {
   "cell_type": "code",
   "execution_count": 1,
   "metadata": {
    "ExecuteTime": {
     "end_time": "2020-03-21T02:13:48.177237Z",
     "start_time": "2020-03-21T02:13:48.173237Z"
    }
   },
   "outputs": [],
   "source": [
    "from IPython.core.interactiveshell import InteractiveShell\n",
    "InteractiveShell.ast_node_interactivity = \"all\""
   ]
  },
  {
   "cell_type": "code",
   "execution_count": 2,
   "metadata": {
    "ExecuteTime": {
     "end_time": "2020-03-22T13:57:13.427971Z",
     "start_time": "2020-03-22T13:57:02.736359Z"
    }
   },
   "outputs": [],
   "source": [
    "import pandas as pd\n",
    "import numpy as np \n",
    "import matplotlib.pyplot as plt\n",
    "import seaborn as sns"
   ]
  },
  {
   "cell_type": "code",
   "execution_count": 4,
   "metadata": {
    "ExecuteTime": {
     "end_time": "2020-03-21T02:14:00.057916Z",
     "start_time": "2020-03-21T02:13:55.308645Z"
    }
   },
   "outputs": [
    {
     "data": {
      "text/html": [
       "<div>\n",
       "<style scoped>\n",
       "    .dataframe tbody tr th:only-of-type {\n",
       "        vertical-align: middle;\n",
       "    }\n",
       "\n",
       "    .dataframe tbody tr th {\n",
       "        vertical-align: top;\n",
       "    }\n",
       "\n",
       "    .dataframe thead th {\n",
       "        text-align: right;\n",
       "    }\n",
       "</style>\n",
       "<table border=\"1\" class=\"dataframe\">\n",
       "  <thead>\n",
       "    <tr style=\"text-align: right;\">\n",
       "      <th></th>\n",
       "      <th>用户id</th>\n",
       "      <th>时间戳</th>\n",
       "      <th>交易类型</th>\n",
       "      <th>交易金额</th>\n",
       "      <th>工资收入标记</th>\n",
       "    </tr>\n",
       "  </thead>\n",
       "  <tbody>\n",
       "    <tr>\n",
       "      <th>0</th>\n",
       "      <td>6965</td>\n",
       "      <td>5894316387</td>\n",
       "      <td>0</td>\n",
       "      <td>13.756664</td>\n",
       "      <td>0</td>\n",
       "    </tr>\n",
       "    <tr>\n",
       "      <th>1</th>\n",
       "      <td>6965</td>\n",
       "      <td>5894321388</td>\n",
       "      <td>1</td>\n",
       "      <td>13.756664</td>\n",
       "      <td>0</td>\n",
       "    </tr>\n",
       "    <tr>\n",
       "      <th>2</th>\n",
       "      <td>6965</td>\n",
       "      <td>5897553564</td>\n",
       "      <td>0</td>\n",
       "      <td>14.449810</td>\n",
       "      <td>0</td>\n",
       "    </tr>\n",
       "    <tr>\n",
       "      <th>3</th>\n",
       "      <td>6965</td>\n",
       "      <td>5897563463</td>\n",
       "      <td>1</td>\n",
       "      <td>10.527763</td>\n",
       "      <td>0</td>\n",
       "    </tr>\n",
       "    <tr>\n",
       "      <th>4</th>\n",
       "      <td>6965</td>\n",
       "      <td>5897564598</td>\n",
       "      <td>1</td>\n",
       "      <td>13.651303</td>\n",
       "      <td>0</td>\n",
       "    </tr>\n",
       "  </tbody>\n",
       "</table>\n",
       "</div>"
      ],
      "text/plain": [
       "   用户id         时间戳  交易类型       交易金额  工资收入标记\n",
       "0  6965  5894316387     0  13.756664       0\n",
       "1  6965  5894321388     1  13.756664       0\n",
       "2  6965  5897553564     0  14.449810       0\n",
       "3  6965  5897563463     1  10.527763       0\n",
       "4  6965  5897564598     1  13.651303       0"
      ]
     },
     "execution_count": 4,
     "metadata": {},
     "output_type": "execute_result"
    }
   ],
   "source": [
    "columns_BankDetail = ['用户id', '时间戳', '交易类型', '交易金额', '工资收入标记']\n",
    "df_bank_detail_train = pd.read_table(\"./bank_detail_train.txt\", names = columns_BankDetail, sep = ',')\n",
    "df_bank_detail_train.head()"
   ]
  },
  {
   "cell_type": "code",
   "execution_count": 5,
   "metadata": {
    "ExecuteTime": {
     "end_time": "2020-03-21T02:14:00.275929Z",
     "start_time": "2020-03-21T02:14:00.062917Z"
    }
   },
   "outputs": [
    {
     "name": "stdout",
     "output_type": "stream",
     "text": [
      "<class 'pandas.core.frame.DataFrame'>\n",
      "RangeIndex: 6070197 entries, 0 to 6070196\n",
      "Data columns (total 5 columns):\n",
      " #   Column  Dtype  \n",
      "---  ------  -----  \n",
      " 0   用户id    int64  \n",
      " 1   时间戳     int64  \n",
      " 2   交易类型    int64  \n",
      " 3   交易金额    float64\n",
      " 4   工资收入标记  int64  \n",
      "dtypes: float64(1), int64(4)\n",
      "memory usage: 231.6 MB\n"
     ]
    },
    {
     "data": {
      "text/plain": [
       "用户id      0\n",
       "时间戳       0\n",
       "交易类型      0\n",
       "交易金额      0\n",
       "工资收入标记    0\n",
       "dtype: int64"
      ]
     },
     "execution_count": 5,
     "metadata": {},
     "output_type": "execute_result"
    }
   ],
   "source": [
    "df_bank_detail_train.info()\n",
    "# 查看缺失情况\n",
    "df_bank_detail_train.isnull().sum()"
   ]
  },
  {
   "cell_type": "code",
   "execution_count": 6,
   "metadata": {
    "ExecuteTime": {
     "end_time": "2020-03-21T02:14:01.997027Z",
     "start_time": "2020-03-21T02:14:00.280929Z"
    }
   },
   "outputs": [
    {
     "data": {
      "text/plain": [
       "6070197"
      ]
     },
     "execution_count": 6,
     "metadata": {},
     "output_type": "execute_result"
    },
    {
     "data": {
      "text/plain": [
       "9294"
      ]
     },
     "execution_count": 6,
     "metadata": {},
     "output_type": "execute_result"
    }
   ],
   "source": [
    "len(df_bank_detail_train.用户id)  # 查看银行账单总记录数\n",
    "len(set(df_bank_detail_train.用户id)) # 查看银行账单总用户数"
   ]
  },
  {
   "cell_type": "code",
   "execution_count": 7,
   "metadata": {
    "ExecuteTime": {
     "end_time": "2020-03-21T02:14:31.246700Z",
     "start_time": "2020-03-21T02:14:02.002028Z"
    }
   },
   "outputs": [],
   "source": [
    "# 导入其它五张训练集的表\n",
    "columns_UserInfo = ['用户id','性别','职业','教育程度','婚姻状态','户口类型']\n",
    "columns_BillDetail = ['用户id','账单时间戳','银行id','上期账单金额','上期还款金额','信用卡额度','本期账单余额','本期账单最低还款额','消费笔数','本期账单金额','调整金额','循环利息','可用金额','预借现金额度','还款状态']\n",
    "columns_BrowseHistory = ['用户id','时间戳','浏览行为数据','浏览子行为编号']\n",
    "columns_LoanTime= ['用户id','放款时间']\n",
    "columns_overdue = ['用户id','样本标签']\n",
    "df_UserInfo_train = pd.read_table(\"./user_info_train.txt\",names = columns_UserInfo, sep = ',')\n",
    "df_overdue_train = pd.read_table(\"./overdue_train.txt\", names = columns_overdue, sep = ',')\n",
    "df_BillDetail_train = pd.read_table(\"./bill_detail_train.txt\", names = columns_BillDetail, sep = ',')\n",
    "df_BrowseHistory_train = pd.read_table(\"./browse_history_train.txt\", names = columns_BrowseHistory, sep = ',')\n",
    "df_LoanTime_train = pd.read_table(\"./loan_time_train.txt\", names = columns_LoanTime, sep = ',')"
   ]
  },
  {
   "cell_type": "code",
   "execution_count": 7,
   "metadata": {
    "ExecuteTime": {
     "end_time": "2020-03-21T02:14:31.285703Z",
     "start_time": "2020-03-21T02:14:31.253701Z"
    }
   },
   "outputs": [
    {
     "name": "stdout",
     "output_type": "stream",
     "text": [
      "<class 'pandas.core.frame.DataFrame'>\n",
      "RangeIndex: 55596 entries, 0 to 55595\n",
      "Data columns (total 6 columns):\n",
      "用户id    55596 non-null int64\n",
      "性别      55596 non-null int64\n",
      "职业      55596 non-null int64\n",
      "教育程度    55596 non-null int64\n",
      "婚姻状态    55596 non-null int64\n",
      "户口类型    55596 non-null int64\n",
      "dtypes: int64(6)\n",
      "memory usage: 2.5 MB\n"
     ]
    },
    {
     "data": {
      "text/html": [
       "<div>\n",
       "<style scoped>\n",
       "    .dataframe tbody tr th:only-of-type {\n",
       "        vertical-align: middle;\n",
       "    }\n",
       "\n",
       "    .dataframe tbody tr th {\n",
       "        vertical-align: top;\n",
       "    }\n",
       "\n",
       "    .dataframe thead th {\n",
       "        text-align: right;\n",
       "    }\n",
       "</style>\n",
       "<table border=\"1\" class=\"dataframe\">\n",
       "  <thead>\n",
       "    <tr style=\"text-align: right;\">\n",
       "      <th></th>\n",
       "      <th>用户id</th>\n",
       "      <th>性别</th>\n",
       "      <th>职业</th>\n",
       "      <th>教育程度</th>\n",
       "      <th>婚姻状态</th>\n",
       "      <th>户口类型</th>\n",
       "    </tr>\n",
       "  </thead>\n",
       "  <tbody>\n",
       "    <tr>\n",
       "      <td>0</td>\n",
       "      <td>3150</td>\n",
       "      <td>1</td>\n",
       "      <td>2</td>\n",
       "      <td>4</td>\n",
       "      <td>1</td>\n",
       "      <td>4</td>\n",
       "    </tr>\n",
       "    <tr>\n",
       "      <td>1</td>\n",
       "      <td>6965</td>\n",
       "      <td>1</td>\n",
       "      <td>2</td>\n",
       "      <td>4</td>\n",
       "      <td>3</td>\n",
       "      <td>2</td>\n",
       "    </tr>\n",
       "    <tr>\n",
       "      <td>2</td>\n",
       "      <td>1265</td>\n",
       "      <td>1</td>\n",
       "      <td>3</td>\n",
       "      <td>4</td>\n",
       "      <td>3</td>\n",
       "      <td>1</td>\n",
       "    </tr>\n",
       "    <tr>\n",
       "      <td>3</td>\n",
       "      <td>6360</td>\n",
       "      <td>1</td>\n",
       "      <td>2</td>\n",
       "      <td>4</td>\n",
       "      <td>3</td>\n",
       "      <td>2</td>\n",
       "    </tr>\n",
       "    <tr>\n",
       "      <td>4</td>\n",
       "      <td>2583</td>\n",
       "      <td>2</td>\n",
       "      <td>2</td>\n",
       "      <td>2</td>\n",
       "      <td>1</td>\n",
       "      <td>1</td>\n",
       "    </tr>\n",
       "  </tbody>\n",
       "</table>\n",
       "</div>"
      ],
      "text/plain": [
       "   用户id  性别  职业  教育程度  婚姻状态  户口类型\n",
       "0  3150   1   2     4     1     4\n",
       "1  6965   1   2     4     3     2\n",
       "2  1265   1   3     4     3     1\n",
       "3  6360   1   2     4     3     2\n",
       "4  2583   2   2     2     1     1"
      ]
     },
     "execution_count": 7,
     "metadata": {},
     "output_type": "execute_result"
    }
   ],
   "source": [
    "df_UserInfo_train.info()\n",
    "df_UserInfo_train.head()"
   ]
  },
  {
   "cell_type": "code",
   "execution_count": 8,
   "metadata": {
    "ExecuteTime": {
     "end_time": "2020-03-21T02:14:31.541717Z",
     "start_time": "2020-03-21T02:14:31.288703Z"
    }
   },
   "outputs": [
    {
     "name": "stdout",
     "output_type": "stream",
     "text": [
      "<class 'pandas.core.frame.DataFrame'>\n",
      "RangeIndex: 55596 entries, 0 to 55595\n",
      "Data columns (total 2 columns):\n",
      "用户id    55596 non-null int64\n",
      "样本标签    55596 non-null int64\n",
      "dtypes: int64(2)\n",
      "memory usage: 868.8 KB\n"
     ]
    },
    {
     "data": {
      "text/plain": [
       "用户id    0\n",
       "样本标签    0\n",
       "dtype: int64"
      ]
     },
     "execution_count": 8,
     "metadata": {},
     "output_type": "execute_result"
    },
    {
     "data": {
      "text/html": [
       "<div>\n",
       "<style scoped>\n",
       "    .dataframe tbody tr th:only-of-type {\n",
       "        vertical-align: middle;\n",
       "    }\n",
       "\n",
       "    .dataframe tbody tr th {\n",
       "        vertical-align: top;\n",
       "    }\n",
       "\n",
       "    .dataframe thead th {\n",
       "        text-align: right;\n",
       "    }\n",
       "</style>\n",
       "<table border=\"1\" class=\"dataframe\">\n",
       "  <thead>\n",
       "    <tr style=\"text-align: right;\">\n",
       "      <th></th>\n",
       "      <th>用户id</th>\n",
       "      <th>样本标签</th>\n",
       "    </tr>\n",
       "  </thead>\n",
       "  <tbody>\n",
       "    <tr>\n",
       "      <td>0</td>\n",
       "      <td>1</td>\n",
       "      <td>0</td>\n",
       "    </tr>\n",
       "    <tr>\n",
       "      <td>1</td>\n",
       "      <td>2</td>\n",
       "      <td>0</td>\n",
       "    </tr>\n",
       "    <tr>\n",
       "      <td>2</td>\n",
       "      <td>3</td>\n",
       "      <td>0</td>\n",
       "    </tr>\n",
       "    <tr>\n",
       "      <td>3</td>\n",
       "      <td>4</td>\n",
       "      <td>1</td>\n",
       "    </tr>\n",
       "    <tr>\n",
       "      <td>4</td>\n",
       "      <td>5</td>\n",
       "      <td>0</td>\n",
       "    </tr>\n",
       "  </tbody>\n",
       "</table>\n",
       "</div>"
      ],
      "text/plain": [
       "   用户id  样本标签\n",
       "0     1     0\n",
       "1     2     0\n",
       "2     3     0\n",
       "3     4     1\n",
       "4     5     0"
      ]
     },
     "execution_count": 8,
     "metadata": {},
     "output_type": "execute_result"
    }
   ],
   "source": [
    "df_overdue_train.info()\n",
    "df_overdue_train.isnull().sum()\n",
    "df_overdue_train.head()"
   ]
  },
  {
   "cell_type": "code",
   "execution_count": 9,
   "metadata": {
    "ExecuteTime": {
     "end_time": "2020-03-21T02:14:32.062747Z",
     "start_time": "2020-03-21T02:14:31.548718Z"
    }
   },
   "outputs": [
    {
     "name": "stdout",
     "output_type": "stream",
     "text": [
      "<class 'pandas.core.frame.DataFrame'>\n",
      "RangeIndex: 2338118 entries, 0 to 2338117\n",
      "Data columns (total 15 columns):\n",
      "用户id         int64\n",
      "账单时间戳        int64\n",
      "银行id         int64\n",
      "上期账单金额       float64\n",
      "上期还款金额       float64\n",
      "信用卡额度        float64\n",
      "本期账单余额       float64\n",
      "本期账单最低还款额    float64\n",
      "消费笔数         int64\n",
      "本期账单金额       float64\n",
      "调整金额         float64\n",
      "循环利息         float64\n",
      "可用金额         float64\n",
      "预借现金额度       float64\n",
      "还款状态         int64\n",
      "dtypes: float64(10), int64(5)\n",
      "memory usage: 267.6 MB\n"
     ]
    },
    {
     "data": {
      "text/plain": [
       "用户id         0\n",
       "账单时间戳        0\n",
       "银行id         0\n",
       "上期账单金额       0\n",
       "上期还款金额       0\n",
       "信用卡额度        0\n",
       "本期账单余额       0\n",
       "本期账单最低还款额    0\n",
       "消费笔数         0\n",
       "本期账单金额       0\n",
       "调整金额         0\n",
       "循环利息         0\n",
       "可用金额         0\n",
       "预借现金额度       0\n",
       "还款状态         0\n",
       "dtype: int64"
      ]
     },
     "execution_count": 9,
     "metadata": {},
     "output_type": "execute_result"
    },
    {
     "data": {
      "text/html": [
       "<div>\n",
       "<style scoped>\n",
       "    .dataframe tbody tr th:only-of-type {\n",
       "        vertical-align: middle;\n",
       "    }\n",
       "\n",
       "    .dataframe tbody tr th {\n",
       "        vertical-align: top;\n",
       "    }\n",
       "\n",
       "    .dataframe thead th {\n",
       "        text-align: right;\n",
       "    }\n",
       "</style>\n",
       "<table border=\"1\" class=\"dataframe\">\n",
       "  <thead>\n",
       "    <tr style=\"text-align: right;\">\n",
       "      <th></th>\n",
       "      <th>用户id</th>\n",
       "      <th>账单时间戳</th>\n",
       "      <th>银行id</th>\n",
       "      <th>上期账单金额</th>\n",
       "      <th>上期还款金额</th>\n",
       "      <th>信用卡额度</th>\n",
       "      <th>本期账单余额</th>\n",
       "      <th>本期账单最低还款额</th>\n",
       "      <th>消费笔数</th>\n",
       "      <th>本期账单金额</th>\n",
       "      <th>调整金额</th>\n",
       "      <th>循环利息</th>\n",
       "      <th>可用金额</th>\n",
       "      <th>预借现金额度</th>\n",
       "      <th>还款状态</th>\n",
       "    </tr>\n",
       "  </thead>\n",
       "  <tbody>\n",
       "    <tr>\n",
       "      <td>0</td>\n",
       "      <td>3150</td>\n",
       "      <td>5906744363</td>\n",
       "      <td>6</td>\n",
       "      <td>18.626118</td>\n",
       "      <td>18.661937</td>\n",
       "      <td>20.664418</td>\n",
       "      <td>18.905766</td>\n",
       "      <td>17.847133</td>\n",
       "      <td>1</td>\n",
       "      <td>0.0</td>\n",
       "      <td>0.0</td>\n",
       "      <td>0.0</td>\n",
       "      <td>0.0</td>\n",
       "      <td>19.971271</td>\n",
       "      <td>0</td>\n",
       "    </tr>\n",
       "    <tr>\n",
       "      <td>1</td>\n",
       "      <td>3150</td>\n",
       "      <td>5906744401</td>\n",
       "      <td>6</td>\n",
       "      <td>18.905766</td>\n",
       "      <td>18.909954</td>\n",
       "      <td>20.664418</td>\n",
       "      <td>19.113305</td>\n",
       "      <td>17.911506</td>\n",
       "      <td>1</td>\n",
       "      <td>0.0</td>\n",
       "      <td>0.0</td>\n",
       "      <td>0.0</td>\n",
       "      <td>0.0</td>\n",
       "      <td>19.971271</td>\n",
       "      <td>0</td>\n",
       "    </tr>\n",
       "    <tr>\n",
       "      <td>2</td>\n",
       "      <td>3150</td>\n",
       "      <td>5906744427</td>\n",
       "      <td>6</td>\n",
       "      <td>19.113305</td>\n",
       "      <td>19.150290</td>\n",
       "      <td>20.664418</td>\n",
       "      <td>19.300194</td>\n",
       "      <td>17.977610</td>\n",
       "      <td>1</td>\n",
       "      <td>0.0</td>\n",
       "      <td>0.0</td>\n",
       "      <td>0.0</td>\n",
       "      <td>0.0</td>\n",
       "      <td>19.971271</td>\n",
       "      <td>0</td>\n",
       "    </tr>\n",
       "    <tr>\n",
       "      <td>3</td>\n",
       "      <td>3150</td>\n",
       "      <td>5906744515</td>\n",
       "      <td>6</td>\n",
       "      <td>19.300194</td>\n",
       "      <td>19.300280</td>\n",
       "      <td>21.000890</td>\n",
       "      <td>20.303240</td>\n",
       "      <td>18.477177</td>\n",
       "      <td>1</td>\n",
       "      <td>0.0</td>\n",
       "      <td>0.0</td>\n",
       "      <td>0.0</td>\n",
       "      <td>0.0</td>\n",
       "      <td>20.307743</td>\n",
       "      <td>0</td>\n",
       "    </tr>\n",
       "    <tr>\n",
       "      <td>4</td>\n",
       "      <td>3150</td>\n",
       "      <td>5906744562</td>\n",
       "      <td>6</td>\n",
       "      <td>20.303240</td>\n",
       "      <td>20.307744</td>\n",
       "      <td>21.000890</td>\n",
       "      <td>20.357134</td>\n",
       "      <td>18.510985</td>\n",
       "      <td>1</td>\n",
       "      <td>0.0</td>\n",
       "      <td>0.0</td>\n",
       "      <td>0.0</td>\n",
       "      <td>0.0</td>\n",
       "      <td>20.307743</td>\n",
       "      <td>0</td>\n",
       "    </tr>\n",
       "  </tbody>\n",
       "</table>\n",
       "</div>"
      ],
      "text/plain": [
       "   用户id       账单时间戳  银行id     上期账单金额     上期还款金额      信用卡额度     本期账单余额  \\\n",
       "0  3150  5906744363     6  18.626118  18.661937  20.664418  18.905766   \n",
       "1  3150  5906744401     6  18.905766  18.909954  20.664418  19.113305   \n",
       "2  3150  5906744427     6  19.113305  19.150290  20.664418  19.300194   \n",
       "3  3150  5906744515     6  19.300194  19.300280  21.000890  20.303240   \n",
       "4  3150  5906744562     6  20.303240  20.307744  21.000890  20.357134   \n",
       "\n",
       "   本期账单最低还款额  消费笔数  本期账单金额  调整金额  循环利息  可用金额     预借现金额度  还款状态  \n",
       "0  17.847133     1     0.0   0.0   0.0   0.0  19.971271     0  \n",
       "1  17.911506     1     0.0   0.0   0.0   0.0  19.971271     0  \n",
       "2  17.977610     1     0.0   0.0   0.0   0.0  19.971271     0  \n",
       "3  18.477177     1     0.0   0.0   0.0   0.0  20.307743     0  \n",
       "4  18.510985     1     0.0   0.0   0.0   0.0  20.307743     0  "
      ]
     },
     "execution_count": 9,
     "metadata": {},
     "output_type": "execute_result"
    },
    {
     "data": {
      "text/plain": [
       "2338118"
      ]
     },
     "execution_count": 9,
     "metadata": {},
     "output_type": "execute_result"
    },
    {
     "data": {
      "text/plain": [
       "53174"
      ]
     },
     "execution_count": 9,
     "metadata": {},
     "output_type": "execute_result"
    }
   ],
   "source": [
    "df_BillDetail_train.info()\n",
    "df_BillDetail_train.isnull().sum()\n",
    "df_BillDetail_train.head()\n",
    "len(df_BillDetail_train.用户id)\n",
    "len(df_BillDetail_train.用户id.unique())"
   ]
  },
  {
   "cell_type": "code",
   "execution_count": 10,
   "metadata": {
    "ExecuteTime": {
     "end_time": "2020-03-21T02:14:32.731785Z",
     "start_time": "2020-03-21T02:14:32.066747Z"
    }
   },
   "outputs": [
    {
     "name": "stdout",
     "output_type": "stream",
     "text": [
      "<class 'pandas.core.frame.DataFrame'>\n",
      "RangeIndex: 22919547 entries, 0 to 22919546\n",
      "Data columns (total 4 columns):\n",
      "用户id       int64\n",
      "时间戳        int64\n",
      "浏览行为数据     int64\n",
      "浏览子行为编号    int64\n",
      "dtypes: int64(4)\n",
      "memory usage: 699.4 MB\n"
     ]
    },
    {
     "data": {
      "text/plain": [
       "用户id       0\n",
       "时间戳        0\n",
       "浏览行为数据     0\n",
       "浏览子行为编号    0\n",
       "dtype: int64"
      ]
     },
     "execution_count": 10,
     "metadata": {},
     "output_type": "execute_result"
    },
    {
     "data": {
      "text/html": [
       "<div>\n",
       "<style scoped>\n",
       "    .dataframe tbody tr th:only-of-type {\n",
       "        vertical-align: middle;\n",
       "    }\n",
       "\n",
       "    .dataframe tbody tr th {\n",
       "        vertical-align: top;\n",
       "    }\n",
       "\n",
       "    .dataframe thead th {\n",
       "        text-align: right;\n",
       "    }\n",
       "</style>\n",
       "<table border=\"1\" class=\"dataframe\">\n",
       "  <thead>\n",
       "    <tr style=\"text-align: right;\">\n",
       "      <th></th>\n",
       "      <th>用户id</th>\n",
       "      <th>时间戳</th>\n",
       "      <th>浏览行为数据</th>\n",
       "      <th>浏览子行为编号</th>\n",
       "    </tr>\n",
       "  </thead>\n",
       "  <tbody>\n",
       "    <tr>\n",
       "      <td>0</td>\n",
       "      <td>34801</td>\n",
       "      <td>5926003545</td>\n",
       "      <td>173</td>\n",
       "      <td>1</td>\n",
       "    </tr>\n",
       "    <tr>\n",
       "      <td>1</td>\n",
       "      <td>34801</td>\n",
       "      <td>5926003545</td>\n",
       "      <td>164</td>\n",
       "      <td>4</td>\n",
       "    </tr>\n",
       "    <tr>\n",
       "      <td>2</td>\n",
       "      <td>34801</td>\n",
       "      <td>5926003545</td>\n",
       "      <td>38</td>\n",
       "      <td>7</td>\n",
       "    </tr>\n",
       "    <tr>\n",
       "      <td>3</td>\n",
       "      <td>34801</td>\n",
       "      <td>5926003545</td>\n",
       "      <td>45</td>\n",
       "      <td>1</td>\n",
       "    </tr>\n",
       "    <tr>\n",
       "      <td>4</td>\n",
       "      <td>34801</td>\n",
       "      <td>5926003545</td>\n",
       "      <td>110</td>\n",
       "      <td>7</td>\n",
       "    </tr>\n",
       "  </tbody>\n",
       "</table>\n",
       "</div>"
      ],
      "text/plain": [
       "    用户id         时间戳  浏览行为数据  浏览子行为编号\n",
       "0  34801  5926003545     173        1\n",
       "1  34801  5926003545     164        4\n",
       "2  34801  5926003545      38        7\n",
       "3  34801  5926003545      45        1\n",
       "4  34801  5926003545     110        7"
      ]
     },
     "execution_count": 10,
     "metadata": {},
     "output_type": "execute_result"
    },
    {
     "data": {
      "text/plain": [
       "47330"
      ]
     },
     "execution_count": 10,
     "metadata": {},
     "output_type": "execute_result"
    }
   ],
   "source": [
    "df_BrowseHistory_train.info()\n",
    "df_BrowseHistory_train.isnull().sum()\n",
    "df_BrowseHistory_train.head()\n",
    "len(df_BrowseHistory_train.用户id.unique())"
   ]
  },
  {
   "cell_type": "code",
   "execution_count": 11,
   "metadata": {
    "ExecuteTime": {
     "end_time": "2020-03-21T02:14:32.758787Z",
     "start_time": "2020-03-21T02:14:32.736786Z"
    }
   },
   "outputs": [
    {
     "name": "stdout",
     "output_type": "stream",
     "text": [
      "<class 'pandas.core.frame.DataFrame'>\n",
      "RangeIndex: 55596 entries, 0 to 55595\n",
      "Data columns (total 2 columns):\n",
      "用户id    55596 non-null int64\n",
      "放款时间    55596 non-null int64\n",
      "dtypes: int64(2)\n",
      "memory usage: 868.8 KB\n"
     ]
    },
    {
     "data": {
      "text/html": [
       "<div>\n",
       "<style scoped>\n",
       "    .dataframe tbody tr th:only-of-type {\n",
       "        vertical-align: middle;\n",
       "    }\n",
       "\n",
       "    .dataframe tbody tr th {\n",
       "        vertical-align: top;\n",
       "    }\n",
       "\n",
       "    .dataframe thead th {\n",
       "        text-align: right;\n",
       "    }\n",
       "</style>\n",
       "<table border=\"1\" class=\"dataframe\">\n",
       "  <thead>\n",
       "    <tr style=\"text-align: right;\">\n",
       "      <th></th>\n",
       "      <th>用户id</th>\n",
       "      <th>放款时间</th>\n",
       "    </tr>\n",
       "  </thead>\n",
       "  <tbody>\n",
       "    <tr>\n",
       "      <td>0</td>\n",
       "      <td>1</td>\n",
       "      <td>5914855887</td>\n",
       "    </tr>\n",
       "    <tr>\n",
       "      <td>1</td>\n",
       "      <td>2</td>\n",
       "      <td>5914855887</td>\n",
       "    </tr>\n",
       "    <tr>\n",
       "      <td>2</td>\n",
       "      <td>3</td>\n",
       "      <td>5914855887</td>\n",
       "    </tr>\n",
       "    <tr>\n",
       "      <td>3</td>\n",
       "      <td>4</td>\n",
       "      <td>5914855887</td>\n",
       "    </tr>\n",
       "    <tr>\n",
       "      <td>4</td>\n",
       "      <td>5</td>\n",
       "      <td>5914855887</td>\n",
       "    </tr>\n",
       "  </tbody>\n",
       "</table>\n",
       "</div>"
      ],
      "text/plain": [
       "   用户id        放款时间\n",
       "0     1  5914855887\n",
       "1     2  5914855887\n",
       "2     3  5914855887\n",
       "3     4  5914855887\n",
       "4     5  5914855887"
      ]
     },
     "execution_count": 11,
     "metadata": {},
     "output_type": "execute_result"
    }
   ],
   "source": [
    "df_LoanTime_train.info()\n",
    "df_LoanTime_train.head()"
   ]
  },
  {
   "cell_type": "code",
   "execution_count": 12,
   "metadata": {
    "ExecuteTime": {
     "end_time": "2020-03-21T02:14:33.331820Z",
     "start_time": "2020-03-21T02:14:32.763787Z"
    }
   },
   "outputs": [
    {
     "name": "stdout",
     "output_type": "stream",
     "text": [
      "{'userinfo表的用户id数': 55596, 'bank_detail表的用户id数': 9294, 'overdue表的用户id数': 55596, 'bill_detail表的用户id数': 53174, 'browse_history表的用户id数': 47330, 'loan_time表的用户id数': 55596}\n"
     ]
    }
   ],
   "source": [
    "print( {  'userinfo表的用户id数':len(df_UserInfo_train.用户id.unique()), \n",
    "          'bank_detail表的用户id数':len(df_bank_detail_train.用户id.unique()),\n",
    "          'overdue表的用户id数':len(df_overdue_train.用户id.unique()),\n",
    "          'bill_detail表的用户id数':len(df_BillDetail_train.用户id.unique()),\n",
    "          'browse_history表的用户id数':len(df_BrowseHistory_train.用户id.unique()),\n",
    "          'loan_time表的用户id数':len(df_LoanTime_train.用户id.unique())})\n",
    "    "
   ]
  },
  {
   "cell_type": "code",
   "execution_count": 8,
   "metadata": {
    "ExecuteTime": {
     "end_time": "2020-03-21T02:14:36.842020Z",
     "start_time": "2020-03-21T02:14:33.335820Z"
    }
   },
   "outputs": [
    {
     "name": "stdout",
     "output_type": "stream",
     "text": [
      "<class 'pandas.core.frame.DataFrame'>\n",
      "Int64Index: 9271 entries, 0 to 6069672\n",
      "Data columns (total 1 columns):\n",
      " #   Column  Non-Null Count  Dtype\n",
      "---  ------  --------------  -----\n",
      " 0   用户id    9271 non-null   int64\n",
      "dtypes: int64(1)\n",
      "memory usage: 144.9 KB\n"
     ]
    }
   ],
   "source": [
    "df = pd.merge(left=df_bank_detail_train, right=df_LoanTime_train, how='left', on='用户id')\n",
    "t=df[df.时间戳<=df.放款时间]\n",
    "bank_detail = t[['用户id']]\n",
    "bank_detail = bank_detail.drop_duplicates(subset='用户id',keep='first')\n",
    "bank_detail.info()"
   ]
  },
  {
   "cell_type": "code",
   "execution_count": 9,
   "metadata": {
    "ExecuteTime": {
     "end_time": "2020-03-21T02:14:39.324162Z",
     "start_time": "2020-03-21T02:14:36.846021Z"
    }
   },
   "outputs": [
    {
     "data": {
      "text/html": [
       "<div>\n",
       "<style scoped>\n",
       "    .dataframe tbody tr th:only-of-type {\n",
       "        vertical-align: middle;\n",
       "    }\n",
       "\n",
       "    .dataframe tbody tr th {\n",
       "        vertical-align: top;\n",
       "    }\n",
       "\n",
       "    .dataframe thead th {\n",
       "        text-align: right;\n",
       "    }\n",
       "</style>\n",
       "<table border=\"1\" class=\"dataframe\">\n",
       "  <thead>\n",
       "    <tr style=\"text-align: right;\">\n",
       "      <th></th>\n",
       "      <th>用户id</th>\n",
       "      <th>账单时间戳</th>\n",
       "      <th>银行id</th>\n",
       "      <th>上期账单金额</th>\n",
       "      <th>上期还款金额</th>\n",
       "      <th>信用卡额度</th>\n",
       "      <th>本期账单余额</th>\n",
       "      <th>本期账单最低还款额</th>\n",
       "      <th>消费笔数</th>\n",
       "      <th>本期账单金额</th>\n",
       "      <th>调整金额</th>\n",
       "      <th>循环利息</th>\n",
       "      <th>可用金额</th>\n",
       "      <th>预借现金额度</th>\n",
       "      <th>还款状态</th>\n",
       "      <th>放款时间</th>\n",
       "    </tr>\n",
       "  </thead>\n",
       "  <tbody>\n",
       "    <tr>\n",
       "      <th>0</th>\n",
       "      <td>3150</td>\n",
       "      <td>5906744363</td>\n",
       "      <td>6</td>\n",
       "      <td>18.626118</td>\n",
       "      <td>18.661937</td>\n",
       "      <td>20.664418</td>\n",
       "      <td>18.905766</td>\n",
       "      <td>17.847133</td>\n",
       "      <td>1</td>\n",
       "      <td>0.0</td>\n",
       "      <td>0.0</td>\n",
       "      <td>0.0</td>\n",
       "      <td>0.0</td>\n",
       "      <td>19.971271</td>\n",
       "      <td>0</td>\n",
       "      <td>5919867087</td>\n",
       "    </tr>\n",
       "    <tr>\n",
       "      <th>1</th>\n",
       "      <td>3150</td>\n",
       "      <td>5906744401</td>\n",
       "      <td>6</td>\n",
       "      <td>18.905766</td>\n",
       "      <td>18.909954</td>\n",
       "      <td>20.664418</td>\n",
       "      <td>19.113305</td>\n",
       "      <td>17.911506</td>\n",
       "      <td>1</td>\n",
       "      <td>0.0</td>\n",
       "      <td>0.0</td>\n",
       "      <td>0.0</td>\n",
       "      <td>0.0</td>\n",
       "      <td>19.971271</td>\n",
       "      <td>0</td>\n",
       "      <td>5919867087</td>\n",
       "    </tr>\n",
       "    <tr>\n",
       "      <th>2</th>\n",
       "      <td>3150</td>\n",
       "      <td>5906744427</td>\n",
       "      <td>6</td>\n",
       "      <td>19.113305</td>\n",
       "      <td>19.150290</td>\n",
       "      <td>20.664418</td>\n",
       "      <td>19.300194</td>\n",
       "      <td>17.977610</td>\n",
       "      <td>1</td>\n",
       "      <td>0.0</td>\n",
       "      <td>0.0</td>\n",
       "      <td>0.0</td>\n",
       "      <td>0.0</td>\n",
       "      <td>19.971271</td>\n",
       "      <td>0</td>\n",
       "      <td>5919867087</td>\n",
       "    </tr>\n",
       "    <tr>\n",
       "      <th>3</th>\n",
       "      <td>3150</td>\n",
       "      <td>5906744515</td>\n",
       "      <td>6</td>\n",
       "      <td>19.300194</td>\n",
       "      <td>19.300280</td>\n",
       "      <td>21.000890</td>\n",
       "      <td>20.303240</td>\n",
       "      <td>18.477177</td>\n",
       "      <td>1</td>\n",
       "      <td>0.0</td>\n",
       "      <td>0.0</td>\n",
       "      <td>0.0</td>\n",
       "      <td>0.0</td>\n",
       "      <td>20.307743</td>\n",
       "      <td>0</td>\n",
       "      <td>5919867087</td>\n",
       "    </tr>\n",
       "    <tr>\n",
       "      <th>4</th>\n",
       "      <td>3150</td>\n",
       "      <td>5906744562</td>\n",
       "      <td>6</td>\n",
       "      <td>20.303240</td>\n",
       "      <td>20.307744</td>\n",
       "      <td>21.000890</td>\n",
       "      <td>20.357134</td>\n",
       "      <td>18.510985</td>\n",
       "      <td>1</td>\n",
       "      <td>0.0</td>\n",
       "      <td>0.0</td>\n",
       "      <td>0.0</td>\n",
       "      <td>0.0</td>\n",
       "      <td>20.307743</td>\n",
       "      <td>0</td>\n",
       "      <td>5919867087</td>\n",
       "    </tr>\n",
       "  </tbody>\n",
       "</table>\n",
       "</div>"
      ],
      "text/plain": [
       "   用户id       账单时间戳  银行id     上期账单金额     上期还款金额      信用卡额度     本期账单余额  \\\n",
       "0  3150  5906744363     6  18.626118  18.661937  20.664418  18.905766   \n",
       "1  3150  5906744401     6  18.905766  18.909954  20.664418  19.113305   \n",
       "2  3150  5906744427     6  19.113305  19.150290  20.664418  19.300194   \n",
       "3  3150  5906744515     6  19.300194  19.300280  21.000890  20.303240   \n",
       "4  3150  5906744562     6  20.303240  20.307744  21.000890  20.357134   \n",
       "\n",
       "   本期账单最低还款额  消费笔数  本期账单金额  调整金额  循环利息  可用金额     预借现金额度  还款状态        放款时间  \n",
       "0  17.847133     1     0.0   0.0   0.0   0.0  19.971271     0  5919867087  \n",
       "1  17.911506     1     0.0   0.0   0.0   0.0  19.971271     0  5919867087  \n",
       "2  17.977610     1     0.0   0.0   0.0   0.0  19.971271     0  5919867087  \n",
       "3  18.477177     1     0.0   0.0   0.0   0.0  20.307743     0  5919867087  \n",
       "4  18.510985     1     0.0   0.0   0.0   0.0  20.307743     0  5919867087  "
      ]
     },
     "execution_count": 9,
     "metadata": {},
     "output_type": "execute_result"
    },
    {
     "name": "stdout",
     "output_type": "stream",
     "text": [
      "<class 'pandas.core.frame.DataFrame'>\n",
      "Int64Index: 46739 entries, 0 to 2338115\n",
      "Data columns (total 1 columns):\n",
      " #   Column  Non-Null Count  Dtype\n",
      "---  ------  --------------  -----\n",
      " 0   用户id    46739 non-null  int64\n",
      "dtypes: int64(1)\n",
      "memory usage: 730.3 KB\n"
     ]
    }
   ],
   "source": [
    "df1=pd.merge(left=df_BillDetail_train, right=df_LoanTime_train, how='left', on='用户id')\n",
    "df1.head()\n",
    "t1=df1[df1.账单时间戳<=df1.放款时间]\n",
    "bill_detail = t1[['用户id']]\n",
    "bill_detail = bill_detail.drop_duplicates(subset='用户id',keep='first')\n",
    "bill_detail.info()"
   ]
  },
  {
   "cell_type": "code",
   "execution_count": 10,
   "metadata": {
    "ExecuteTime": {
     "end_time": "2020-03-21T02:16:53.155817Z",
     "start_time": "2020-03-21T02:14:39.328163Z"
    }
   },
   "outputs": [
    {
     "data": {
      "text/plain": [
       "Index(['用户id', '时间戳', '浏览行为数据', '浏览子行为编号', '放款时间'], dtype='object')"
      ]
     },
     "execution_count": 10,
     "metadata": {},
     "output_type": "execute_result"
    },
    {
     "name": "stdout",
     "output_type": "stream",
     "text": [
      "<class 'pandas.core.frame.DataFrame'>\n",
      "Int64Index: 44945 entries, 0 to 22919430\n",
      "Data columns (total 1 columns):\n",
      " #   Column  Non-Null Count  Dtype\n",
      "---  ------  --------------  -----\n",
      " 0   用户id    44945 non-null  int64\n",
      "dtypes: int64(1)\n",
      "memory usage: 702.3 KB\n"
     ]
    }
   ],
   "source": [
    "df2=pd.merge(left=df_BrowseHistory_train, right=df_LoanTime_train, how='left', on='用户id')\n",
    "df2.columns\n",
    "t2=df2[df2.时间戳<=df2.放款时间]\n",
    "browse_history = t2[['用户id']]\n",
    "browse_history = browse_history.drop_duplicates(subset='用户id',keep='first')\n",
    "browse_history.info()"
   ]
  },
  {
   "cell_type": "code",
   "execution_count": 11,
   "metadata": {
    "ExecuteTime": {
     "end_time": "2020-03-21T02:17:00.409232Z",
     "start_time": "2020-03-21T02:16:54.224878Z"
    }
   },
   "outputs": [
    {
     "name": "stdout",
     "output_type": "stream",
     "text": [
      "<class 'pandas.core.frame.DataFrame'>\n",
      "Int64Index: 5735 entries, 0 to 5734\n",
      "Data columns (total 1 columns):\n",
      " #   Column  Non-Null Count  Dtype\n",
      "---  ------  --------------  -----\n",
      " 0   用户id    5735 non-null   int64\n",
      "dtypes: int64(1)\n",
      "memory usage: 89.6 KB\n"
     ]
    }
   ],
   "source": [
    "user1=pd.merge(left=bill_detail, right=browse_history, how='inner', on='用户id')\n",
    "user2=pd.merge(left=user1, right=bank_detail, how='inner', on='用户id')\n",
    "user2.info()"
   ]
  },
  {
   "cell_type": "code",
   "execution_count": 15,
   "metadata": {},
   "outputs": [
    {
     "data": {
      "text/html": [
       "<div>\n",
       "<style scoped>\n",
       "    .dataframe tbody tr th:only-of-type {\n",
       "        vertical-align: middle;\n",
       "    }\n",
       "\n",
       "    .dataframe tbody tr th {\n",
       "        vertical-align: top;\n",
       "    }\n",
       "\n",
       "    .dataframe thead th {\n",
       "        text-align: right;\n",
       "    }\n",
       "</style>\n",
       "<table border=\"1\" class=\"dataframe\">\n",
       "  <thead>\n",
       "    <tr style=\"text-align: right;\">\n",
       "      <th></th>\n",
       "      <th>0</th>\n",
       "      <th>1</th>\n",
       "      <th>2</th>\n",
       "      <th>3</th>\n",
       "      <th>4</th>\n",
       "      <th>5</th>\n",
       "      <th>6</th>\n",
       "      <th>7</th>\n",
       "      <th>8</th>\n",
       "      <th>9</th>\n",
       "      <th>...</th>\n",
       "      <th>5725</th>\n",
       "      <th>5726</th>\n",
       "      <th>5727</th>\n",
       "      <th>5728</th>\n",
       "      <th>5729</th>\n",
       "      <th>5730</th>\n",
       "      <th>5731</th>\n",
       "      <th>5732</th>\n",
       "      <th>5733</th>\n",
       "      <th>5734</th>\n",
       "    </tr>\n",
       "  </thead>\n",
       "  <tbody>\n",
       "    <tr>\n",
       "      <th>用户id</th>\n",
       "      <td>6965</td>\n",
       "      <td>1265</td>\n",
       "      <td>2583</td>\n",
       "      <td>29165</td>\n",
       "      <td>2443</td>\n",
       "      <td>590</td>\n",
       "      <td>10313</td>\n",
       "      <td>55354</td>\n",
       "      <td>20235</td>\n",
       "      <td>694</td>\n",
       "      <td>...</td>\n",
       "      <td>11532</td>\n",
       "      <td>13999</td>\n",
       "      <td>40491</td>\n",
       "      <td>23264</td>\n",
       "      <td>6949</td>\n",
       "      <td>52736</td>\n",
       "      <td>45989</td>\n",
       "      <td>18855</td>\n",
       "      <td>37530</td>\n",
       "      <td>8917</td>\n",
       "    </tr>\n",
       "  </tbody>\n",
       "</table>\n",
       "<p>1 rows × 5735 columns</p>\n",
       "</div>"
      ],
      "text/plain": [
       "      0     1     2      3     4     5      6      7      8     9     ...  \\\n",
       "用户id  6965  1265  2583  29165  2443   590  10313  55354  20235   694  ...   \n",
       "\n",
       "       5725   5726   5727   5728  5729   5730   5731   5732   5733  5734  \n",
       "用户id  11532  13999  40491  23264  6949  52736  45989  18855  37530  8917  \n",
       "\n",
       "[1 rows x 5735 columns]"
      ]
     },
     "execution_count": 15,
     "metadata": {},
     "output_type": "execute_result"
    }
   ],
   "source": [
    "user.T"
   ]
  },
  {
   "cell_type": "code",
   "execution_count": null,
   "metadata": {},
   "outputs": [],
   "source": []
  },
  {
   "cell_type": "code",
   "execution_count": null,
   "metadata": {},
   "outputs": [],
   "source": []
  },
  {
   "cell_type": "markdown",
   "metadata": {},
   "source": [
    "得到5735个完整记录，然后通过这5735个id筛选每张表的记录，进行字段预处理。"
   ]
  },
  {
   "cell_type": "markdown",
   "metadata": {},
   "source": [
    "# 数据清洗"
   ]
  },
  {
   "cell_type": "markdown",
   "metadata": {},
   "source": [
    "## 银行账单表"
   ]
  },
  {
   "cell_type": "code",
   "execution_count": 23,
   "metadata": {
    "ExecuteTime": {
     "end_time": "2020-03-21T02:17:28.736852Z",
     "start_time": "2020-03-21T02:17:00.600243Z"
    }
   },
   "outputs": [],
   "source": [
    "bank_detail_select = pd.merge(left=df_bank_detail_train, right=user2, how='inner', on='用户id')"
   ]
  },
  {
   "cell_type": "code",
   "execution_count": 24,
   "metadata": {
    "ExecuteTime": {
     "end_time": "2020-03-21T02:17:30.454950Z",
     "start_time": "2020-03-21T02:17:28.885861Z"
    }
   },
   "outputs": [
    {
     "data": {
      "text/plain": [
       "Index(['用户id', '时间戳', '交易类型', '交易金额', '工资收入标记'], dtype='object')"
      ]
     },
     "execution_count": 24,
     "metadata": {},
     "output_type": "execute_result"
    }
   ],
   "source": [
    "bank_detail_select.columns"
   ]
  },
  {
   "cell_type": "code",
   "execution_count": 25,
   "metadata": {},
   "outputs": [
    {
     "data": {
      "text/html": [
       "<div>\n",
       "<style scoped>\n",
       "    .dataframe tbody tr th:only-of-type {\n",
       "        vertical-align: middle;\n",
       "    }\n",
       "\n",
       "    .dataframe tbody tr th {\n",
       "        vertical-align: top;\n",
       "    }\n",
       "\n",
       "    .dataframe thead th {\n",
       "        text-align: right;\n",
       "    }\n",
       "</style>\n",
       "<table border=\"1\" class=\"dataframe\">\n",
       "  <thead>\n",
       "    <tr style=\"text-align: right;\">\n",
       "      <th></th>\n",
       "      <th>用户id</th>\n",
       "      <th>时间戳</th>\n",
       "      <th>交易类型</th>\n",
       "      <th>交易金额</th>\n",
       "      <th>工资收入标记</th>\n",
       "    </tr>\n",
       "  </thead>\n",
       "  <tbody>\n",
       "    <tr>\n",
       "      <th>0</th>\n",
       "      <td>6965</td>\n",
       "      <td>5894316387</td>\n",
       "      <td>0</td>\n",
       "      <td>13.756664</td>\n",
       "      <td>0</td>\n",
       "    </tr>\n",
       "    <tr>\n",
       "      <th>1</th>\n",
       "      <td>6965</td>\n",
       "      <td>5894321388</td>\n",
       "      <td>1</td>\n",
       "      <td>13.756664</td>\n",
       "      <td>0</td>\n",
       "    </tr>\n",
       "    <tr>\n",
       "      <th>2</th>\n",
       "      <td>6965</td>\n",
       "      <td>5897553564</td>\n",
       "      <td>0</td>\n",
       "      <td>14.449810</td>\n",
       "      <td>0</td>\n",
       "    </tr>\n",
       "    <tr>\n",
       "      <th>3</th>\n",
       "      <td>6965</td>\n",
       "      <td>5897563463</td>\n",
       "      <td>1</td>\n",
       "      <td>10.527763</td>\n",
       "      <td>0</td>\n",
       "    </tr>\n",
       "    <tr>\n",
       "      <th>4</th>\n",
       "      <td>6965</td>\n",
       "      <td>5897564598</td>\n",
       "      <td>1</td>\n",
       "      <td>13.651303</td>\n",
       "      <td>0</td>\n",
       "    </tr>\n",
       "  </tbody>\n",
       "</table>\n",
       "</div>"
      ],
      "text/plain": [
       "   用户id         时间戳  交易类型       交易金额  工资收入标记\n",
       "0  6965  5894316387     0  13.756664       0\n",
       "1  6965  5894321388     1  13.756664       0\n",
       "2  6965  5897553564     0  14.449810       0\n",
       "3  6965  5897563463     1  10.527763       0\n",
       "4  6965  5897564598     1  13.651303       0"
      ]
     },
     "execution_count": 25,
     "metadata": {},
     "output_type": "execute_result"
    }
   ],
   "source": [
    "bank_detail_select.head(\n",
    ")"
   ]
  },
  {
   "cell_type": "code",
   "execution_count": 26,
   "metadata": {
    "ExecuteTime": {
     "end_time": "2020-03-21T02:17:37.308342Z",
     "start_time": "2020-03-21T02:17:30.583958Z"
    }
   },
   "outputs": [],
   "source": [
    "b1=bank_detail_select[(bank_detail_select['交易类型']==0)].groupby(['用户id'], as_index=False)\n",
    "b2=bank_detail_select[(bank_detail_select['交易类型']==1)].groupby(['用户id'], as_index=False)\n",
    "b3=bank_detail_select[(bank_detail_select['工资收入标记']==1)].groupby(['用户id'], as_index=False)"
   ]
  },
  {
   "cell_type": "code",
   "execution_count": 27,
   "metadata": {},
   "outputs": [
    {
     "data": {
      "text/plain": [
       "<pandas.core.groupby.generic.DataFrameGroupBy object at 0x7f9d988169d0>"
      ]
     },
     "execution_count": 27,
     "metadata": {},
     "output_type": "execute_result"
    }
   ],
   "source": [
    "b1"
   ]
  },
  {
   "cell_type": "code",
   "execution_count": 32,
   "metadata": {
    "ExecuteTime": {
     "end_time": "2020-03-21T02:17:51.262141Z",
     "start_time": "2020-03-21T02:17:37.348345Z"
    }
   },
   "outputs": [
    {
     "data": {
      "text/html": [
       "<div>\n",
       "<style scoped>\n",
       "    .dataframe tbody tr th:only-of-type {\n",
       "        vertical-align: middle;\n",
       "    }\n",
       "\n",
       "    .dataframe tbody tr th {\n",
       "        vertical-align: top;\n",
       "    }\n",
       "\n",
       "    .dataframe thead th {\n",
       "        text-align: right;\n",
       "    }\n",
       "</style>\n",
       "<table border=\"1\" class=\"dataframe\">\n",
       "  <thead>\n",
       "    <tr style=\"text-align: right;\">\n",
       "      <th></th>\n",
       "      <th>用户id</th>\n",
       "      <th>进账单数</th>\n",
       "      <th>进账金额</th>\n",
       "    </tr>\n",
       "  </thead>\n",
       "  <tbody>\n",
       "    <tr>\n",
       "      <th>0</th>\n",
       "      <td>3</td>\n",
       "      <td>172</td>\n",
       "      <td>2278.873446</td>\n",
       "    </tr>\n",
       "    <tr>\n",
       "      <th>1</th>\n",
       "      <td>4</td>\n",
       "      <td>96</td>\n",
       "      <td>1164.342384</td>\n",
       "    </tr>\n",
       "    <tr>\n",
       "      <th>2</th>\n",
       "      <td>10</td>\n",
       "      <td>141</td>\n",
       "      <td>1793.642133</td>\n",
       "    </tr>\n",
       "    <tr>\n",
       "      <th>3</th>\n",
       "      <td>14</td>\n",
       "      <td>521</td>\n",
       "      <td>6856.993313</td>\n",
       "    </tr>\n",
       "    <tr>\n",
       "      <th>4</th>\n",
       "      <td>16</td>\n",
       "      <td>35</td>\n",
       "      <td>478.264186</td>\n",
       "    </tr>\n",
       "  </tbody>\n",
       "</table>\n",
       "</div>"
      ],
      "text/plain": [
       "   用户id  进账单数         进账金额\n",
       "0     3   172  2278.873446\n",
       "1     4    96  1164.342384\n",
       "2    10   141  1793.642133\n",
       "3    14   521  6856.993313\n",
       "4    16    35   478.264186"
      ]
     },
     "execution_count": 32,
     "metadata": {},
     "output_type": "execute_result"
    },
    {
     "data": {
      "text/html": [
       "<div>\n",
       "<style scoped>\n",
       "    .dataframe tbody tr th:only-of-type {\n",
       "        vertical-align: middle;\n",
       "    }\n",
       "\n",
       "    .dataframe tbody tr th {\n",
       "        vertical-align: top;\n",
       "    }\n",
       "\n",
       "    .dataframe thead th {\n",
       "        text-align: right;\n",
       "    }\n",
       "</style>\n",
       "<table border=\"1\" class=\"dataframe\">\n",
       "  <thead>\n",
       "    <tr style=\"text-align: right;\">\n",
       "      <th></th>\n",
       "      <th>用户id</th>\n",
       "      <th>支出单数</th>\n",
       "      <th>支出金额</th>\n",
       "    </tr>\n",
       "  </thead>\n",
       "  <tbody>\n",
       "    <tr>\n",
       "      <th>0</th>\n",
       "      <td>3</td>\n",
       "      <td>507</td>\n",
       "      <td>4985.957607</td>\n",
       "    </tr>\n",
       "    <tr>\n",
       "      <th>1</th>\n",
       "      <td>4</td>\n",
       "      <td>195</td>\n",
       "      <td>2129.425722</td>\n",
       "    </tr>\n",
       "    <tr>\n",
       "      <th>2</th>\n",
       "      <td>10</td>\n",
       "      <td>183</td>\n",
       "      <td>2250.292530</td>\n",
       "    </tr>\n",
       "    <tr>\n",
       "      <th>3</th>\n",
       "      <td>14</td>\n",
       "      <td>729</td>\n",
       "      <td>7960.811363</td>\n",
       "    </tr>\n",
       "    <tr>\n",
       "      <th>4</th>\n",
       "      <td>16</td>\n",
       "      <td>75</td>\n",
       "      <td>935.201357</td>\n",
       "    </tr>\n",
       "  </tbody>\n",
       "</table>\n",
       "</div>"
      ],
      "text/plain": [
       "   用户id  支出单数         支出金额\n",
       "0     3   507  4985.957607\n",
       "1     4   195  2129.425722\n",
       "2    10   183  2250.292530\n",
       "3    14   729  7960.811363\n",
       "4    16    75   935.201357"
      ]
     },
     "execution_count": 32,
     "metadata": {},
     "output_type": "execute_result"
    },
    {
     "data": {
      "text/html": [
       "<div>\n",
       "<style scoped>\n",
       "    .dataframe tbody tr th:only-of-type {\n",
       "        vertical-align: middle;\n",
       "    }\n",
       "\n",
       "    .dataframe tbody tr th {\n",
       "        vertical-align: top;\n",
       "    }\n",
       "\n",
       "    .dataframe thead th {\n",
       "        text-align: right;\n",
       "    }\n",
       "</style>\n",
       "<table border=\"1\" class=\"dataframe\">\n",
       "  <thead>\n",
       "    <tr style=\"text-align: right;\">\n",
       "      <th></th>\n",
       "      <th>用户id</th>\n",
       "      <th>工资笔数</th>\n",
       "      <th>工资收入</th>\n",
       "    </tr>\n",
       "  </thead>\n",
       "  <tbody>\n",
       "    <tr>\n",
       "      <th>0</th>\n",
       "      <td>67</td>\n",
       "      <td>7</td>\n",
       "      <td>85.972926</td>\n",
       "    </tr>\n",
       "    <tr>\n",
       "      <th>1</th>\n",
       "      <td>117</td>\n",
       "      <td>17</td>\n",
       "      <td>146.429384</td>\n",
       "    </tr>\n",
       "    <tr>\n",
       "      <th>2</th>\n",
       "      <td>119</td>\n",
       "      <td>17</td>\n",
       "      <td>246.778621</td>\n",
       "    </tr>\n",
       "    <tr>\n",
       "      <th>3</th>\n",
       "      <td>178</td>\n",
       "      <td>14</td>\n",
       "      <td>207.186980</td>\n",
       "    </tr>\n",
       "    <tr>\n",
       "      <th>4</th>\n",
       "      <td>189</td>\n",
       "      <td>7</td>\n",
       "      <td>107.501477</td>\n",
       "    </tr>\n",
       "  </tbody>\n",
       "</table>\n",
       "</div>"
      ],
      "text/plain": [
       "   用户id  工资笔数        工资收入\n",
       "0    67     7   85.972926\n",
       "1   117    17  146.429384\n",
       "2   119    17  246.778621\n",
       "3   178    14  207.186980\n",
       "4   189     7  107.501477"
      ]
     },
     "execution_count": 32,
     "metadata": {},
     "output_type": "execute_result"
    }
   ],
   "source": [
    "c1=b1['交易金额'].agg({'进账单数':'count','进账金额':'sum'}) # 统计用户进账单数，求和\n",
    "c2=b2['交易金额'].agg({'支出单数':'count','支出金额':'sum'}) # 统计用户支出单数，求和\n",
    "c3=b3['交易金额'].agg({'工资笔数':'count','工资收入':'sum'}) # 统计用户工资收入计数，求和\n",
    "c1.head()\n",
    "c2.head()\n",
    "c3.head()"
   ]
  },
  {
   "cell_type": "code",
   "execution_count": 33,
   "metadata": {
    "ExecuteTime": {
     "end_time": "2020-03-21T02:17:53.662278Z",
     "start_time": "2020-03-21T02:17:51.286142Z"
    }
   },
   "outputs": [
    {
     "name": "stdout",
     "output_type": "stream",
     "text": [
      "<class 'pandas.core.frame.DataFrame'>\n",
      "Int64Index: 5735 entries, 0 to 5734\n",
      "Data columns (total 3 columns):\n",
      " #   Column  Non-Null Count  Dtype  \n",
      "---  ------  --------------  -----  \n",
      " 0   用户id    5735 non-null   int64  \n",
      " 1   进账单数    5735 non-null   float64\n",
      " 2   进账金额    5735 non-null   float64\n",
      "dtypes: float64(2), int64(1)\n",
      "memory usage: 179.2 KB\n",
      "<class 'pandas.core.frame.DataFrame'>\n",
      "Int64Index: 5735 entries, 0 to 5734\n",
      "Data columns (total 3 columns):\n",
      " #   Column  Non-Null Count  Dtype  \n",
      "---  ------  --------------  -----  \n",
      " 0   用户id    5735 non-null   int64  \n",
      " 1   支出单数    5735 non-null   float64\n",
      " 2   支出金额    5735 non-null   float64\n",
      "dtypes: float64(2), int64(1)\n",
      "memory usage: 179.2 KB\n",
      "<class 'pandas.core.frame.DataFrame'>\n",
      "Int64Index: 5735 entries, 0 to 5734\n",
      "Data columns (total 3 columns):\n",
      " #   Column  Non-Null Count  Dtype  \n",
      "---  ------  --------------  -----  \n",
      " 0   用户id    5735 non-null   int64  \n",
      " 1   工资笔数    5735 non-null   float64\n",
      " 2   工资收入    5735 non-null   float64\n",
      "dtypes: float64(2), int64(1)\n",
      "memory usage: 179.2 KB\n"
     ]
    }
   ],
   "source": [
    "d1=pd.merge(left=user2, right=c1, how='left', on='用户id') # 匹配最终分析的user2个客户收入情况\n",
    "d1=d1.fillna(0)\n",
    "d1.info()\n",
    "d2=pd.merge(left=user2, right=c2, how='left', on='用户id')\n",
    "d2=d2.fillna(0)\n",
    "d2.info()\n",
    "d3=pd.merge(left=user2, right=c3, how='left', on='用户id')\n",
    "d3=d3.fillna(0)\n",
    "d3.info()"
   ]
  },
  {
   "cell_type": "code",
   "execution_count": 34,
   "metadata": {
    "ExecuteTime": {
     "end_time": "2020-03-21T02:18:06.252998Z",
     "start_time": "2020-03-21T02:18:06.051986Z"
    }
   },
   "outputs": [
    {
     "data": {
      "text/html": [
       "<div>\n",
       "<style scoped>\n",
       "    .dataframe tbody tr th:only-of-type {\n",
       "        vertical-align: middle;\n",
       "    }\n",
       "\n",
       "    .dataframe tbody tr th {\n",
       "        vertical-align: top;\n",
       "    }\n",
       "\n",
       "    .dataframe thead th {\n",
       "        text-align: right;\n",
       "    }\n",
       "</style>\n",
       "<table border=\"1\" class=\"dataframe\">\n",
       "  <thead>\n",
       "    <tr style=\"text-align: right;\">\n",
       "      <th></th>\n",
       "      <th>用户id</th>\n",
       "      <th>进账单数</th>\n",
       "      <th>进账金额</th>\n",
       "      <th>支出单数</th>\n",
       "      <th>支出金额</th>\n",
       "      <th>工资笔数</th>\n",
       "      <th>工资收入</th>\n",
       "    </tr>\n",
       "  </thead>\n",
       "  <tbody>\n",
       "    <tr>\n",
       "      <th>0</th>\n",
       "      <td>6965</td>\n",
       "      <td>75.0</td>\n",
       "      <td>972.850228</td>\n",
       "      <td>289.0</td>\n",
       "      <td>3234.531975</td>\n",
       "      <td>0.0</td>\n",
       "      <td>0.000000</td>\n",
       "    </tr>\n",
       "    <tr>\n",
       "      <th>1</th>\n",
       "      <td>1265</td>\n",
       "      <td>125.0</td>\n",
       "      <td>1708.206195</td>\n",
       "      <td>294.0</td>\n",
       "      <td>3662.457063</td>\n",
       "      <td>0.0</td>\n",
       "      <td>0.000000</td>\n",
       "    </tr>\n",
       "    <tr>\n",
       "      <th>2</th>\n",
       "      <td>2583</td>\n",
       "      <td>213.0</td>\n",
       "      <td>2736.475318</td>\n",
       "      <td>618.0</td>\n",
       "      <td>7064.310678</td>\n",
       "      <td>0.0</td>\n",
       "      <td>0.000000</td>\n",
       "    </tr>\n",
       "    <tr>\n",
       "      <th>3</th>\n",
       "      <td>29165</td>\n",
       "      <td>189.0</td>\n",
       "      <td>2277.607807</td>\n",
       "      <td>473.0</td>\n",
       "      <td>5099.861165</td>\n",
       "      <td>14.0</td>\n",
       "      <td>202.630532</td>\n",
       "    </tr>\n",
       "    <tr>\n",
       "      <th>4</th>\n",
       "      <td>2443</td>\n",
       "      <td>252.0</td>\n",
       "      <td>3020.288782</td>\n",
       "      <td>341.0</td>\n",
       "      <td>3762.790364</td>\n",
       "      <td>0.0</td>\n",
       "      <td>0.000000</td>\n",
       "    </tr>\n",
       "  </tbody>\n",
       "</table>\n",
       "</div>"
      ],
      "text/plain": [
       "    用户id   进账单数         进账金额   支出单数         支出金额  工资笔数        工资收入\n",
       "0   6965   75.0   972.850228  289.0  3234.531975   0.0    0.000000\n",
       "1   1265  125.0  1708.206195  294.0  3662.457063   0.0    0.000000\n",
       "2   2583  213.0  2736.475318  618.0  7064.310678   0.0    0.000000\n",
       "3  29165  189.0  2277.607807  473.0  5099.861165  14.0  202.630532\n",
       "4   2443  252.0  3020.288782  341.0  3762.790364   0.0    0.000000"
      ]
     },
     "execution_count": 34,
     "metadata": {},
     "output_type": "execute_result"
    }
   ],
   "source": [
    "bank_train=d1.merge(d2)\n",
    "bank_train=bank_train.merge(d3)\n",
    "bank_train.head()"
   ]
  },
  {
   "cell_type": "markdown",
   "metadata": {},
   "source": [
    "## 浏览表"
   ]
  },
  {
   "cell_type": "markdown",
   "metadata": {},
   "source": [
    "先剔除5735以外的数据，再统计每个用户的浏览记录（count）"
   ]
  },
  {
   "cell_type": "code",
   "execution_count": 35,
   "metadata": {
    "ExecuteTime": {
     "end_time": "2020-03-21T02:18:43.805146Z",
     "start_time": "2020-03-21T02:18:07.936094Z"
    }
   },
   "outputs": [
    {
     "data": {
      "text/html": [
       "<div>\n",
       "<style scoped>\n",
       "    .dataframe tbody tr th:only-of-type {\n",
       "        vertical-align: middle;\n",
       "    }\n",
       "\n",
       "    .dataframe tbody tr th {\n",
       "        vertical-align: top;\n",
       "    }\n",
       "\n",
       "    .dataframe thead th {\n",
       "        text-align: right;\n",
       "    }\n",
       "</style>\n",
       "<table border=\"1\" class=\"dataframe\">\n",
       "  <thead>\n",
       "    <tr style=\"text-align: right;\">\n",
       "      <th></th>\n",
       "      <th>用户id</th>\n",
       "      <th>时间戳</th>\n",
       "      <th>浏览行为数据</th>\n",
       "      <th>浏览子行为编号</th>\n",
       "    </tr>\n",
       "  </thead>\n",
       "  <tbody>\n",
       "    <tr>\n",
       "      <th>0</th>\n",
       "      <td>6965</td>\n",
       "      <td>5891711961</td>\n",
       "      <td>201</td>\n",
       "      <td>1</td>\n",
       "    </tr>\n",
       "    <tr>\n",
       "      <th>1</th>\n",
       "      <td>6965</td>\n",
       "      <td>5891711898</td>\n",
       "      <td>201</td>\n",
       "      <td>1</td>\n",
       "    </tr>\n",
       "    <tr>\n",
       "      <th>2</th>\n",
       "      <td>6965</td>\n",
       "      <td>5891711898</td>\n",
       "      <td>50</td>\n",
       "      <td>6</td>\n",
       "    </tr>\n",
       "    <tr>\n",
       "      <th>3</th>\n",
       "      <td>6965</td>\n",
       "      <td>5891711898</td>\n",
       "      <td>173</td>\n",
       "      <td>1</td>\n",
       "    </tr>\n",
       "    <tr>\n",
       "      <th>4</th>\n",
       "      <td>6965</td>\n",
       "      <td>5891711898</td>\n",
       "      <td>164</td>\n",
       "      <td>4</td>\n",
       "    </tr>\n",
       "    <tr>\n",
       "      <th>...</th>\n",
       "      <td>...</td>\n",
       "      <td>...</td>\n",
       "      <td>...</td>\n",
       "      <td>...</td>\n",
       "    </tr>\n",
       "    <tr>\n",
       "      <th>3899703</th>\n",
       "      <td>8917</td>\n",
       "      <td>5924543657</td>\n",
       "      <td>110</td>\n",
       "      <td>7</td>\n",
       "    </tr>\n",
       "    <tr>\n",
       "      <th>3899704</th>\n",
       "      <td>8917</td>\n",
       "      <td>5924543657</td>\n",
       "      <td>173</td>\n",
       "      <td>1</td>\n",
       "    </tr>\n",
       "    <tr>\n",
       "      <th>3899705</th>\n",
       "      <td>8917</td>\n",
       "      <td>5924543657</td>\n",
       "      <td>101</td>\n",
       "      <td>1</td>\n",
       "    </tr>\n",
       "    <tr>\n",
       "      <th>3899706</th>\n",
       "      <td>8917</td>\n",
       "      <td>5924543657</td>\n",
       "      <td>118</td>\n",
       "      <td>1</td>\n",
       "    </tr>\n",
       "    <tr>\n",
       "      <th>3899707</th>\n",
       "      <td>8917</td>\n",
       "      <td>5923796793</td>\n",
       "      <td>101</td>\n",
       "      <td>1</td>\n",
       "    </tr>\n",
       "  </tbody>\n",
       "</table>\n",
       "<p>28675 rows × 4 columns</p>\n",
       "</div>"
      ],
      "text/plain": [
       "         用户id         时间戳  浏览行为数据  浏览子行为编号\n",
       "0        6965  5891711961     201        1\n",
       "1        6965  5891711898     201        1\n",
       "2        6965  5891711898      50        6\n",
       "3        6965  5891711898     173        1\n",
       "4        6965  5891711898     164        4\n",
       "...       ...         ...     ...      ...\n",
       "3899703  8917  5924543657     110        7\n",
       "3899704  8917  5924543657     173        1\n",
       "3899705  8917  5924543657     101        1\n",
       "3899706  8917  5924543657     118        1\n",
       "3899707  8917  5923796793     101        1\n",
       "\n",
       "[28675 rows x 4 columns]"
      ]
     },
     "execution_count": 35,
     "metadata": {},
     "output_type": "execute_result"
    }
   ],
   "source": [
    "browse_history_select=pd.merge(left=user2, right=df_BrowseHistory_train, how='left', on='用户id')\n",
    "g1=browse_history_select.groupby(['用户id'], as_index=False)\n",
    "g1.head()"
   ]
  },
  {
   "cell_type": "code",
   "execution_count": 36,
   "metadata": {
    "ExecuteTime": {
     "end_time": "2020-03-21T02:18:44.463183Z",
     "start_time": "2020-03-21T02:18:43.891151Z"
    }
   },
   "outputs": [
    {
     "data": {
      "text/html": [
       "<div>\n",
       "<style scoped>\n",
       "    .dataframe tbody tr th:only-of-type {\n",
       "        vertical-align: middle;\n",
       "    }\n",
       "\n",
       "    .dataframe tbody tr th {\n",
       "        vertical-align: top;\n",
       "    }\n",
       "\n",
       "    .dataframe thead th {\n",
       "        text-align: right;\n",
       "    }\n",
       "</style>\n",
       "<table border=\"1\" class=\"dataframe\">\n",
       "  <thead>\n",
       "    <tr style=\"text-align: right;\">\n",
       "      <th></th>\n",
       "      <th>用户id</th>\n",
       "      <th>浏览行为数据</th>\n",
       "    </tr>\n",
       "  </thead>\n",
       "  <tbody>\n",
       "    <tr>\n",
       "      <th>0</th>\n",
       "      <td>6965</td>\n",
       "      <td>1710</td>\n",
       "    </tr>\n",
       "    <tr>\n",
       "      <th>1</th>\n",
       "      <td>1265</td>\n",
       "      <td>420</td>\n",
       "    </tr>\n",
       "    <tr>\n",
       "      <th>2</th>\n",
       "      <td>2583</td>\n",
       "      <td>702</td>\n",
       "    </tr>\n",
       "    <tr>\n",
       "      <th>3</th>\n",
       "      <td>29165</td>\n",
       "      <td>783</td>\n",
       "    </tr>\n",
       "    <tr>\n",
       "      <th>4</th>\n",
       "      <td>2443</td>\n",
       "      <td>671</td>\n",
       "    </tr>\n",
       "  </tbody>\n",
       "</table>\n",
       "</div>"
      ],
      "text/plain": [
       "    用户id  浏览行为数据\n",
       "0   6965    1710\n",
       "1   1265     420\n",
       "2   2583     702\n",
       "3  29165     783\n",
       "4   2443     671"
      ]
     },
     "execution_count": 36,
     "metadata": {},
     "output_type": "execute_result"
    }
   ],
   "source": [
    "h1=g1['浏览行为数据'].agg({'浏览行为数据':'count'})\n",
    "browse_train=pd.merge(left=user2, right=h1, how='inner', on='用户id')\n",
    "browse_train.head()"
   ]
  },
  {
   "cell_type": "markdown",
   "metadata": {},
   "source": [
    "## 账单表:"
   ]
  },
  {
   "cell_type": "markdown",
   "metadata": {},
   "source": [
    "去掉了时间、银行id、还款状态这几个变量，按用户id分组后对每个字段均值化处理"
   ]
  },
  {
   "cell_type": "code",
   "execution_count": 37,
   "metadata": {
    "ExecuteTime": {
     "end_time": "2020-03-21T02:18:44.956212Z",
     "start_time": "2020-03-21T02:18:44.482185Z"
    }
   },
   "outputs": [
    {
     "data": {
      "text/plain": [
       "Index(['用户id', '账单时间戳', '银行id', '上期账单金额', '上期还款金额', '信用卡额度', '本期账单余额',\n",
       "       '本期账单最低还款额', '消费笔数', '本期账单金额', '调整金额', '循环利息', '可用金额', '预借现金额度',\n",
       "       '还款状态'],\n",
       "      dtype='object')"
      ]
     },
     "execution_count": 37,
     "metadata": {},
     "output_type": "execute_result"
    },
    {
     "data": {
      "text/html": [
       "<div>\n",
       "<style scoped>\n",
       "    .dataframe tbody tr th:only-of-type {\n",
       "        vertical-align: middle;\n",
       "    }\n",
       "\n",
       "    .dataframe tbody tr th {\n",
       "        vertical-align: top;\n",
       "    }\n",
       "\n",
       "    .dataframe thead th {\n",
       "        text-align: right;\n",
       "    }\n",
       "</style>\n",
       "<table border=\"1\" class=\"dataframe\">\n",
       "  <thead>\n",
       "    <tr style=\"text-align: right;\">\n",
       "      <th></th>\n",
       "      <th>用户id</th>\n",
       "      <th>账单时间戳</th>\n",
       "      <th>银行id</th>\n",
       "      <th>上期账单金额</th>\n",
       "      <th>上期还款金额</th>\n",
       "      <th>信用卡额度</th>\n",
       "      <th>本期账单余额</th>\n",
       "      <th>本期账单最低还款额</th>\n",
       "      <th>消费笔数</th>\n",
       "      <th>本期账单金额</th>\n",
       "      <th>调整金额</th>\n",
       "      <th>循环利息</th>\n",
       "      <th>可用金额</th>\n",
       "      <th>预借现金额度</th>\n",
       "      <th>还款状态</th>\n",
       "    </tr>\n",
       "  </thead>\n",
       "  <tbody>\n",
       "    <tr>\n",
       "      <th>0</th>\n",
       "      <td>3150</td>\n",
       "      <td>5906744363</td>\n",
       "      <td>6</td>\n",
       "      <td>18.626118</td>\n",
       "      <td>18.661937</td>\n",
       "      <td>20.664418</td>\n",
       "      <td>18.905766</td>\n",
       "      <td>17.847133</td>\n",
       "      <td>1</td>\n",
       "      <td>0.0</td>\n",
       "      <td>0.0</td>\n",
       "      <td>0.0</td>\n",
       "      <td>0.0</td>\n",
       "      <td>19.971271</td>\n",
       "      <td>0</td>\n",
       "    </tr>\n",
       "    <tr>\n",
       "      <th>1</th>\n",
       "      <td>3150</td>\n",
       "      <td>5906744401</td>\n",
       "      <td>6</td>\n",
       "      <td>18.905766</td>\n",
       "      <td>18.909954</td>\n",
       "      <td>20.664418</td>\n",
       "      <td>19.113305</td>\n",
       "      <td>17.911506</td>\n",
       "      <td>1</td>\n",
       "      <td>0.0</td>\n",
       "      <td>0.0</td>\n",
       "      <td>0.0</td>\n",
       "      <td>0.0</td>\n",
       "      <td>19.971271</td>\n",
       "      <td>0</td>\n",
       "    </tr>\n",
       "    <tr>\n",
       "      <th>2</th>\n",
       "      <td>3150</td>\n",
       "      <td>5906744427</td>\n",
       "      <td>6</td>\n",
       "      <td>19.113305</td>\n",
       "      <td>19.150290</td>\n",
       "      <td>20.664418</td>\n",
       "      <td>19.300194</td>\n",
       "      <td>17.977610</td>\n",
       "      <td>1</td>\n",
       "      <td>0.0</td>\n",
       "      <td>0.0</td>\n",
       "      <td>0.0</td>\n",
       "      <td>0.0</td>\n",
       "      <td>19.971271</td>\n",
       "      <td>0</td>\n",
       "    </tr>\n",
       "    <tr>\n",
       "      <th>3</th>\n",
       "      <td>3150</td>\n",
       "      <td>5906744515</td>\n",
       "      <td>6</td>\n",
       "      <td>19.300194</td>\n",
       "      <td>19.300280</td>\n",
       "      <td>21.000890</td>\n",
       "      <td>20.303240</td>\n",
       "      <td>18.477177</td>\n",
       "      <td>1</td>\n",
       "      <td>0.0</td>\n",
       "      <td>0.0</td>\n",
       "      <td>0.0</td>\n",
       "      <td>0.0</td>\n",
       "      <td>20.307743</td>\n",
       "      <td>0</td>\n",
       "    </tr>\n",
       "    <tr>\n",
       "      <th>4</th>\n",
       "      <td>3150</td>\n",
       "      <td>5906744562</td>\n",
       "      <td>6</td>\n",
       "      <td>20.303240</td>\n",
       "      <td>20.307744</td>\n",
       "      <td>21.000890</td>\n",
       "      <td>20.357134</td>\n",
       "      <td>18.510985</td>\n",
       "      <td>1</td>\n",
       "      <td>0.0</td>\n",
       "      <td>0.0</td>\n",
       "      <td>0.0</td>\n",
       "      <td>0.0</td>\n",
       "      <td>20.307743</td>\n",
       "      <td>0</td>\n",
       "    </tr>\n",
       "  </tbody>\n",
       "</table>\n",
       "</div>"
      ],
      "text/plain": [
       "   用户id       账单时间戳  银行id     上期账单金额     上期还款金额      信用卡额度     本期账单余额  \\\n",
       "0  3150  5906744363     6  18.626118  18.661937  20.664418  18.905766   \n",
       "1  3150  5906744401     6  18.905766  18.909954  20.664418  19.113305   \n",
       "2  3150  5906744427     6  19.113305  19.150290  20.664418  19.300194   \n",
       "3  3150  5906744515     6  19.300194  19.300280  21.000890  20.303240   \n",
       "4  3150  5906744562     6  20.303240  20.307744  21.000890  20.357134   \n",
       "\n",
       "   本期账单最低还款额  消费笔数  本期账单金额  调整金额  循环利息  可用金额     预借现金额度  还款状态  \n",
       "0  17.847133     1     0.0   0.0   0.0   0.0  19.971271     0  \n",
       "1  17.911506     1     0.0   0.0   0.0   0.0  19.971271     0  \n",
       "2  17.977610     1     0.0   0.0   0.0   0.0  19.971271     0  \n",
       "3  18.477177     1     0.0   0.0   0.0   0.0  20.307743     0  \n",
       "4  18.510985     1     0.0   0.0   0.0   0.0  20.307743     0  "
      ]
     },
     "execution_count": 37,
     "metadata": {},
     "output_type": "execute_result"
    }
   ],
   "source": [
    "df_BillDetail_train.columns\n",
    "df_BillDetail_train.head()"
   ]
  },
  {
   "cell_type": "code",
   "execution_count": 38,
   "metadata": {
    "ExecuteTime": {
     "end_time": "2020-03-21T02:18:57.824948Z",
     "start_time": "2020-03-21T02:18:45.024216Z"
    }
   },
   "outputs": [
    {
     "name": "stderr",
     "output_type": "stream",
     "text": [
      "/Users/jim/opt/anaconda3/lib/python3.7/site-packages/ipykernel_launcher.py:4: FutureWarning: Indexing with multiple keys (implicitly converted to a tuple of keys) will be deprecated, use a list instead.\n",
      "  after removing the cwd from sys.path.\n"
     ]
    },
    {
     "data": {
      "text/html": [
       "<div>\n",
       "<style scoped>\n",
       "    .dataframe tbody tr th:only-of-type {\n",
       "        vertical-align: middle;\n",
       "    }\n",
       "\n",
       "    .dataframe tbody tr th {\n",
       "        vertical-align: top;\n",
       "    }\n",
       "\n",
       "    .dataframe thead th {\n",
       "        text-align: right;\n",
       "    }\n",
       "</style>\n",
       "<table border=\"1\" class=\"dataframe\">\n",
       "  <thead>\n",
       "    <tr style=\"text-align: right;\">\n",
       "      <th></th>\n",
       "      <th>用户id</th>\n",
       "      <th>上期账单金额</th>\n",
       "      <th>上期还款金额</th>\n",
       "      <th>信用卡额度</th>\n",
       "      <th>本期账单余额</th>\n",
       "      <th>本期账单最低还款额</th>\n",
       "      <th>消费笔数</th>\n",
       "      <th>本期账单金额</th>\n",
       "      <th>调整金额</th>\n",
       "      <th>循环利息</th>\n",
       "      <th>可用金额</th>\n",
       "      <th>预借现金额度</th>\n",
       "    </tr>\n",
       "  </thead>\n",
       "  <tbody>\n",
       "    <tr>\n",
       "      <th>0</th>\n",
       "      <td>6965</td>\n",
       "      <td>10.002659</td>\n",
       "      <td>12.733206</td>\n",
       "      <td>19.971271</td>\n",
       "      <td>19.957631</td>\n",
       "      <td>17.220095</td>\n",
       "      <td>10.750000</td>\n",
       "      <td>18.825107</td>\n",
       "      <td>0.000000</td>\n",
       "      <td>15.520681</td>\n",
       "      <td>0.0</td>\n",
       "      <td>19.624697</td>\n",
       "    </tr>\n",
       "    <tr>\n",
       "      <th>1</th>\n",
       "      <td>1265</td>\n",
       "      <td>17.715686</td>\n",
       "      <td>14.191595</td>\n",
       "      <td>19.973385</td>\n",
       "      <td>19.909123</td>\n",
       "      <td>17.866453</td>\n",
       "      <td>1.444444</td>\n",
       "      <td>19.007284</td>\n",
       "      <td>0.000000</td>\n",
       "      <td>5.175483</td>\n",
       "      <td>0.0</td>\n",
       "      <td>9.702118</td>\n",
       "    </tr>\n",
       "    <tr>\n",
       "      <th>2</th>\n",
       "      <td>2583</td>\n",
       "      <td>15.192264</td>\n",
       "      <td>15.265601</td>\n",
       "      <td>18.307126</td>\n",
       "      <td>17.736937</td>\n",
       "      <td>10.292788</td>\n",
       "      <td>1.791667</td>\n",
       "      <td>17.199134</td>\n",
       "      <td>0.000000</td>\n",
       "      <td>6.478271</td>\n",
       "      <td>0.0</td>\n",
       "      <td>11.014650</td>\n",
       "    </tr>\n",
       "    <tr>\n",
       "      <th>3</th>\n",
       "      <td>29165</td>\n",
       "      <td>-6.973236</td>\n",
       "      <td>12.852082</td>\n",
       "      <td>19.740221</td>\n",
       "      <td>17.921520</td>\n",
       "      <td>15.902257</td>\n",
       "      <td>0.000000</td>\n",
       "      <td>12.969975</td>\n",
       "      <td>0.000000</td>\n",
       "      <td>0.000000</td>\n",
       "      <td>0.0</td>\n",
       "      <td>6.001719</td>\n",
       "    </tr>\n",
       "    <tr>\n",
       "      <th>4</th>\n",
       "      <td>2443</td>\n",
       "      <td>16.759482</td>\n",
       "      <td>4.151986</td>\n",
       "      <td>17.309158</td>\n",
       "      <td>19.397134</td>\n",
       "      <td>18.206423</td>\n",
       "      <td>2.251572</td>\n",
       "      <td>15.892834</td>\n",
       "      <td>0.229931</td>\n",
       "      <td>4.082358</td>\n",
       "      <td>0.0</td>\n",
       "      <td>10.873986</td>\n",
       "    </tr>\n",
       "  </tbody>\n",
       "</table>\n",
       "</div>"
      ],
      "text/plain": [
       "    用户id     上期账单金额     上期还款金额      信用卡额度     本期账单余额  本期账单最低还款额       消费笔数  \\\n",
       "0   6965  10.002659  12.733206  19.971271  19.957631  17.220095  10.750000   \n",
       "1   1265  17.715686  14.191595  19.973385  19.909123  17.866453   1.444444   \n",
       "2   2583  15.192264  15.265601  18.307126  17.736937  10.292788   1.791667   \n",
       "3  29165  -6.973236  12.852082  19.740221  17.921520  15.902257   0.000000   \n",
       "4   2443  16.759482   4.151986  17.309158  19.397134  18.206423   2.251572   \n",
       "\n",
       "      本期账单金额      调整金额       循环利息  可用金额     预借现金额度  \n",
       "0  18.825107  0.000000  15.520681   0.0  19.624697  \n",
       "1  19.007284  0.000000   5.175483   0.0   9.702118  \n",
       "2  17.199134  0.000000   6.478271   0.0  11.014650  \n",
       "3  12.969975  0.000000   0.000000   0.0   6.001719  \n",
       "4  15.892834  0.229931   4.082358   0.0  10.873986  "
      ]
     },
     "execution_count": 38,
     "metadata": {},
     "output_type": "execute_result"
    }
   ],
   "source": [
    "bill_select=pd.merge(left=user2, right=df_BillDetail_train, how='right', on='用户id')\n",
    "bill_select.drop(['账单时间戳','银行id','还款状态'], axis=1, inplace=True)\n",
    "e1=bill_select.groupby(['用户id'], as_index=False)\n",
    "f1=e1['上期账单金额', '上期还款金额', '信用卡额度', '本期账单余额','本期账单最低还款额', '消费笔数', '本期账单金额', '调整金额', '循环利息', '可用金额', '预借现金额度'].agg(np.mean)\n",
    "bill_train = pd.merge(left=user2, right=f1, how='left', on='用户id')\n",
    "bill_train.head()"
   ]
  },
  {
   "cell_type": "markdown",
   "metadata": {},
   "source": [
    "(4) 逾期表,用户表："
   ]
  },
  {
   "cell_type": "code",
   "execution_count": 39,
   "metadata": {
    "ExecuteTime": {
     "end_time": "2020-03-21T02:18:58.990014Z",
     "start_time": "2020-03-21T02:18:57.827948Z"
    }
   },
   "outputs": [
    {
     "data": {
      "text/html": [
       "<div>\n",
       "<style scoped>\n",
       "    .dataframe tbody tr th:only-of-type {\n",
       "        vertical-align: middle;\n",
       "    }\n",
       "\n",
       "    .dataframe tbody tr th {\n",
       "        vertical-align: top;\n",
       "    }\n",
       "\n",
       "    .dataframe thead th {\n",
       "        text-align: right;\n",
       "    }\n",
       "</style>\n",
       "<table border=\"1\" class=\"dataframe\">\n",
       "  <thead>\n",
       "    <tr style=\"text-align: right;\">\n",
       "      <th></th>\n",
       "      <th>用户id</th>\n",
       "      <th>样本标签</th>\n",
       "    </tr>\n",
       "  </thead>\n",
       "  <tbody>\n",
       "    <tr>\n",
       "      <th>0</th>\n",
       "      <td>6965</td>\n",
       "      <td>0</td>\n",
       "    </tr>\n",
       "    <tr>\n",
       "      <th>1</th>\n",
       "      <td>1265</td>\n",
       "      <td>0</td>\n",
       "    </tr>\n",
       "    <tr>\n",
       "      <th>2</th>\n",
       "      <td>2583</td>\n",
       "      <td>0</td>\n",
       "    </tr>\n",
       "    <tr>\n",
       "      <th>3</th>\n",
       "      <td>29165</td>\n",
       "      <td>0</td>\n",
       "    </tr>\n",
       "    <tr>\n",
       "      <th>4</th>\n",
       "      <td>2443</td>\n",
       "      <td>0</td>\n",
       "    </tr>\n",
       "  </tbody>\n",
       "</table>\n",
       "</div>"
      ],
      "text/plain": [
       "    用户id  样本标签\n",
       "0   6965     0\n",
       "1   1265     0\n",
       "2   2583     0\n",
       "3  29165     0\n",
       "4   2443     0"
      ]
     },
     "execution_count": 39,
     "metadata": {},
     "output_type": "execute_result"
    },
    {
     "data": {
      "text/html": [
       "<div>\n",
       "<style scoped>\n",
       "    .dataframe tbody tr th:only-of-type {\n",
       "        vertical-align: middle;\n",
       "    }\n",
       "\n",
       "    .dataframe tbody tr th {\n",
       "        vertical-align: top;\n",
       "    }\n",
       "\n",
       "    .dataframe thead th {\n",
       "        text-align: right;\n",
       "    }\n",
       "</style>\n",
       "<table border=\"1\" class=\"dataframe\">\n",
       "  <thead>\n",
       "    <tr style=\"text-align: right;\">\n",
       "      <th></th>\n",
       "      <th>用户id</th>\n",
       "      <th>性别</th>\n",
       "      <th>职业</th>\n",
       "      <th>教育程度</th>\n",
       "      <th>婚姻状态</th>\n",
       "      <th>户口类型</th>\n",
       "    </tr>\n",
       "  </thead>\n",
       "  <tbody>\n",
       "    <tr>\n",
       "      <th>0</th>\n",
       "      <td>6965</td>\n",
       "      <td>1</td>\n",
       "      <td>2</td>\n",
       "      <td>4</td>\n",
       "      <td>3</td>\n",
       "      <td>2</td>\n",
       "    </tr>\n",
       "    <tr>\n",
       "      <th>1</th>\n",
       "      <td>1265</td>\n",
       "      <td>1</td>\n",
       "      <td>3</td>\n",
       "      <td>4</td>\n",
       "      <td>3</td>\n",
       "      <td>1</td>\n",
       "    </tr>\n",
       "    <tr>\n",
       "      <th>2</th>\n",
       "      <td>2583</td>\n",
       "      <td>2</td>\n",
       "      <td>2</td>\n",
       "      <td>2</td>\n",
       "      <td>1</td>\n",
       "      <td>1</td>\n",
       "    </tr>\n",
       "    <tr>\n",
       "      <th>3</th>\n",
       "      <td>29165</td>\n",
       "      <td>1</td>\n",
       "      <td>2</td>\n",
       "      <td>4</td>\n",
       "      <td>1</td>\n",
       "      <td>4</td>\n",
       "    </tr>\n",
       "    <tr>\n",
       "      <th>4</th>\n",
       "      <td>2443</td>\n",
       "      <td>1</td>\n",
       "      <td>4</td>\n",
       "      <td>4</td>\n",
       "      <td>3</td>\n",
       "      <td>1</td>\n",
       "    </tr>\n",
       "  </tbody>\n",
       "</table>\n",
       "</div>"
      ],
      "text/plain": [
       "    用户id  性别  职业  教育程度  婚姻状态  户口类型\n",
       "0   6965   1   2     4     3     2\n",
       "1   1265   1   3     4     3     1\n",
       "2   2583   2   2     2     1     1\n",
       "3  29165   1   2     4     1     4\n",
       "4   2443   1   4     4     3     1"
      ]
     },
     "execution_count": 39,
     "metadata": {},
     "output_type": "execute_result"
    }
   ],
   "source": [
    "overdue_train=pd.merge(left=df_overdue_train,right=user2, how='right', on='用户id')\n",
    "user_train=pd.merge(left=user2, right=df_UserInfo_train, how='left', on='用户id')\n",
    "overdue_train.head()\n",
    "user_train.head()"
   ]
  },
  {
   "cell_type": "code",
   "execution_count": 40,
   "metadata": {
    "ExecuteTime": {
     "end_time": "2020-03-21T02:18:59.338034Z",
     "start_time": "2020-03-21T02:18:59.017016Z"
    }
   },
   "outputs": [
    {
     "data": {
      "text/html": [
       "<div>\n",
       "<style scoped>\n",
       "    .dataframe tbody tr th:only-of-type {\n",
       "        vertical-align: middle;\n",
       "    }\n",
       "\n",
       "    .dataframe tbody tr th {\n",
       "        vertical-align: top;\n",
       "    }\n",
       "\n",
       "    .dataframe thead th {\n",
       "        text-align: right;\n",
       "    }\n",
       "</style>\n",
       "<table border=\"1\" class=\"dataframe\">\n",
       "  <thead>\n",
       "    <tr style=\"text-align: right;\">\n",
       "      <th></th>\n",
       "      <th>用户id</th>\n",
       "      <th>性别</th>\n",
       "      <th>职业</th>\n",
       "      <th>教育程度</th>\n",
       "      <th>婚姻状态</th>\n",
       "      <th>户口类型</th>\n",
       "      <th>进账单数</th>\n",
       "      <th>进账金额</th>\n",
       "      <th>支出单数</th>\n",
       "      <th>支出金额</th>\n",
       "      <th>...</th>\n",
       "      <th>本期账单余额</th>\n",
       "      <th>本期账单最低还款额</th>\n",
       "      <th>消费笔数</th>\n",
       "      <th>本期账单金额</th>\n",
       "      <th>调整金额</th>\n",
       "      <th>循环利息</th>\n",
       "      <th>可用金额</th>\n",
       "      <th>预借现金额度</th>\n",
       "      <th>浏览行为数据</th>\n",
       "      <th>样本标签</th>\n",
       "    </tr>\n",
       "  </thead>\n",
       "  <tbody>\n",
       "    <tr>\n",
       "      <th>0</th>\n",
       "      <td>6965</td>\n",
       "      <td>1</td>\n",
       "      <td>2</td>\n",
       "      <td>4</td>\n",
       "      <td>3</td>\n",
       "      <td>2</td>\n",
       "      <td>75.0</td>\n",
       "      <td>972.850228</td>\n",
       "      <td>289.0</td>\n",
       "      <td>3234.531975</td>\n",
       "      <td>...</td>\n",
       "      <td>19.957631</td>\n",
       "      <td>17.220095</td>\n",
       "      <td>10.750000</td>\n",
       "      <td>18.825107</td>\n",
       "      <td>0.000000</td>\n",
       "      <td>15.520681</td>\n",
       "      <td>0.0</td>\n",
       "      <td>19.624697</td>\n",
       "      <td>1710</td>\n",
       "      <td>0</td>\n",
       "    </tr>\n",
       "    <tr>\n",
       "      <th>1</th>\n",
       "      <td>1265</td>\n",
       "      <td>1</td>\n",
       "      <td>3</td>\n",
       "      <td>4</td>\n",
       "      <td>3</td>\n",
       "      <td>1</td>\n",
       "      <td>125.0</td>\n",
       "      <td>1708.206195</td>\n",
       "      <td>294.0</td>\n",
       "      <td>3662.457063</td>\n",
       "      <td>...</td>\n",
       "      <td>19.909123</td>\n",
       "      <td>17.866453</td>\n",
       "      <td>1.444444</td>\n",
       "      <td>19.007284</td>\n",
       "      <td>0.000000</td>\n",
       "      <td>5.175483</td>\n",
       "      <td>0.0</td>\n",
       "      <td>9.702118</td>\n",
       "      <td>420</td>\n",
       "      <td>0</td>\n",
       "    </tr>\n",
       "    <tr>\n",
       "      <th>2</th>\n",
       "      <td>2583</td>\n",
       "      <td>2</td>\n",
       "      <td>2</td>\n",
       "      <td>2</td>\n",
       "      <td>1</td>\n",
       "      <td>1</td>\n",
       "      <td>213.0</td>\n",
       "      <td>2736.475318</td>\n",
       "      <td>618.0</td>\n",
       "      <td>7064.310678</td>\n",
       "      <td>...</td>\n",
       "      <td>17.736937</td>\n",
       "      <td>10.292788</td>\n",
       "      <td>1.791667</td>\n",
       "      <td>17.199134</td>\n",
       "      <td>0.000000</td>\n",
       "      <td>6.478271</td>\n",
       "      <td>0.0</td>\n",
       "      <td>11.014650</td>\n",
       "      <td>702</td>\n",
       "      <td>0</td>\n",
       "    </tr>\n",
       "    <tr>\n",
       "      <th>3</th>\n",
       "      <td>29165</td>\n",
       "      <td>1</td>\n",
       "      <td>2</td>\n",
       "      <td>4</td>\n",
       "      <td>1</td>\n",
       "      <td>4</td>\n",
       "      <td>189.0</td>\n",
       "      <td>2277.607807</td>\n",
       "      <td>473.0</td>\n",
       "      <td>5099.861165</td>\n",
       "      <td>...</td>\n",
       "      <td>17.921520</td>\n",
       "      <td>15.902257</td>\n",
       "      <td>0.000000</td>\n",
       "      <td>12.969975</td>\n",
       "      <td>0.000000</td>\n",
       "      <td>0.000000</td>\n",
       "      <td>0.0</td>\n",
       "      <td>6.001719</td>\n",
       "      <td>783</td>\n",
       "      <td>0</td>\n",
       "    </tr>\n",
       "    <tr>\n",
       "      <th>4</th>\n",
       "      <td>2443</td>\n",
       "      <td>1</td>\n",
       "      <td>4</td>\n",
       "      <td>4</td>\n",
       "      <td>3</td>\n",
       "      <td>1</td>\n",
       "      <td>252.0</td>\n",
       "      <td>3020.288782</td>\n",
       "      <td>341.0</td>\n",
       "      <td>3762.790364</td>\n",
       "      <td>...</td>\n",
       "      <td>19.397134</td>\n",
       "      <td>18.206423</td>\n",
       "      <td>2.251572</td>\n",
       "      <td>15.892834</td>\n",
       "      <td>0.229931</td>\n",
       "      <td>4.082358</td>\n",
       "      <td>0.0</td>\n",
       "      <td>10.873986</td>\n",
       "      <td>671</td>\n",
       "      <td>0</td>\n",
       "    </tr>\n",
       "  </tbody>\n",
       "</table>\n",
       "<p>5 rows × 25 columns</p>\n",
       "</div>"
      ],
      "text/plain": [
       "    用户id  性别  职业  教育程度  婚姻状态  户口类型   进账单数         进账金额   支出单数         支出金额  \\\n",
       "0   6965   1   2     4     3     2   75.0   972.850228  289.0  3234.531975   \n",
       "1   1265   1   3     4     3     1  125.0  1708.206195  294.0  3662.457063   \n",
       "2   2583   2   2     2     1     1  213.0  2736.475318  618.0  7064.310678   \n",
       "3  29165   1   2     4     1     4  189.0  2277.607807  473.0  5099.861165   \n",
       "4   2443   1   4     4     3     1  252.0  3020.288782  341.0  3762.790364   \n",
       "\n",
       "   ...     本期账单余额  本期账单最低还款额       消费笔数     本期账单金额      调整金额       循环利息  可用金额  \\\n",
       "0  ...  19.957631  17.220095  10.750000  18.825107  0.000000  15.520681   0.0   \n",
       "1  ...  19.909123  17.866453   1.444444  19.007284  0.000000   5.175483   0.0   \n",
       "2  ...  17.736937  10.292788   1.791667  17.199134  0.000000   6.478271   0.0   \n",
       "3  ...  17.921520  15.902257   0.000000  12.969975  0.000000   0.000000   0.0   \n",
       "4  ...  19.397134  18.206423   2.251572  15.892834  0.229931   4.082358   0.0   \n",
       "\n",
       "      预借现金额度  浏览行为数据  样本标签  \n",
       "0  19.624697    1710     0  \n",
       "1   9.702118     420     0  \n",
       "2  11.014650     702     0  \n",
       "3   6.001719     783     0  \n",
       "4  10.873986     671     0  \n",
       "\n",
       "[5 rows x 25 columns]"
      ]
     },
     "execution_count": 40,
     "metadata": {},
     "output_type": "execute_result"
    }
   ],
   "source": [
    "df_train=user_train.merge(bank_train)\n",
    "df_train=df_train.merge(bill_train)\n",
    "df_train=df_train.merge(browse_train)\n",
    "df_train=df_train.merge(overdue_train)\n",
    "df_train.head()"
   ]
  },
  {
   "cell_type": "code",
   "execution_count": 41,
   "metadata": {
    "ExecuteTime": {
     "end_time": "2020-03-21T02:18:59.377036Z",
     "start_time": "2020-03-21T02:18:59.371036Z"
    }
   },
   "outputs": [
    {
     "data": {
      "text/plain": [
       "Index(['用户id', '性别', '职业', '教育程度', '婚姻状态', '户口类型', '进账单数', '进账金额', '支出单数',\n",
       "       '支出金额', '工资笔数', '工资收入', '上期账单金额', '上期还款金额', '信用卡额度', '本期账单余额',\n",
       "       '本期账单最低还款额', '消费笔数', '本期账单金额', '调整金额', '循环利息', '可用金额', '预借现金额度',\n",
       "       '浏览行为数据', '样本标签'],\n",
       "      dtype='object')"
      ]
     },
     "execution_count": 41,
     "metadata": {},
     "output_type": "execute_result"
    }
   ],
   "source": [
    "df_train.columns"
   ]
  },
  {
   "cell_type": "code",
   "execution_count": 43,
   "metadata": {},
   "outputs": [
    {
     "name": "stdout",
     "output_type": "stream",
     "text": [
      "<class 'pandas.core.frame.DataFrame'>\n",
      "Int64Index: 5735 entries, 0 to 5734\n",
      "Data columns (total 25 columns):\n",
      " #   Column     Non-Null Count  Dtype  \n",
      "---  ------     --------------  -----  \n",
      " 0   用户id       5735 non-null   int64  \n",
      " 1   性别         5735 non-null   int64  \n",
      " 2   职业         5735 non-null   int64  \n",
      " 3   教育程度       5735 non-null   int64  \n",
      " 4   婚姻状态       5735 non-null   int64  \n",
      " 5   户口类型       5735 non-null   int64  \n",
      " 6   进账单数       5735 non-null   float64\n",
      " 7   进账金额       5735 non-null   float64\n",
      " 8   支出单数       5735 non-null   float64\n",
      " 9   支出金额       5735 non-null   float64\n",
      " 10  工资笔数       5735 non-null   float64\n",
      " 11  工资收入       5735 non-null   float64\n",
      " 12  上期账单金额     5735 non-null   float64\n",
      " 13  上期还款金额     5735 non-null   float64\n",
      " 14  信用卡额度      5735 non-null   float64\n",
      " 15  本期账单余额     5735 non-null   float64\n",
      " 16  本期账单最低还款额  5735 non-null   float64\n",
      " 17  消费笔数       5735 non-null   float64\n",
      " 18  本期账单金额     5735 non-null   float64\n",
      " 19  调整金额       5735 non-null   float64\n",
      " 20  循环利息       5735 non-null   float64\n",
      " 21  可用金额       5735 non-null   float64\n",
      " 22  预借现金额度     5735 non-null   float64\n",
      " 23  浏览行为数据     5735 non-null   int64  \n",
      " 24  样本标签       5735 non-null   int64  \n",
      "dtypes: float64(17), int64(8)\n",
      "memory usage: 1.1 MB\n"
     ]
    }
   ],
   "source": [
    "df_train.info()"
   ]
  },
  {
   "cell_type": "markdown",
   "metadata": {},
   "source": [
    "# 特征工程"
   ]
  },
  {
   "cell_type": "markdown",
   "metadata": {},
   "source": [
    "## 基于业务理解的筛选"
   ]
  },
  {
   "cell_type": "markdown",
   "metadata": {},
   "source": [
    "主要看相关性"
   ]
  },
  {
   "cell_type": "code",
   "execution_count": 31,
   "metadata": {
    "ExecuteTime": {
     "end_time": "2020-03-21T02:18:59.386037Z",
     "start_time": "2020-03-21T02:18:59.380037Z"
    }
   },
   "outputs": [
    {
     "data": {
      "text/plain": [
       "Index(['用户id', '进账单数', '进账金额', '支出单数', '支出金额', '工资笔数', '工资收入'], dtype='object')"
      ]
     },
     "execution_count": 31,
     "metadata": {},
     "output_type": "execute_result"
    }
   ],
   "source": [
    "bank_train.columns"
   ]
  },
  {
   "cell_type": "code",
   "execution_count": 32,
   "metadata": {
    "ExecuteTime": {
     "end_time": "2020-03-21T02:19:00.085077Z",
     "start_time": "2020-03-21T02:18:59.390037Z"
    }
   },
   "outputs": [],
   "source": [
    "sns.heatmap?"
   ]
  },
  {
   "cell_type": "code",
   "execution_count": 45,
   "metadata": {},
   "outputs": [],
   "source": [
    "plt.rcParams['font.sans-serif'] = ['Arial Unicode MS']\n",
    "plt.rcParams[\"axes.unicode_minus\"] = False"
   ]
  },
  {
   "cell_type": "code",
   "execution_count": 47,
   "metadata": {
    "ExecuteTime": {
     "end_time": "2020-03-21T02:19:21.870323Z",
     "start_time": "2020-03-21T02:19:00.105078Z"
    }
   },
   "outputs": [
    {
     "data": {
      "image/png": "[encoded data removed]",
      "text/plain": [
       "<Figure size 720x720 with 2 Axes>"
      ]
     },
     "metadata": {
      "needs_background": "light"
     },
     "output_type": "display_data"
    }
   ],
   "source": [
    "import matplotlib.pyplot as plt\n",
    "internal_chars=['进账单数', '进账金额', '支出单数', '支出金额', '工资笔数', '工资收入']\n",
    "corrmat=bank_train[internal_chars].corr()   # 相关性结果数据表\n",
    "plt.subplots(figsize=(10,10))\n",
    "sns.heatmap(corrmat, square=True, linewidths=.5, annot=True); #热力图"
   ]
  },
  {
   "cell_type": "markdown",
   "metadata": {},
   "source": [
    "- '进账单数'与'进账金额'的相关系数很高,相关系数为0.99\n",
    "- '支出单数', '支出金额'的相关性较高，相关系数分别为0.82,0.85\n",
    "- '进账金额'与'支出单数', '支出金额'的相关性较高，相关系数分别为0.81,0.85\n",
    "- '支出单数'与 '支出金额'的相关性很高，相关系数为0.99\n",
    "- '工资笔数'与'工资收入'相关系数为1"
   ]
  },
  {
   "cell_type": "markdown",
   "metadata": {},
   "source": [
    "- 可见收入、支出、工资三个指标的金额跟笔数是线性关系，那么后续将构建一个新的特征：笔均=金额/笔数，取工资笔均；而且收入、支出是强相关（0.82），所以只取一个即可，支出笔均。"
   ]
  },
  {
   "cell_type": "markdown",
   "metadata": {
    "ExecuteTime": {
     "end_time": "2020-03-18T10:06:59.589655Z",
     "start_time": "2020-03-18T10:06:59.567653Z"
    }
   },
   "source": [
    "- 后续将用'进账金额/进账单数','支出金额/支出单数','工资收入/工资笔数'得到'进账笔均','支出笔均','工资笔均'"
   ]
  },
  {
   "cell_type": "code",
   "execution_count": 48,
   "metadata": {
    "ExecuteTime": {
     "end_time": "2020-03-21T02:19:25.481530Z",
     "start_time": "2020-03-21T02:19:21.894324Z"
    },
    "scrolled": true
   },
   "outputs": [
    {
     "data": {
      "image/png": "[encoded data removed]",
      "text/plain": [
       "<Figure size 720x576 with 2 Axes>"
      ]
     },
     "metadata": {
      "needs_background": "light"
     },
     "output_type": "display_data"
    }
   ],
   "source": [
    "internal_chars=['上期账单金额', '上期还款金额', '信用卡额度', '本期账单余额',\n",
    "                '本期账单最低还款额', '消费笔数', '本期账单金额', '调整金额',\n",
    "                '循环利息', '可用金额', '预借现金额度']\n",
    "corrmat=df_train[internal_chars].corr()   # 相关性结果数据表\n",
    "plt.subplots(figsize=(10,8))\n",
    "plt.xticks(rotation='0')\n",
    "sns.heatmap(corrmat, square=False, linewidths=.5, annot=True);  # 热力图"
   ]
  },
  {
   "cell_type": "markdown",
   "metadata": {},
   "source": [
    "- '本期账单金额'与'本期账单余额'相关系数为0.85\n",
    "- '上期账单金额'与'上期还款金额'相关系数为0.75\n",
    "- '本期账单金额'与'上期还款金额'相关系数为0.64\n",
    "- '信用卡额度'与'上期账单金额'和'上期还款金额'相关系数分别为0.54和0.52\n",
    "- '本期账单金额'与'上期账单金额'相关系数为0.5"
   ]
  },
  {
   "cell_type": "code",
   "execution_count": 35,
   "metadata": {
    "ExecuteTime": {
     "end_time": "2020-03-21T02:19:25.502531Z",
     "start_time": "2020-03-21T02:19:25.498531Z"
    }
   },
   "outputs": [],
   "source": [
    "# 上期还款差额 =上期账单金额 - 上期还款金额， 上期还款差额还会直接影响用户的信用额度以及本期的账单金额。\n",
    "\n",
    "# 本期的账单余额与最低还款额具有高度共线性，决定只选用最低还款额。\n",
    "\n",
    "# 另外调整金额和循环利息是跟“上期的还款差额”有关的：\n",
    "\n",
    "# 还款差额>0，需要计算循环利息，调整金额不计\n",
    "\n",
    "# 还款差额<0，需要计算调整金额，循环利息不计\n",
    "\n",
    "# 所以可以将还款差额进行“特征二值化”来代替这两个特征。\n",
    "\n",
    "# 预借现金额度，是指持卡人使用信用卡通过ATM等自助终端提取现金的最高额度，\n",
    "# 取现额度包含于信用额度之内，一般是信用额度的50%左右，所以可以不用这个特征，\n",
    "# 选择信用额度即可。"
   ]
  },
  {
   "cell_type": "markdown",
   "metadata": {},
   "source": [
    "- 重新构建数据表"
   ]
  },
  {
   "cell_type": "code",
   "execution_count": 49,
   "metadata": {
    "ExecuteTime": {
     "end_time": "2020-03-21T02:19:29.030733Z",
     "start_time": "2020-03-21T02:19:25.514531Z"
    },
    "scrolled": true
   },
   "outputs": [
    {
     "name": "stderr",
     "output_type": "stream",
     "text": [
      "/Users/jim/opt/anaconda3/lib/python3.7/site-packages/ipykernel_launcher.py:1: RuntimeWarning: invalid value encountered in double_scalars\n",
      "  \"\"\"Entry point for launching an IPython kernel.\n",
      "/Users/jim/opt/anaconda3/lib/python3.7/site-packages/ipykernel_launcher.py:3: RuntimeWarning: invalid value encountered in double_scalars\n",
      "  This is separate from the ipykernel package so we can avoid doing imports until\n"
     ]
    },
    {
     "data": {
      "text/html": [
       "<div>\n",
       "<style scoped>\n",
       "    .dataframe tbody tr th:only-of-type {\n",
       "        vertical-align: middle;\n",
       "    }\n",
       "\n",
       "    .dataframe tbody tr th {\n",
       "        vertical-align: top;\n",
       "    }\n",
       "\n",
       "    .dataframe thead th {\n",
       "        text-align: right;\n",
       "    }\n",
       "</style>\n",
       "<table border=\"1\" class=\"dataframe\">\n",
       "  <thead>\n",
       "    <tr style=\"text-align: right;\">\n",
       "      <th></th>\n",
       "      <th>用户id</th>\n",
       "      <th>性别</th>\n",
       "      <th>教育程度</th>\n",
       "      <th>婚姻状态</th>\n",
       "      <th>平均支出</th>\n",
       "      <th>平均工资收入</th>\n",
       "      <th>上期还款差额</th>\n",
       "      <th>信用卡额度</th>\n",
       "      <th>本期账单余额</th>\n",
       "      <th>本期账单最低还款额</th>\n",
       "      <th>消费笔数</th>\n",
       "      <th>浏览行为数据</th>\n",
       "      <th>样本标签</th>\n",
       "    </tr>\n",
       "  </thead>\n",
       "  <tbody>\n",
       "    <tr>\n",
       "      <th>0</th>\n",
       "      <td>6965</td>\n",
       "      <td>1</td>\n",
       "      <td>4</td>\n",
       "      <td>3</td>\n",
       "      <td>11.192152</td>\n",
       "      <td>0.000000</td>\n",
       "      <td>-2.730547</td>\n",
       "      <td>19.971271</td>\n",
       "      <td>19.957631</td>\n",
       "      <td>17.220095</td>\n",
       "      <td>10.750000</td>\n",
       "      <td>1710</td>\n",
       "      <td>0</td>\n",
       "    </tr>\n",
       "    <tr>\n",
       "      <th>1</th>\n",
       "      <td>1265</td>\n",
       "      <td>1</td>\n",
       "      <td>4</td>\n",
       "      <td>3</td>\n",
       "      <td>12.457337</td>\n",
       "      <td>0.000000</td>\n",
       "      <td>3.524092</td>\n",
       "      <td>19.973385</td>\n",
       "      <td>19.909123</td>\n",
       "      <td>17.866453</td>\n",
       "      <td>1.444444</td>\n",
       "      <td>420</td>\n",
       "      <td>0</td>\n",
       "    </tr>\n",
       "    <tr>\n",
       "      <th>2</th>\n",
       "      <td>2583</td>\n",
       "      <td>2</td>\n",
       "      <td>2</td>\n",
       "      <td>1</td>\n",
       "      <td>11.430923</td>\n",
       "      <td>0.000000</td>\n",
       "      <td>-0.073337</td>\n",
       "      <td>18.307126</td>\n",
       "      <td>17.736937</td>\n",
       "      <td>10.292788</td>\n",
       "      <td>1.791667</td>\n",
       "      <td>702</td>\n",
       "      <td>0</td>\n",
       "    </tr>\n",
       "    <tr>\n",
       "      <th>3</th>\n",
       "      <td>29165</td>\n",
       "      <td>1</td>\n",
       "      <td>4</td>\n",
       "      <td>1</td>\n",
       "      <td>10.781947</td>\n",
       "      <td>14.473609</td>\n",
       "      <td>-19.825318</td>\n",
       "      <td>19.740221</td>\n",
       "      <td>17.921520</td>\n",
       "      <td>15.902257</td>\n",
       "      <td>0.000000</td>\n",
       "      <td>783</td>\n",
       "      <td>0</td>\n",
       "    </tr>\n",
       "    <tr>\n",
       "      <th>4</th>\n",
       "      <td>2443</td>\n",
       "      <td>1</td>\n",
       "      <td>4</td>\n",
       "      <td>3</td>\n",
       "      <td>11.034576</td>\n",
       "      <td>0.000000</td>\n",
       "      <td>12.607495</td>\n",
       "      <td>17.309158</td>\n",
       "      <td>19.397134</td>\n",
       "      <td>18.206423</td>\n",
       "      <td>2.251572</td>\n",
       "      <td>671</td>\n",
       "      <td>0</td>\n",
       "    </tr>\n",
       "  </tbody>\n",
       "</table>\n",
       "</div>"
      ],
      "text/plain": [
       "    用户id  性别  教育程度  婚姻状态       平均支出     平均工资收入     上期还款差额      信用卡额度  \\\n",
       "0   6965   1     4     3  11.192152   0.000000  -2.730547  19.971271   \n",
       "1   1265   1     4     3  12.457337   0.000000   3.524092  19.973385   \n",
       "2   2583   2     2     1  11.430923   0.000000  -0.073337  18.307126   \n",
       "3  29165   1     4     1  10.781947  14.473609 -19.825318  19.740221   \n",
       "4   2443   1     4     3  11.034576   0.000000  12.607495  17.309158   \n",
       "\n",
       "      本期账单余额  本期账单最低还款额       消费笔数  浏览行为数据  样本标签  \n",
       "0  19.957631  17.220095  10.750000    1710     0  \n",
       "1  19.909123  17.866453   1.444444     420     0  \n",
       "2  17.736937  10.292788   1.791667     702     0  \n",
       "3  17.921520  15.902257   0.000000     783     0  \n",
       "4  19.397134  18.206423   2.251572     671     0  "
      ]
     },
     "execution_count": 49,
     "metadata": {},
     "output_type": "execute_result"
    }
   ],
   "source": [
    "df_train['平均支出']=df_train.apply(lambda x:x.支出金额/x.支出单数, axis=1) # apply() 当函数的参数存在于字典或元组中时\n",
    "# df_train['平均进账']=df_train.apply(lambda x:x.进账金额/x.进账单数, axis=1) \n",
    "df_train['平均工资收入']=df_train.apply(lambda x:x.工资收入/x.工资笔数, axis=1)\n",
    "df_train['上期还款差额']=df_train.apply(lambda x:x.上期账单金额-x.上期还款金额, axis=1)\n",
    "df_select=df_train.loc[:,['用户id', '性别', '教育程度', '婚姻状态', '平均支出',\n",
    "                          '平均工资收入', '上期还款差额', '信用卡额度', '本期账单余额', '本期账单最低还款额', \n",
    "                          '消费笔数',  '浏览行为数据', '样本标签']].fillna(0)\n",
    "df_select.head()"
   ]
  },
  {
   "cell_type": "markdown",
   "metadata": {},
   "source": [
    "## 基于机器学习的筛选"
   ]
  },
  {
   "cell_type": "code",
   "execution_count": 50,
   "metadata": {
    "ExecuteTime": {
     "end_time": "2020-03-21T02:19:31.887896Z",
     "start_time": "2020-03-21T02:19:29.071735Z"
    }
   },
   "outputs": [],
   "source": [
    "# 将上期还款差额二值化\n",
    "from sklearn.preprocessing import Binarizer\n",
    "X=df_select['上期还款差额'].values.reshape(-1,1)\n",
    "transformer = Binarizer(threshold=0).fit_transform(X)\n",
    "df_select['上期还款差额标签']=transformer"
   ]
  },
  {
   "cell_type": "markdown",
   "metadata": {},
   "source": [
    "Filter法筛选"
   ]
  },
  {
   "cell_type": "markdown",
   "metadata": {},
   "source": [
    "### 方差过滤法"
   ]
  },
  {
   "cell_type": "code",
   "execution_count": 52,
   "metadata": {
    "ExecuteTime": {
     "end_time": "2020-03-21T02:19:32.007903Z",
     "start_time": "2020-03-21T02:19:31.903897Z"
    },
    "scrolled": true
   },
   "outputs": [
    {
     "data": {
      "text/html": [
       "<div>\n",
       "<style scoped>\n",
       "    .dataframe tbody tr th:only-of-type {\n",
       "        vertical-align: middle;\n",
       "    }\n",
       "\n",
       "    .dataframe tbody tr th {\n",
       "        vertical-align: top;\n",
       "    }\n",
       "\n",
       "    .dataframe thead th {\n",
       "        text-align: right;\n",
       "    }\n",
       "</style>\n",
       "<table border=\"1\" class=\"dataframe\">\n",
       "  <thead>\n",
       "    <tr style=\"text-align: right;\">\n",
       "      <th></th>\n",
       "      <th>用户id</th>\n",
       "      <th>性别</th>\n",
       "      <th>教育程度</th>\n",
       "      <th>婚姻状态</th>\n",
       "      <th>平均支出</th>\n",
       "      <th>平均工资收入</th>\n",
       "      <th>上期还款差额</th>\n",
       "      <th>信用卡额度</th>\n",
       "      <th>本期账单余额</th>\n",
       "      <th>本期账单最低还款额</th>\n",
       "      <th>消费笔数</th>\n",
       "      <th>浏览行为数据</th>\n",
       "      <th>样本标签</th>\n",
       "      <th>上期还款差额标签</th>\n",
       "    </tr>\n",
       "  </thead>\n",
       "  <tbody>\n",
       "    <tr>\n",
       "      <th>0</th>\n",
       "      <td>6965</td>\n",
       "      <td>1</td>\n",
       "      <td>4</td>\n",
       "      <td>3</td>\n",
       "      <td>11.192152</td>\n",
       "      <td>0.000000</td>\n",
       "      <td>-2.730547</td>\n",
       "      <td>19.971271</td>\n",
       "      <td>19.957631</td>\n",
       "      <td>17.220095</td>\n",
       "      <td>10.750000</td>\n",
       "      <td>1710</td>\n",
       "      <td>0</td>\n",
       "      <td>0.0</td>\n",
       "    </tr>\n",
       "    <tr>\n",
       "      <th>1</th>\n",
       "      <td>1265</td>\n",
       "      <td>1</td>\n",
       "      <td>4</td>\n",
       "      <td>3</td>\n",
       "      <td>12.457337</td>\n",
       "      <td>0.000000</td>\n",
       "      <td>3.524092</td>\n",
       "      <td>19.973385</td>\n",
       "      <td>19.909123</td>\n",
       "      <td>17.866453</td>\n",
       "      <td>1.444444</td>\n",
       "      <td>420</td>\n",
       "      <td>0</td>\n",
       "      <td>1.0</td>\n",
       "    </tr>\n",
       "    <tr>\n",
       "      <th>2</th>\n",
       "      <td>2583</td>\n",
       "      <td>2</td>\n",
       "      <td>2</td>\n",
       "      <td>1</td>\n",
       "      <td>11.430923</td>\n",
       "      <td>0.000000</td>\n",
       "      <td>-0.073337</td>\n",
       "      <td>18.307126</td>\n",
       "      <td>17.736937</td>\n",
       "      <td>10.292788</td>\n",
       "      <td>1.791667</td>\n",
       "      <td>702</td>\n",
       "      <td>0</td>\n",
       "      <td>0.0</td>\n",
       "    </tr>\n",
       "    <tr>\n",
       "      <th>3</th>\n",
       "      <td>29165</td>\n",
       "      <td>1</td>\n",
       "      <td>4</td>\n",
       "      <td>1</td>\n",
       "      <td>10.781947</td>\n",
       "      <td>14.473609</td>\n",
       "      <td>-19.825318</td>\n",
       "      <td>19.740221</td>\n",
       "      <td>17.921520</td>\n",
       "      <td>15.902257</td>\n",
       "      <td>0.000000</td>\n",
       "      <td>783</td>\n",
       "      <td>0</td>\n",
       "      <td>0.0</td>\n",
       "    </tr>\n",
       "    <tr>\n",
       "      <th>4</th>\n",
       "      <td>2443</td>\n",
       "      <td>1</td>\n",
       "      <td>4</td>\n",
       "      <td>3</td>\n",
       "      <td>11.034576</td>\n",
       "      <td>0.000000</td>\n",
       "      <td>12.607495</td>\n",
       "      <td>17.309158</td>\n",
       "      <td>19.397134</td>\n",
       "      <td>18.206423</td>\n",
       "      <td>2.251572</td>\n",
       "      <td>671</td>\n",
       "      <td>0</td>\n",
       "      <td>1.0</td>\n",
       "    </tr>\n",
       "  </tbody>\n",
       "</table>\n",
       "</div>"
      ],
      "text/plain": [
       "    用户id  性别  教育程度  婚姻状态       平均支出     平均工资收入     上期还款差额      信用卡额度  \\\n",
       "0   6965   1     4     3  11.192152   0.000000  -2.730547  19.971271   \n",
       "1   1265   1     4     3  12.457337   0.000000   3.524092  19.973385   \n",
       "2   2583   2     2     1  11.430923   0.000000  -0.073337  18.307126   \n",
       "3  29165   1     4     1  10.781947  14.473609 -19.825318  19.740221   \n",
       "4   2443   1     4     3  11.034576   0.000000  12.607495  17.309158   \n",
       "\n",
       "      本期账单余额  本期账单最低还款额       消费笔数  浏览行为数据  样本标签  上期还款差额标签  \n",
       "0  19.957631  17.220095  10.750000    1710     0       0.0  \n",
       "1  19.909123  17.866453   1.444444     420     0       1.0  \n",
       "2  17.736937  10.292788   1.791667     702     0       0.0  \n",
       "3  17.921520  15.902257   0.000000     783     0       0.0  \n",
       "4  19.397134  18.206423   2.251572     671     0       1.0  "
      ]
     },
     "execution_count": 52,
     "metadata": {},
     "output_type": "execute_result"
    }
   ],
   "source": [
    "df_select.head()"
   ]
  },
  {
   "cell_type": "code",
   "execution_count": 53,
   "metadata": {
    "ExecuteTime": {
     "end_time": "2020-03-21T02:19:32.024904Z",
     "start_time": "2020-03-21T02:19:32.011903Z"
    }
   },
   "outputs": [
    {
     "data": {
      "text/plain": [
       "(5735, 11)"
      ]
     },
     "execution_count": 53,
     "metadata": {},
     "output_type": "execute_result"
    }
   ],
   "source": [
    "x=df_select.drop(['用户id','上期还款差额','样本标签'],axis=1)\n",
    "x.shape"
   ]
  },
  {
   "cell_type": "code",
   "execution_count": 54,
   "metadata": {
    "ExecuteTime": {
     "end_time": "2020-03-21T02:19:32.031904Z",
     "start_time": "2020-03-21T02:19:32.027904Z"
    }
   },
   "outputs": [],
   "source": [
    "y=df_select['样本标签']"
   ]
  },
  {
   "cell_type": "code",
   "execution_count": 55,
   "metadata": {
    "ExecuteTime": {
     "end_time": "2020-03-21T02:19:35.770118Z",
     "start_time": "2020-03-21T02:19:32.034904Z"
    }
   },
   "outputs": [],
   "source": [
    "from sklearn.feature_selection import VarianceThreshold\n",
    "VTS = VarianceThreshold()   # 实例化，不清楚参数默认方差为0\n",
    "x_01=VTS.fit_transform(x)"
   ]
  },
  {
   "cell_type": "code",
   "execution_count": 57,
   "metadata": {
    "ExecuteTime": {
     "end_time": "2020-03-21T02:19:35.850123Z",
     "start_time": "2020-03-21T02:19:35.844122Z"
    }
   },
   "outputs": [
    {
     "data": {
      "text/plain": [
       "array([[1.00000000e+00, 4.00000000e+00, 3.00000000e+00, ...,\n",
       "        1.07500000e+01, 1.71000000e+03, 0.00000000e+00],\n",
       "       [1.00000000e+00, 4.00000000e+00, 3.00000000e+00, ...,\n",
       "        1.44444444e+00, 4.20000000e+02, 1.00000000e+00],\n",
       "       [2.00000000e+00, 2.00000000e+00, 1.00000000e+00, ...,\n",
       "        1.79166667e+00, 7.02000000e+02, 0.00000000e+00],\n",
       "       ...,\n",
       "       [1.00000000e+00, 4.00000000e+00, 1.00000000e+00, ...,\n",
       "        7.69230769e-02, 3.60000000e+02, 1.00000000e+00],\n",
       "       [1.00000000e+00, 4.00000000e+00, 1.00000000e+00, ...,\n",
       "        2.22000000e+00, 5.00000000e+02, 1.00000000e+00],\n",
       "       [1.00000000e+00, 3.00000000e+00, 1.00000000e+00, ...,\n",
       "        7.82608696e-01, 4.26000000e+02, 0.00000000e+00]])"
      ]
     },
     "execution_count": 57,
     "metadata": {},
     "output_type": "execute_result"
    }
   ],
   "source": [
    "x_01"
   ]
  },
  {
   "cell_type": "code",
   "execution_count": 43,
   "metadata": {
    "ExecuteTime": {
     "end_time": "2020-03-21T02:19:35.934127Z",
     "start_time": "2020-03-21T02:19:35.873124Z"
    }
   },
   "outputs": [
    {
     "data": {
      "text/html": [
       "<div>\n",
       "<style scoped>\n",
       "    .dataframe tbody tr th:only-of-type {\n",
       "        vertical-align: middle;\n",
       "    }\n",
       "\n",
       "    .dataframe tbody tr th {\n",
       "        vertical-align: top;\n",
       "    }\n",
       "\n",
       "    .dataframe thead th {\n",
       "        text-align: right;\n",
       "    }\n",
       "</style>\n",
       "<table border=\"1\" class=\"dataframe\">\n",
       "  <thead>\n",
       "    <tr style=\"text-align: right;\">\n",
       "      <th></th>\n",
       "      <th>性别</th>\n",
       "      <th>教育程度</th>\n",
       "      <th>婚姻状态</th>\n",
       "      <th>平均支出</th>\n",
       "      <th>平均工资收入</th>\n",
       "      <th>信用卡额度</th>\n",
       "      <th>本期账单余额</th>\n",
       "      <th>本期账单最低还款额</th>\n",
       "      <th>消费笔数</th>\n",
       "      <th>浏览行为数据</th>\n",
       "      <th>上期还款差额标签</th>\n",
       "    </tr>\n",
       "  </thead>\n",
       "  <tbody>\n",
       "    <tr>\n",
       "      <td>0</td>\n",
       "      <td>1</td>\n",
       "      <td>4</td>\n",
       "      <td>3</td>\n",
       "      <td>11.192152</td>\n",
       "      <td>0.000000</td>\n",
       "      <td>19.971271</td>\n",
       "      <td>19.957631</td>\n",
       "      <td>17.220095</td>\n",
       "      <td>10.750000</td>\n",
       "      <td>1710</td>\n",
       "      <td>0.0</td>\n",
       "    </tr>\n",
       "    <tr>\n",
       "      <td>1</td>\n",
       "      <td>1</td>\n",
       "      <td>4</td>\n",
       "      <td>3</td>\n",
       "      <td>12.457337</td>\n",
       "      <td>0.000000</td>\n",
       "      <td>19.973385</td>\n",
       "      <td>19.909123</td>\n",
       "      <td>17.866453</td>\n",
       "      <td>1.444444</td>\n",
       "      <td>420</td>\n",
       "      <td>1.0</td>\n",
       "    </tr>\n",
       "    <tr>\n",
       "      <td>2</td>\n",
       "      <td>2</td>\n",
       "      <td>2</td>\n",
       "      <td>1</td>\n",
       "      <td>11.430923</td>\n",
       "      <td>0.000000</td>\n",
       "      <td>18.307126</td>\n",
       "      <td>17.736937</td>\n",
       "      <td>10.292788</td>\n",
       "      <td>1.791667</td>\n",
       "      <td>702</td>\n",
       "      <td>0.0</td>\n",
       "    </tr>\n",
       "    <tr>\n",
       "      <td>3</td>\n",
       "      <td>1</td>\n",
       "      <td>4</td>\n",
       "      <td>1</td>\n",
       "      <td>10.781947</td>\n",
       "      <td>14.473609</td>\n",
       "      <td>19.740221</td>\n",
       "      <td>17.921520</td>\n",
       "      <td>15.902257</td>\n",
       "      <td>0.000000</td>\n",
       "      <td>783</td>\n",
       "      <td>0.0</td>\n",
       "    </tr>\n",
       "    <tr>\n",
       "      <td>4</td>\n",
       "      <td>1</td>\n",
       "      <td>4</td>\n",
       "      <td>3</td>\n",
       "      <td>11.034576</td>\n",
       "      <td>0.000000</td>\n",
       "      <td>17.309158</td>\n",
       "      <td>19.397134</td>\n",
       "      <td>18.206423</td>\n",
       "      <td>2.251572</td>\n",
       "      <td>671</td>\n",
       "      <td>1.0</td>\n",
       "    </tr>\n",
       "    <tr>\n",
       "      <td>...</td>\n",
       "      <td>...</td>\n",
       "      <td>...</td>\n",
       "      <td>...</td>\n",
       "      <td>...</td>\n",
       "      <td>...</td>\n",
       "      <td>...</td>\n",
       "      <td>...</td>\n",
       "      <td>...</td>\n",
       "      <td>...</td>\n",
       "      <td>...</td>\n",
       "      <td>...</td>\n",
       "    </tr>\n",
       "    <tr>\n",
       "      <td>5730</td>\n",
       "      <td>0</td>\n",
       "      <td>4</td>\n",
       "      <td>3</td>\n",
       "      <td>10.731462</td>\n",
       "      <td>14.570604</td>\n",
       "      <td>10.888560</td>\n",
       "      <td>18.910376</td>\n",
       "      <td>17.218990</td>\n",
       "      <td>0.142857</td>\n",
       "      <td>904</td>\n",
       "      <td>0.0</td>\n",
       "    </tr>\n",
       "    <tr>\n",
       "      <td>5731</td>\n",
       "      <td>1</td>\n",
       "      <td>2</td>\n",
       "      <td>1</td>\n",
       "      <td>10.599708</td>\n",
       "      <td>0.000000</td>\n",
       "      <td>20.253273</td>\n",
       "      <td>19.517978</td>\n",
       "      <td>18.033096</td>\n",
       "      <td>1.200000</td>\n",
       "      <td>24</td>\n",
       "      <td>1.0</td>\n",
       "    </tr>\n",
       "    <tr>\n",
       "      <td>5732</td>\n",
       "      <td>1</td>\n",
       "      <td>4</td>\n",
       "      <td>1</td>\n",
       "      <td>11.415696</td>\n",
       "      <td>0.000000</td>\n",
       "      <td>10.160731</td>\n",
       "      <td>17.287080</td>\n",
       "      <td>16.319912</td>\n",
       "      <td>0.076923</td>\n",
       "      <td>360</td>\n",
       "      <td>1.0</td>\n",
       "    </tr>\n",
       "    <tr>\n",
       "      <td>5733</td>\n",
       "      <td>1</td>\n",
       "      <td>4</td>\n",
       "      <td>1</td>\n",
       "      <td>10.451863</td>\n",
       "      <td>0.000000</td>\n",
       "      <td>19.496280</td>\n",
       "      <td>19.494289</td>\n",
       "      <td>17.432715</td>\n",
       "      <td>2.220000</td>\n",
       "      <td>500</td>\n",
       "      <td>1.0</td>\n",
       "    </tr>\n",
       "    <tr>\n",
       "      <td>5734</td>\n",
       "      <td>1</td>\n",
       "      <td>3</td>\n",
       "      <td>1</td>\n",
       "      <td>11.300596</td>\n",
       "      <td>0.000000</td>\n",
       "      <td>21.105651</td>\n",
       "      <td>8.856791</td>\n",
       "      <td>12.524479</td>\n",
       "      <td>0.782609</td>\n",
       "      <td>426</td>\n",
       "      <td>0.0</td>\n",
       "    </tr>\n",
       "  </tbody>\n",
       "</table>\n",
       "<p>5735 rows × 11 columns</p>\n",
       "</div>"
      ],
      "text/plain": [
       "      性别  教育程度  婚姻状态       平均支出     平均工资收入      信用卡额度     本期账单余额  本期账单最低还款额  \\\n",
       "0      1     4     3  11.192152   0.000000  19.971271  19.957631  17.220095   \n",
       "1      1     4     3  12.457337   0.000000  19.973385  19.909123  17.866453   \n",
       "2      2     2     1  11.430923   0.000000  18.307126  17.736937  10.292788   \n",
       "3      1     4     1  10.781947  14.473609  19.740221  17.921520  15.902257   \n",
       "4      1     4     3  11.034576   0.000000  17.309158  19.397134  18.206423   \n",
       "...   ..   ...   ...        ...        ...        ...        ...        ...   \n",
       "5730   0     4     3  10.731462  14.570604  10.888560  18.910376  17.218990   \n",
       "5731   1     2     1  10.599708   0.000000  20.253273  19.517978  18.033096   \n",
       "5732   1     4     1  11.415696   0.000000  10.160731  17.287080  16.319912   \n",
       "5733   1     4     1  10.451863   0.000000  19.496280  19.494289  17.432715   \n",
       "5734   1     3     1  11.300596   0.000000  21.105651   8.856791  12.524479   \n",
       "\n",
       "           消费笔数  浏览行为数据  上期还款差额标签  \n",
       "0     10.750000    1710       0.0  \n",
       "1      1.444444     420       1.0  \n",
       "2      1.791667     702       0.0  \n",
       "3      0.000000     783       0.0  \n",
       "4      2.251572     671       1.0  \n",
       "...         ...     ...       ...  \n",
       "5730   0.142857     904       0.0  \n",
       "5731   1.200000      24       1.0  \n",
       "5732   0.076923     360       1.0  \n",
       "5733   2.220000     500       1.0  \n",
       "5734   0.782609     426       0.0  \n",
       "\n",
       "[5735 rows x 11 columns]"
      ]
     },
     "execution_count": 43,
     "metadata": {},
     "output_type": "execute_result"
    }
   ],
   "source": [
    "x"
   ]
  },
  {
   "cell_type": "markdown",
   "metadata": {},
   "source": [
    "### 相关性过滤"
   ]
  },
  {
   "cell_type": "markdown",
   "metadata": {},
   "source": [
    "- 互信息法"
   ]
  },
  {
   "cell_type": "code",
   "execution_count": 44,
   "metadata": {
    "ExecuteTime": {
     "end_time": "2020-03-21T02:19:35.961129Z",
     "start_time": "2020-03-21T02:19:35.955129Z"
    }
   },
   "outputs": [
    {
     "name": "stdout",
     "output_type": "stream",
     "text": [
      "Object `DTC` not found.\n"
     ]
    }
   ],
   "source": [
    "DTC?"
   ]
  },
  {
   "cell_type": "code",
   "execution_count": 45,
   "metadata": {
    "ExecuteTime": {
     "end_time": "2020-03-21T02:19:35.975130Z",
     "start_time": "2020-03-21T02:19:35.967129Z"
    }
   },
   "outputs": [
    {
     "name": "stdout",
     "output_type": "stream",
     "text": [
      "Object `cvs` not found.\n"
     ]
    }
   ],
   "source": [
    "cvs?"
   ]
  },
  {
   "cell_type": "code",
   "execution_count": 46,
   "metadata": {
    "ExecuteTime": {
     "end_time": "2020-03-21T02:19:38.767289Z",
     "start_time": "2020-03-21T02:19:35.981130Z"
    }
   },
   "outputs": [
    {
     "data": {
      "text/plain": [
       "array([0.01044631, 0.00676775, 0.        , 0.0087247 , 0.00479937,\n",
       "       0.01122191, 0.        , 0.00389996, 0.00581473, 0.01506769,\n",
       "       0.00025675])"
      ]
     },
     "execution_count": 46,
     "metadata": {},
     "output_type": "execute_result"
    },
    {
     "data": {
      "text/plain": [
       "8"
      ]
     },
     "execution_count": 46,
     "metadata": {},
     "output_type": "execute_result"
    }
   ],
   "source": [
    "from sklearn.feature_selection import mutual_info_classif as MIC\n",
    "result = MIC(x,y)\n",
    "result\n",
    "k = result.shape[0] - sum(result <= 0.001)\n",
    "k"
   ]
  },
  {
   "cell_type": "code",
   "execution_count": 47,
   "metadata": {
    "ExecuteTime": {
     "end_time": "2020-03-21T02:19:38.783290Z",
     "start_time": "2020-03-21T02:19:38.773290Z"
    }
   },
   "outputs": [
    {
     "data": {
      "text/plain": [
       "Index(['性别', '教育程度', '婚姻状态', '平均支出', '平均工资收入', '信用卡额度', '本期账单余额', '本期账单最低还款额',\n",
       "       '消费笔数', '浏览行为数据', '上期还款差额标签'],\n",
       "      dtype='object')"
      ]
     },
     "execution_count": 47,
     "metadata": {},
     "output_type": "execute_result"
    }
   ],
   "source": [
    "x.columns"
   ]
  },
  {
   "cell_type": "markdown",
   "metadata": {
    "ExecuteTime": {
     "end_time": "2020-03-19T08:52:12.025452Z",
     "start_time": "2020-03-19T08:52:11.706434Z"
    }
   },
   "source": [
    "- 用filter法的互信息法得到如下变量和逾期情况相关 \n",
    "- 性别 教育程度 平均支出 平均工资收入 信用卡额度 本期账单最低还款额 消费笔数 浏览行为数据 上期还款差额标签"
   ]
  },
  {
   "cell_type": "code",
   "execution_count": 48,
   "metadata": {
    "ExecuteTime": {
     "end_time": "2020-03-21T02:19:38.796291Z",
     "start_time": "2020-03-21T02:19:38.787291Z"
    }
   },
   "outputs": [],
   "source": [
    "x1=x.drop(['本期账单余额','上期还款差额标签'], axis=1)"
   ]
  },
  {
   "cell_type": "markdown",
   "metadata": {},
   "source": [
    "### embeded嵌入法"
   ]
  },
  {
   "cell_type": "code",
   "execution_count": 49,
   "metadata": {
    "ExecuteTime": {
     "end_time": "2020-03-21T02:19:38.803292Z",
     "start_time": "2020-03-21T02:19:38.799291Z"
    }
   },
   "outputs": [],
   "source": [
    "from sklearn.feature_selection import SelectFromModel\n"
   ]
  },
  {
   "cell_type": "markdown",
   "metadata": {},
   "source": [
    "# 样本不均衡"
   ]
  },
  {
   "cell_type": "code",
   "execution_count": 50,
   "metadata": {
    "ExecuteTime": {
     "end_time": "2020-03-21T02:19:38.998303Z",
     "start_time": "2020-03-21T02:19:38.807292Z"
    }
   },
   "outputs": [
    {
     "data": {
      "text/plain": [
       "0    4899\n",
       "1     836\n",
       "Name: 样本标签, dtype: int64"
      ]
     },
     "execution_count": 50,
     "metadata": {},
     "output_type": "execute_result"
    }
   ],
   "source": [
    "y.value_counts()"
   ]
  },
  {
   "cell_type": "code",
   "execution_count": 51,
   "metadata": {
    "ExecuteTime": {
     "end_time": "2020-03-21T02:19:39.028304Z",
     "start_time": "2020-03-21T02:19:39.019304Z"
    }
   },
   "outputs": [],
   "source": [
    "#from imblearn.over_sampling import SMOTE\n",
    "#over_samples = SMOTE(random_state=111)\n",
    "#over_samples_x1, over_samples_y = over_samples.fit_sample(x1,y)"
   ]
  },
  {
   "cell_type": "code",
   "execution_count": 52,
   "metadata": {
    "ExecuteTime": {
     "end_time": "2020-03-21T02:19:39.041305Z",
     "start_time": "2020-03-21T02:19:39.033305Z"
    }
   },
   "outputs": [],
   "source": [
    "# from imblearn.over_sampling import SMOTE\n",
    "# over_samples = SMOTE(random_state=111)\n",
    "# over_samples_x, over_samples_y = over_samples.fit_sample(x,y)"
   ]
  },
  {
   "cell_type": "markdown",
   "metadata": {},
   "source": [
    "# 逻辑回归"
   ]
  },
  {
   "cell_type": "code",
   "execution_count": 53,
   "metadata": {
    "ExecuteTime": {
     "end_time": "2020-03-21T02:19:39.052306Z",
     "start_time": "2020-03-21T02:19:39.047305Z"
    }
   },
   "outputs": [],
   "source": [
    "from sklearn.linear_model import LogisticRegression\n",
    "from sklearn.model_selection import cross_val_score as cvs"
   ]
  },
  {
   "cell_type": "markdown",
   "metadata": {},
   "source": [
    "## 超参数的影响"
   ]
  },
  {
   "cell_type": "markdown",
   "metadata": {},
   "source": [
    "- 下面使用互信息法筛选之前的变量"
   ]
  },
  {
   "cell_type": "code",
   "execution_count": 54,
   "metadata": {
    "ExecuteTime": {
     "end_time": "2020-03-21T02:20:01.378583Z",
     "start_time": "2020-03-21T02:19:39.057306Z"
    }
   },
   "outputs": [
    {
     "data": {
      "text/plain": [
       "[<matplotlib.lines.Line2D at 0xe0fca48>]"
      ]
     },
     "execution_count": 54,
     "metadata": {},
     "output_type": "execute_result"
    },
    {
     "data": {
      "text/plain": [
       "[<matplotlib.lines.Line2D at 0xe0aefc8>]"
      ]
     },
     "execution_count": 54,
     "metadata": {},
     "output_type": "execute_result"
    },
    {
     "data": {
      "image/png": "[encoded data removed]",
      "text/plain": [
       "<Figure size 432x288 with 1 Axes>"
      ]
     },
     "metadata": {
      "needs_background": "light"
     },
     "output_type": "display_data"
    }
   ],
   "source": [
    "# 不用SMOTE算法\n",
    "l1CVS=[]\n",
    "l2CVS=[]\n",
    "# 用学习曲线对参数C进行调整,分别在两个模型中进行调参\n",
    "# C : 一般不会超过1, 越大惩罚力度越小, 从 0.05 - 2\n",
    "for i in np.linspace(0.05,1,30):\n",
    "    # 使用参数进行建模\n",
    "    lrl1 = LogisticRegression(penalty='l1', solver='liblinear', C=i, max_iter=1000, random_state=0)\n",
    "    lrl2 = LogisticRegression(penalty='l2', solver='liblinear', C=i, max_iter=1000, random_state=0)\n",
    "    once1 = cvs(lrl1, x, y, cv=5, scoring='f1').mean()\n",
    "    once2 = cvs(lrl2, x, y, cv=5, scoring='f1').mean()\n",
    "    l1CVS.append(once1)\n",
    "    l2CVS.append(once2)\n",
    "    \n",
    "plt.plot(np.linspace(0.05,1,30) ,l1CVS, \"r\")\n",
    "plt.plot(np.linspace(0.05,1,30) ,l2CVS, 'g')\n",
    "plt.show()    \n",
    "    "
   ]
  },
  {
   "cell_type": "markdown",
   "metadata": {},
   "source": [
    "- 下面使用互信息法筛选后的变量"
   ]
  },
  {
   "cell_type": "code",
   "execution_count": 55,
   "metadata": {
    "ExecuteTime": {
     "end_time": "2020-03-21T02:20:16.940473Z",
     "start_time": "2020-03-21T02:20:01.383583Z"
    }
   },
   "outputs": [
    {
     "data": {
      "text/plain": [
       "[<matplotlib.lines.Line2D at 0xe1675c8>]"
      ]
     },
     "execution_count": 55,
     "metadata": {},
     "output_type": "execute_result"
    },
    {
     "data": {
      "text/plain": [
       "[<matplotlib.lines.Line2D at 0xe0aee88>]"
      ]
     },
     "execution_count": 55,
     "metadata": {},
     "output_type": "execute_result"
    },
    {
     "data": {
      "image/png": "[encoded data removed]",
      "text/plain": [
       "<Figure size 432x288 with 1 Axes>"
      ]
     },
     "metadata": {
      "needs_background": "light"
     },
     "output_type": "display_data"
    }
   ],
   "source": [
    "# 不用SMOTE算法\n",
    "l1CVS=[]\n",
    "l2CVS=[]\n",
    "# 用学习曲线对参数C进行调整,分别在两个模型中进行调参\n",
    "# C : 一般不会超过1, 越大惩罚力度越小, 从 0.05 - 2\n",
    "for i in np.linspace(0.05,1,30):\n",
    "    # 使用参数进行建模\n",
    "    lrl1 = LogisticRegression(penalty='l1', solver='liblinear', C=i, max_iter=1000, random_state=000)\n",
    "    lrl2 = LogisticRegression(penalty='l2', solver='liblinear', C=i, max_iter=1000, random_state=000)\n",
    "    once1 = cvs(lrl1, x1, y, cv=5, scoring='f1').mean()\n",
    "    once2 = cvs(lrl2, x1, y, cv=5, scoring='f1').mean()\n",
    "    l1CVS.append(once1)\n",
    "    l2CVS.append(once2)\n",
    "    \n",
    "plt.plot(np.linspace(0.05,1,30) ,l1CVS, \"r\")\n",
    "plt.plot(np.linspace(0.05,1,30) ,l2CVS, 'g')\n",
    "plt.show()    \n",
    "    "
   ]
  },
  {
   "cell_type": "code",
   "execution_count": 56,
   "metadata": {
    "ExecuteTime": {
     "end_time": "2020-03-21T02:20:16.948473Z",
     "start_time": "2020-03-21T02:20:16.944473Z"
    }
   },
   "outputs": [],
   "source": [
    "# 包装法筛选变量"
   ]
  },
  {
   "cell_type": "code",
   "execution_count": 57,
   "metadata": {
    "ExecuteTime": {
     "end_time": "2020-03-21T02:20:17.250491Z",
     "start_time": "2020-03-21T02:20:16.952474Z"
    }
   },
   "outputs": [],
   "source": [
    "from sklearn.feature_selection import RFE\n",
    "RFE?"
   ]
  },
  {
   "cell_type": "code",
   "execution_count": 59,
   "metadata": {
    "ExecuteTime": {
     "end_time": "2020-03-21T02:36:28.107020Z",
     "start_time": "2020-03-21T02:36:11.359062Z"
    }
   },
   "outputs": [
    {
     "data": {
      "text/plain": [
       "[<matplotlib.lines.Line2D at 0xe496ac8>]"
      ]
     },
     "execution_count": 59,
     "metadata": {},
     "output_type": "execute_result"
    },
    {
     "data": {
      "text/plain": [
       "[<matplotlib.lines.Line2D at 0xe4900c8>]"
      ]
     },
     "execution_count": 59,
     "metadata": {},
     "output_type": "execute_result"
    },
    {
     "data": {
      "image/png": "[encoded data removed]",
      "text/plain": [
       "<Figure size 432x288 with 1 Axes>"
      ]
     },
     "metadata": {
      "needs_background": "light"
     },
     "output_type": "display_data"
    }
   ],
   "source": [
    "from sklearn.feature_selection import RFE\n",
    "LR_1 = LogisticRegression(penalty='l1', solver='liblinear', C=0.6, max_iter=1000, random_state=0)\n",
    "LR_2 = LogisticRegression(penalty='l2', solver='liblinear', C=0.6, max_iter=1000, random_state=0)\n",
    "score1=[]\n",
    "score2=[]\n",
    "for i in range(1,12,1):\n",
    "    selector1 = RFE(LR_1, n_features_to_select=i, step=1)\n",
    "    selector2 = RFE(LR_2, n_features_to_select=i, step=1)\n",
    "    X_wrapper1 = selector1.fit_transform(x, y)\n",
    "    X_wrapper2 = selector2.fit_transform(x, y)\n",
    "    once1=cvs(LR_1, X_wrapper1, y, cv=5, scoring='f1').mean()\n",
    "    once2=cvs(LR_2, X_wrapper2, y, cv=5, scoring='f1').mean()\n",
    "    score1.append(once1)\n",
    "    score2.append(once2)\n",
    "\n",
    "plt.plot(range(1,12,1),score1, 'r')\n",
    "plt.plot(range(1,12,1),score2, 'g')\n",
    "plt.show()"
   ]
  },
  {
   "cell_type": "code",
   "execution_count": null,
   "metadata": {
    "ExecuteTime": {
     "end_time": "2020-03-21T02:20:29.912215Z",
     "start_time": "2020-03-21T02:13:50.300Z"
    }
   },
   "outputs": [],
   "source": [
    "score1\n",
    "score2"
   ]
  },
  {
   "cell_type": "markdown",
   "metadata": {},
   "source": [
    "- 使用SMOTE算法后"
   ]
  },
  {
   "cell_type": "code",
   "execution_count": 60,
   "metadata": {
    "ExecuteTime": {
     "end_time": "2020-03-21T02:37:29.981559Z",
     "start_time": "2020-03-21T02:37:24.623253Z"
    }
   },
   "outputs": [],
   "source": [
    "from imblearn.over_sampling import SMOTE\n",
    "over_samples = SMOTE(random_state=111)\n",
    "over_samples_x, over_samples_y = over_samples.fit_sample(x,y)"
   ]
  },
  {
   "cell_type": "code",
   "execution_count": null,
   "metadata": {
    "ExecuteTime": {
     "end_time": "2020-03-21T02:20:29.932216Z",
     "start_time": "2020-03-21T02:13:50.364Z"
    }
   },
   "outputs": [],
   "source": [
    "x1.columns"
   ]
  },
  {
   "cell_type": "code",
   "execution_count": null,
   "metadata": {
    "ExecuteTime": {
     "end_time": "2020-03-21T02:20:29.939216Z",
     "start_time": "2020-03-21T02:13:50.386Z"
    }
   },
   "outputs": [],
   "source": [
    "# from imblearn.over_sampling import SMOTE\n",
    "# over_samples = SMOTE(random_state=111)\n",
    "# over_samples_x1, over_samples_y1 = over_samples.fit_sample(x1,y)"
   ]
  },
  {
   "cell_type": "code",
   "execution_count": 62,
   "metadata": {
    "ExecuteTime": {
     "end_time": "2020-03-21T02:40:02.085259Z",
     "start_time": "2020-03-21T02:38:57.493565Z"
    }
   },
   "outputs": [
    {
     "data": {
      "text/plain": [
       "[<matplotlib.lines.Line2D at 0xe4ffe88>]"
      ]
     },
     "execution_count": 62,
     "metadata": {},
     "output_type": "execute_result"
    },
    {
     "data": {
      "text/plain": [
       "[<matplotlib.lines.Line2D at 0x54ebc08>]"
      ]
     },
     "execution_count": 62,
     "metadata": {},
     "output_type": "execute_result"
    },
    {
     "data": {
      "image/png": "[encoded data removed]",
      "text/plain": [
       "<Figure size 432x288 with 1 Axes>"
      ]
     },
     "metadata": {
      "needs_background": "light"
     },
     "output_type": "display_data"
    }
   ],
   "source": [
    "from sklearn.feature_selection import RFE\n",
    "LR_1 = LogisticRegression(penalty='l1', solver='liblinear', C=0.6, max_iter=1000, random_state=0)\n",
    "LR_2 = LogisticRegression(penalty='l2', solver='liblinear', C=0.6, max_iter=1000, random_state=0)\n",
    "score1=[]\n",
    "score2=[]\n",
    "for i in range(1,12,1):\n",
    "    selector1 = RFE(LR_1, n_features_to_select=i, step=1)\n",
    "    selector2 = RFE(LR_2, n_features_to_select=i, step=1)\n",
    "    X_wrapper1 = selector1.fit_transform(over_samples_x, over_samples_y)\n",
    "    X_wrapper2 = selector2.fit_transform(over_samples_x, over_samples_y)\n",
    "    once1=cvs(LR_1, X_wrapper1, over_samples_y, cv=5, scoring='f1').mean()\n",
    "    once2=cvs(LR_2, X_wrapper2, over_samples_y, cv=5, scoring='f1').mean()\n",
    "    score1.append(once1)\n",
    "    score2.append(once2)\n",
    "\n",
    "plt.plot(range(1,12,1),score1, 'r')\n",
    "plt.plot(range(1,12,1),score2, 'g')\n",
    "plt.show()"
   ]
  },
  {
   "cell_type": "code",
   "execution_count": null,
   "metadata": {
    "ExecuteTime": {
     "end_time": "2020-03-21T02:20:29.946217Z",
     "start_time": "2020-03-21T02:13:50.439Z"
    }
   },
   "outputs": [],
   "source": [
    "score1\n",
    "score2"
   ]
  },
  {
   "cell_type": "code",
   "execution_count": null,
   "metadata": {},
   "outputs": [],
   "source": []
  },
  {
   "cell_type": "markdown",
   "metadata": {},
   "source": [
    "# 决策树"
   ]
  },
  {
   "cell_type": "code",
   "execution_count": 63,
   "metadata": {
    "ExecuteTime": {
     "end_time": "2020-03-21T02:40:33.280043Z",
     "start_time": "2020-03-21T02:40:33.264043Z"
    }
   },
   "outputs": [],
   "source": [
    "# 导入train_test_split\n",
    "from sklearn.model_selection import train_test_split\n",
    "from sklearn.metrics import precision_score, recall_score, f1_score, classification_report\n",
    "from sklearn.tree import DecisionTreeClassifier as DTC"
   ]
  },
  {
   "cell_type": "code",
   "execution_count": 64,
   "metadata": {
    "ExecuteTime": {
     "end_time": "2020-03-21T02:40:45.667752Z",
     "start_time": "2020-03-21T02:40:45.573747Z"
    }
   },
   "outputs": [],
   "source": [
    "x_train, x_test, y_train, y_test = train_test_split(x, y, test_size=0.3, random_state=999)"
   ]
  },
  {
   "cell_type": "code",
   "execution_count": 103,
   "metadata": {
    "ExecuteTime": {
     "end_time": "2020-03-21T04:51:11.865385Z",
     "start_time": "2020-03-21T04:51:11.860385Z"
    }
   },
   "outputs": [],
   "source": [
    "# dtc=DTC(class_weight='balanced').fit(x_train, y_train, sample_weight='balanced')"
   ]
  },
  {
   "cell_type": "code",
   "execution_count": 102,
   "metadata": {
    "ExecuteTime": {
     "end_time": "2020-03-21T04:51:02.831868Z",
     "start_time": "2020-03-21T04:51:02.801867Z"
    }
   },
   "outputs": [],
   "source": [
    "# print(classification_report(y_train, dtc.predict(x_train)))\n",
    "# print(classification_report(y_test, dtc.predict(x_test)))"
   ]
  },
  {
   "cell_type": "code",
   "execution_count": null,
   "metadata": {},
   "outputs": [],
   "source": [
    "dtc=DTC(class_weight='balanced').fit"
   ]
  },
  {
   "cell_type": "code",
   "execution_count": null,
   "metadata": {},
   "outputs": [],
   "source": []
  },
  {
   "cell_type": "code",
   "execution_count": 65,
   "metadata": {
    "ExecuteTime": {
     "end_time": "2020-03-21T02:40:52.215127Z",
     "start_time": "2020-03-21T02:40:52.175124Z"
    }
   },
   "outputs": [],
   "source": [
    "from imblearn.over_sampling import SMOTE\n",
    "over_samples = SMOTE(random_state=111)\n",
    "over_samples_x_train, over_samples_y_train = over_samples.fit_sample(x_train,y_train)\n",
    "over_samples_x_test, over_samples_y_test = over_samples.fit_sample(x_test,y_test)"
   ]
  },
  {
   "cell_type": "code",
   "execution_count": 66,
   "metadata": {
    "ExecuteTime": {
     "end_time": "2020-03-21T02:40:53.559203Z",
     "start_time": "2020-03-21T02:40:53.538202Z"
    }
   },
   "outputs": [
    {
     "data": {
      "text/plain": [
       "1    3445\n",
       "0    3445\n",
       "Name: 样本标签, dtype: int64"
      ]
     },
     "execution_count": 66,
     "metadata": {},
     "output_type": "execute_result"
    },
    {
     "data": {
      "text/plain": [
       "1    1454\n",
       "0    1454\n",
       "Name: 样本标签, dtype: int64"
      ]
     },
     "execution_count": 66,
     "metadata": {},
     "output_type": "execute_result"
    }
   ],
   "source": [
    "over_samples_y_train.value_counts()\n",
    "over_samples_y_test.value_counts()"
   ]
  },
  {
   "cell_type": "code",
   "execution_count": null,
   "metadata": {
    "ExecuteTime": {
     "end_time": "2020-03-21T02:20:29.995220Z",
     "start_time": "2020-03-21T02:13:50.627Z"
    }
   },
   "outputs": [],
   "source": [
    "# x1_train = x_train.drop(['本期账单余额','上期还款差额标签'], axis=1)\n",
    "# x1_test = x_test.drop(['本期账单余额','上期还款差额标签'], axis=1)"
   ]
  },
  {
   "cell_type": "code",
   "execution_count": null,
   "metadata": {
    "ExecuteTime": {
     "end_time": "2020-03-21T02:20:30.000220Z",
     "start_time": "2020-03-21T02:13:50.649Z"
    }
   },
   "outputs": [],
   "source": [
    "# x1_train.columns\n",
    "# x1_test.columns\n",
    "# y_train.value_counts()\n",
    "# y_test.value_counts()"
   ]
  },
  {
   "cell_type": "code",
   "execution_count": null,
   "metadata": {
    "ExecuteTime": {
     "end_time": "2020-03-21T02:20:30.003220Z",
     "start_time": "2020-03-21T02:13:50.674Z"
    }
   },
   "outputs": [],
   "source": [
    "dtc?"
   ]
  },
  {
   "cell_type": "code",
   "execution_count": 69,
   "metadata": {
    "ExecuteTime": {
     "end_time": "2020-03-21T02:43:29.989151Z",
     "start_time": "2020-03-21T02:43:29.634130Z"
    }
   },
   "outputs": [
    {
     "data": {
      "text/plain": [
       "0.7777491677294854"
      ]
     },
     "execution_count": 69,
     "metadata": {},
     "output_type": "execute_result"
    },
    {
     "name": "stdout",
     "output_type": "stream",
     "text": [
      "              precision    recall  f1-score   support\n",
      "\n",
      "           0       0.86      0.77      0.81      1454\n",
      "           1       0.21      0.33      0.25       267\n",
      "\n",
      "    accuracy                           0.70      1721\n",
      "   macro avg       0.53      0.55      0.53      1721\n",
      "weighted avg       0.76      0.70      0.73      1721\n",
      "\n",
      "              precision    recall  f1-score   support\n",
      "\n",
      "           0       0.68      0.77      0.72      1454\n",
      "           1       0.74      0.64      0.69      1454\n",
      "\n",
      "    accuracy                           0.71      2908\n",
      "   macro avg       0.71      0.71      0.70      2908\n",
      "weighted avg       0.71      0.71      0.70      2908\n",
      "\n",
      "              precision    recall  f1-score   support\n",
      "\n",
      "           0       1.00      1.00      1.00      3445\n",
      "           1       1.00      1.00      1.00      3445\n",
      "\n",
      "    accuracy                           1.00      6890\n",
      "   macro avg       1.00      1.00      1.00      6890\n",
      "weighted avg       1.00      1.00      1.00      6890\n",
      "\n"
     ]
    }
   ],
   "source": [
    "dtc=DTC(splitter='random', random_state=222).fit(over_samples_x_train, over_samples_y_train)\n",
    "cvs(dtc, over_samples_x_train, over_samples_y_train, cv=10, scoring='f1').mean()\n",
    "print(classification_report(y_test, dtc.predict(x_test)))\n",
    "print(classification_report(over_samples_y_test, dtc.predict(over_samples_x_test)))\n",
    "print(classification_report(over_samples_y_train, dtc.predict(over_samples_x_train)))"
   ]
  },
  {
   "cell_type": "code",
   "execution_count": 70,
   "metadata": {
    "ExecuteTime": {
     "end_time": "2020-03-21T02:45:57.330578Z",
     "start_time": "2020-03-21T02:45:55.141453Z"
    }
   },
   "outputs": [
    {
     "data": {
      "text/plain": [
       "DecisionTreeClassifier(ccp_alpha=0.0, class_weight=None, criterion='gini',\n",
       "                       max_depth=2, max_features=None, max_leaf_nodes=None,\n",
       "                       min_impurity_decrease=0.0, min_impurity_split=None,\n",
       "                       min_samples_leaf=10, min_samples_split=25,\n",
       "                       min_weight_fraction_leaf=0.0, presort='deprecated',\n",
       "                       random_state=11, splitter='best')"
      ]
     },
     "execution_count": 70,
     "metadata": {},
     "output_type": "execute_result"
    },
    {
     "data": {
      "text/plain": [
       "DecisionTreeClassifier(ccp_alpha=0.0, class_weight=None, criterion='gini',\n",
       "                       max_depth=3, max_features=None, max_leaf_nodes=None,\n",
       "                       min_impurity_decrease=0.0, min_impurity_split=None,\n",
       "                       min_samples_leaf=10, min_samples_split=25,\n",
       "                       min_weight_fraction_leaf=0.0, presort='deprecated',\n",
       "                       random_state=11, splitter='best')"
      ]
     },
     "execution_count": 70,
     "metadata": {},
     "output_type": "execute_result"
    },
    {
     "data": {
      "text/plain": [
       "DecisionTreeClassifier(ccp_alpha=0.0, class_weight=None, criterion='gini',\n",
       "                       max_depth=4, max_features=None, max_leaf_nodes=None,\n",
       "                       min_impurity_decrease=0.0, min_impurity_split=None,\n",
       "                       min_samples_leaf=10, min_samples_split=25,\n",
       "                       min_weight_fraction_leaf=0.0, presort='deprecated',\n",
       "                       random_state=11, splitter='best')"
      ]
     },
     "execution_count": 70,
     "metadata": {},
     "output_type": "execute_result"
    },
    {
     "data": {
      "text/plain": [
       "DecisionTreeClassifier(ccp_alpha=0.0, class_weight=None, criterion='gini',\n",
       "                       max_depth=5, max_features=None, max_leaf_nodes=None,\n",
       "                       min_impurity_decrease=0.0, min_impurity_split=None,\n",
       "                       min_samples_leaf=10, min_samples_split=25,\n",
       "                       min_weight_fraction_leaf=0.0, presort='deprecated',\n",
       "                       random_state=11, splitter='best')"
      ]
     },
     "execution_count": 70,
     "metadata": {},
     "output_type": "execute_result"
    },
    {
     "data": {
      "text/plain": [
       "DecisionTreeClassifier(ccp_alpha=0.0, class_weight=None, criterion='gini',\n",
       "                       max_depth=6, max_features=None, max_leaf_nodes=None,\n",
       "                       min_impurity_decrease=0.0, min_impurity_split=None,\n",
       "                       min_samples_leaf=10, min_samples_split=25,\n",
       "                       min_weight_fraction_leaf=0.0, presort='deprecated',\n",
       "                       random_state=11, splitter='best')"
      ]
     },
     "execution_count": 70,
     "metadata": {},
     "output_type": "execute_result"
    },
    {
     "data": {
      "text/plain": [
       "DecisionTreeClassifier(ccp_alpha=0.0, class_weight=None, criterion='gini',\n",
       "                       max_depth=7, max_features=None, max_leaf_nodes=None,\n",
       "                       min_impurity_decrease=0.0, min_impurity_split=None,\n",
       "                       min_samples_leaf=10, min_samples_split=25,\n",
       "                       min_weight_fraction_leaf=0.0, presort='deprecated',\n",
       "                       random_state=11, splitter='best')"
      ]
     },
     "execution_count": 70,
     "metadata": {},
     "output_type": "execute_result"
    },
    {
     "data": {
      "text/plain": [
       "DecisionTreeClassifier(ccp_alpha=0.0, class_weight=None, criterion='gini',\n",
       "                       max_depth=8, max_features=None, max_leaf_nodes=None,\n",
       "                       min_impurity_decrease=0.0, min_impurity_split=None,\n",
       "                       min_samples_leaf=10, min_samples_split=25,\n",
       "                       min_weight_fraction_leaf=0.0, presort='deprecated',\n",
       "                       random_state=11, splitter='best')"
      ]
     },
     "execution_count": 70,
     "metadata": {},
     "output_type": "execute_result"
    },
    {
     "data": {
      "text/plain": [
       "DecisionTreeClassifier(ccp_alpha=0.0, class_weight=None, criterion='gini',\n",
       "                       max_depth=9, max_features=None, max_leaf_nodes=None,\n",
       "                       min_impurity_decrease=0.0, min_impurity_split=None,\n",
       "                       min_samples_leaf=10, min_samples_split=25,\n",
       "                       min_weight_fraction_leaf=0.0, presort='deprecated',\n",
       "                       random_state=11, splitter='best')"
      ]
     },
     "execution_count": 70,
     "metadata": {},
     "output_type": "execute_result"
    },
    {
     "data": {
      "text/plain": [
       "DecisionTreeClassifier(ccp_alpha=0.0, class_weight=None, criterion='gini',\n",
       "                       max_depth=10, max_features=None, max_leaf_nodes=None,\n",
       "                       min_impurity_decrease=0.0, min_impurity_split=None,\n",
       "                       min_samples_leaf=10, min_samples_split=25,\n",
       "                       min_weight_fraction_leaf=0.0, presort='deprecated',\n",
       "                       random_state=11, splitter='best')"
      ]
     },
     "execution_count": 70,
     "metadata": {},
     "output_type": "execute_result"
    }
   ],
   "source": [
    "L_train=[]\n",
    "L_test=[]\n",
    "L_CVS=[]\n",
    "for i in range(2,11):\n",
    "    dtc = DTC(criterion='gini', random_state=11, splitter='best', max_depth=i,\n",
    "             min_samples_leaf=10, min_samples_split=25)\n",
    "    dtc.fit(over_samples_x_train, over_samples_y_train)\n",
    "    once = cvs(dtc, over_samples_x_train,over_samples_y_train,cv=5, scoring='f1').mean()\n",
    "    L_CVS.append(once)\n",
    "    L_train.append(f1_score(over_samples_y_train,dtc.predict(over_samples_x_train)))\n",
    "    L_test.append(f1_score(over_samples_y_test, dtc.predict(over_samples_x_test)))"
   ]
  },
  {
   "cell_type": "code",
   "execution_count": 71,
   "metadata": {
    "ExecuteTime": {
     "end_time": "2020-03-21T02:46:04.692999Z",
     "start_time": "2020-03-21T02:46:04.325978Z"
    }
   },
   "outputs": [
    {
     "data": {
      "text/plain": [
       "[<matplotlib.lines.Line2D at 0x61c2d48>]"
      ]
     },
     "execution_count": 71,
     "metadata": {},
     "output_type": "execute_result"
    },
    {
     "data": {
      "text/plain": [
       "[<matplotlib.lines.Line2D at 0x53ce848>]"
      ]
     },
     "execution_count": 71,
     "metadata": {},
     "output_type": "execute_result"
    },
    {
     "data": {
      "text/plain": [
       "[<matplotlib.lines.Line2D at 0xb30b888>]"
      ]
     },
     "execution_count": 71,
     "metadata": {},
     "output_type": "execute_result"
    },
    {
     "data": {
      "image/png": "[encoded data removed]",
      "text/plain": [
       "<Figure size 432x288 with 1 Axes>"
      ]
     },
     "metadata": {
      "needs_background": "light"
     },
     "output_type": "display_data"
    }
   ],
   "source": [
    "plt.plot(L_CVS, 'r')\n",
    "plt.plot(L_train, 'g')\n",
    "plt.plot(L_test, 'b')"
   ]
  },
  {
   "cell_type": "code",
   "execution_count": 72,
   "metadata": {
    "ExecuteTime": {
     "end_time": "2020-03-21T02:46:41.752119Z",
     "start_time": "2020-03-21T02:46:41.474103Z"
    }
   },
   "outputs": [
    {
     "data": {
      "text/plain": [
       "0.6667051215526791"
      ]
     },
     "execution_count": 72,
     "metadata": {},
     "output_type": "execute_result"
    },
    {
     "name": "stdout",
     "output_type": "stream",
     "text": [
      "              precision    recall  f1-score   support\n",
      "\n",
      "           0       0.87      0.74      0.80      1454\n",
      "           1       0.22      0.40      0.29       267\n",
      "\n",
      "    accuracy                           0.69      1721\n",
      "   macro avg       0.55      0.57      0.54      1721\n",
      "weighted avg       0.77      0.69      0.72      1721\n",
      "\n",
      "              precision    recall  f1-score   support\n",
      "\n",
      "           0       0.70      0.74      0.72      1454\n",
      "           1       0.72      0.68      0.70      1454\n",
      "\n",
      "    accuracy                           0.71      2908\n",
      "   macro avg       0.71      0.71      0.71      2908\n",
      "weighted avg       0.71      0.71      0.71      2908\n",
      "\n",
      "              precision    recall  f1-score   support\n",
      "\n",
      "           0       0.73      0.76      0.74      3445\n",
      "           1       0.75      0.72      0.73      3445\n",
      "\n",
      "    accuracy                           0.74      6890\n",
      "   macro avg       0.74      0.74      0.74      6890\n",
      "weighted avg       0.74      0.74      0.74      6890\n",
      "\n"
     ]
    }
   ],
   "source": [
    "# 最大深度选择5比较合适\n",
    "dtc = DTC(criterion='gini', \n",
    " #         random_state=11,\n",
    "          splitter='best', max_depth=5,\n",
    "             min_samples_leaf=10, min_samples_split=25).fit(over_samples_x_train, over_samples_y_train)\n",
    "cvs(dtc, over_samples_x_train, over_samples_y_train, cv=5, scoring='f1').mean()\n",
    "print(classification_report(y_test, dtc.predict(x_test)))\n",
    "print(classification_report(over_samples_y_test, dtc.predict(over_samples_x_test)))\n",
    "print(classification_report(over_samples_y_train, dtc.predict(over_samples_x_train)))"
   ]
  },
  {
   "cell_type": "code",
   "execution_count": 73,
   "metadata": {
    "ExecuteTime": {
     "end_time": "2020-03-21T02:46:53.492790Z",
     "start_time": "2020-03-21T02:46:53.476790Z"
    }
   },
   "outputs": [
    {
     "data": {
      "text/plain": [
       "array([0.10177878, 0.01525748, 0.01266462, 0.06421788, 0.04764356,\n",
       "       0.        , 0.        , 0.00445492, 0.00373405, 0.04433287,\n",
       "       0.70591584])"
      ]
     },
     "execution_count": 73,
     "metadata": {},
     "output_type": "execute_result"
    },
    {
     "data": {
      "text/plain": [
       "上期还款差额标签     0.705916\n",
       "性别           0.101779\n",
       "平均支出         0.064218\n",
       "平均工资收入       0.047644\n",
       "浏览行为数据       0.044333\n",
       "教育程度         0.015257\n",
       "婚姻状态         0.012665\n",
       "本期账单最低还款额    0.004455\n",
       "消费笔数         0.003734\n",
       "本期账单余额       0.000000\n",
       "信用卡额度        0.000000\n",
       "dtype: float64"
      ]
     },
     "execution_count": 73,
     "metadata": {},
     "output_type": "execute_result"
    }
   ],
   "source": [
    "dtc.feature_importances_\n",
    "features_imp = pd.Series(dtc.feature_importances_, \n",
    "          index = x.columns).sort_values(ascending=False)\n",
    "features_imp"
   ]
  },
  {
   "cell_type": "markdown",
   "metadata": {},
   "source": [
    "- 可视化"
   ]
  },
  {
   "cell_type": "code",
   "execution_count": 74,
   "metadata": {
    "ExecuteTime": {
     "end_time": "2020-03-21T02:47:27.946761Z",
     "start_time": "2020-03-21T02:47:09.561710Z"
    }
   },
   "outputs": [
    {
     "name": "stdout",
     "output_type": "stream",
     "text": [
      "Looking in indexes: https://pypi.douban.com/simple\n",
      "Requirement already satisfied: graphviz in d:\\anaconda3\\lib\\site-packages (0.13.2)\n",
      "Note: you may need to restart the kernel to use updated packages.\n"
     ]
    }
   ],
   "source": [
    "pip install graphviz -i https://pypi.douban.com/simple"
   ]
  },
  {
   "cell_type": "code",
   "execution_count": 75,
   "metadata": {
    "ExecuteTime": {
     "end_time": "2020-03-21T02:47:39.468420Z",
     "start_time": "2020-03-21T02:47:39.461420Z"
    }
   },
   "outputs": [],
   "source": [
    "import os\n",
    "os.environ[\"PATH\"] += os.pathsep + 'C:/Program Files (x86)/Graphviz2.38/bin'"
   ]
  },
  {
   "cell_type": "code",
   "execution_count": 76,
   "metadata": {
    "ExecuteTime": {
     "end_time": "2020-03-21T02:51:21.138099Z",
     "start_time": "2020-03-21T02:51:20.964089Z"
    }
   },
   "outputs": [],
   "source": [
    "import graphviz\n",
    "from sklearn import tree"
   ]
  },
  {
   "cell_type": "code",
   "execution_count": 77,
   "metadata": {
    "ExecuteTime": {
     "end_time": "2020-03-21T02:51:24.934316Z",
     "start_time": "2020-03-21T02:51:22.610183Z"
    }
   },
   "outputs": [
    {
     "data": {
      "image/svg+xml": [
       "<?xml version=\"1.0\" encoding=\"UTF-8\" standalone=\"no\"?>\r\n",
       "<!DOCTYPE svg PUBLIC \"-//W3C//DTD SVG 1.1//EN\"\r\n",
       " \"http://www.w3.org/Graphics/SVG/1.1/DTD/svg11.dtd\">\r\n",
       "<!-- Generated by graphviz version 2.38.0 (20140413.2041)\r\n",
       " -->\r\n",
       "<!-- Title: Tree Pages: 1 -->\r\n",
       "<svg width=\"2181pt\" height=\"581pt\"\r\n",
       " viewBox=\"0.00 0.00 2180.50 581.00\" xmlns=\"http://www.w3.org/2000/svg\" xmlns:xlink=\"http://www.w3.org/1999/xlink\">\r\n",
       "<g id=\"graph0\" class=\"graph\" transform=\"scale(1 1) rotate(0) translate(4 577)\">\r\n",
       "<title>Tree</title>\r\n",
       "<polygon fill=\"white\" stroke=\"none\" points=\"-4,4 -4,-577 2176.5,-577 2176.5,4 -4,4\"/>\r\n",
       "<!-- 0 -->\r\n",
       "<g id=\"node1\" class=\"node\"><title>0</title>\r\n",
       "<path fill=\"#ffffff\" stroke=\"black\" d=\"M962,-573C962,-573 823,-573 823,-573 817,-573 811,-567 811,-561 811,-561 811,-517 811,-517 811,-511 817,-505 823,-505 823,-505 962,-505 962,-505 968,-505 974,-511 974,-517 974,-517 974,-561 974,-561 974,-567 968,-573 962,-573\"/>\r\n",
       "<text text-anchor=\"middle\" x=\"892.5\" y=\"-557.8\" font-family=\"Helvetica,sans-Serif\" font-size=\"14.00\">上期还款差额标签 &lt;= 0.0</text>\r\n",
       "<text text-anchor=\"middle\" x=\"892.5\" y=\"-542.8\" font-family=\"Helvetica,sans-Serif\" font-size=\"14.00\">gini = 0.5</text>\r\n",
       "<text text-anchor=\"middle\" x=\"892.5\" y=\"-527.8\" font-family=\"Helvetica,sans-Serif\" font-size=\"14.00\">samples = 6890</text>\r\n",
       "<text text-anchor=\"middle\" x=\"892.5\" y=\"-512.8\" font-family=\"Helvetica,sans-Serif\" font-size=\"14.00\">value = [3445, 3445]</text>\r\n",
       "</g>\r\n",
       "<!-- 1 -->\r\n",
       "<g id=\"node2\" class=\"node\"><title>1</title>\r\n",
       "<path fill=\"#f2c29f\" stroke=\"black\" d=\"M781.5,-469C781.5,-469 667.5,-469 667.5,-469 661.5,-469 655.5,-463 655.5,-457 655.5,-457 655.5,-413 655.5,-413 655.5,-407 661.5,-401 667.5,-401 667.5,-401 781.5,-401 781.5,-401 787.5,-401 793.5,-407 793.5,-413 793.5,-413 793.5,-457 793.5,-457 793.5,-463 787.5,-469 781.5,-469\"/>\r\n",
       "<text text-anchor=\"middle\" x=\"724.5\" y=\"-453.8\" font-family=\"Helvetica,sans-Serif\" font-size=\"14.00\">性别 &lt;= 0.5</text>\r\n",
       "<text text-anchor=\"middle\" x=\"724.5\" y=\"-438.8\" font-family=\"Helvetica,sans-Serif\" font-size=\"14.00\">gini = 0.448</text>\r\n",
       "<text text-anchor=\"middle\" x=\"724.5\" y=\"-423.8\" font-family=\"Helvetica,sans-Serif\" font-size=\"14.00\">samples = 2457</text>\r\n",
       "<text text-anchor=\"middle\" x=\"724.5\" y=\"-408.8\" font-family=\"Helvetica,sans-Serif\" font-size=\"14.00\">value = [1624, 833]</text>\r\n",
       "</g>\r\n",
       "<!-- 0&#45;&gt;1 -->\r\n",
       "<g id=\"edge1\" class=\"edge\"><title>0&#45;&gt;1</title>\r\n",
       "<path fill=\"none\" stroke=\"black\" d=\"M837.955,-504.884C822.03,-495.214 804.487,-484.563 788.055,-474.587\"/>\r\n",
       "<polygon fill=\"black\" stroke=\"black\" points=\"789.423,-471.323 779.058,-469.125 785.79,-477.306 789.423,-471.323\"/>\r\n",
       "<text text-anchor=\"middle\" x=\"784.995\" y=\"-489.71\" font-family=\"Helvetica,sans-Serif\" font-size=\"14.00\">True</text>\r\n",
       "</g>\r\n",
       "<!-- 24 -->\r\n",
       "<g id=\"node25\" class=\"node\"><title>24</title>\r\n",
       "<path fill=\"#c3e1f7\" stroke=\"black\" d=\"M1131,-469C1131,-469 992,-469 992,-469 986,-469 980,-463 980,-457 980,-457 980,-413 980,-413 980,-407 986,-401 992,-401 992,-401 1131,-401 1131,-401 1137,-401 1143,-407 1143,-413 1143,-413 1143,-457 1143,-457 1143,-463 1137,-469 1131,-469\"/>\r\n",
       "<text text-anchor=\"middle\" x=\"1061.5\" y=\"-453.8\" font-family=\"Helvetica,sans-Serif\" font-size=\"14.00\">上期还款差额标签 &lt;= 1.0</text>\r\n",
       "<text text-anchor=\"middle\" x=\"1061.5\" y=\"-438.8\" font-family=\"Helvetica,sans-Serif\" font-size=\"14.00\">gini = 0.484</text>\r\n",
       "<text text-anchor=\"middle\" x=\"1061.5\" y=\"-423.8\" font-family=\"Helvetica,sans-Serif\" font-size=\"14.00\">samples = 4433</text>\r\n",
       "<text text-anchor=\"middle\" x=\"1061.5\" y=\"-408.8\" font-family=\"Helvetica,sans-Serif\" font-size=\"14.00\">value = [1821, 2612]</text>\r\n",
       "</g>\r\n",
       "<!-- 0&#45;&gt;24 -->\r\n",
       "<g id=\"edge24\" class=\"edge\"><title>0&#45;&gt;24</title>\r\n",
       "<path fill=\"none\" stroke=\"black\" d=\"M947.369,-504.884C963.538,-495.125 981.364,-484.366 998.025,-474.31\"/>\r\n",
       "<polygon fill=\"black\" stroke=\"black\" points=\"999.864,-477.289 1006.62,-469.125 996.247,-471.296 999.864,-477.289\"/>\r\n",
       "<text text-anchor=\"middle\" x=\"1000.62\" y=\"-489.694\" font-family=\"Helvetica,sans-Serif\" font-size=\"14.00\">False</text>\r\n",
       "</g>\r\n",
       "<!-- 2 -->\r\n",
       "<g id=\"node3\" class=\"node\"><title>2</title>\r\n",
       "<path fill=\"#51a9e8\" stroke=\"black\" d=\"M587,-365C587,-365 474,-365 474,-365 468,-365 462,-359 462,-353 462,-353 462,-309 462,-309 462,-303 468,-297 474,-297 474,-297 587,-297 587,-297 593,-297 599,-303 599,-309 599,-309 599,-353 599,-353 599,-359 593,-365 587,-365\"/>\r\n",
       "<text text-anchor=\"middle\" x=\"530.5\" y=\"-349.8\" font-family=\"Helvetica,sans-Serif\" font-size=\"14.00\">平均支出 &lt;= 13.104</text>\r\n",
       "<text text-anchor=\"middle\" x=\"530.5\" y=\"-334.8\" font-family=\"Helvetica,sans-Serif\" font-size=\"14.00\">gini = 0.192</text>\r\n",
       "<text text-anchor=\"middle\" x=\"530.5\" y=\"-319.8\" font-family=\"Helvetica,sans-Serif\" font-size=\"14.00\">samples = 93</text>\r\n",
       "<text text-anchor=\"middle\" x=\"530.5\" y=\"-304.8\" font-family=\"Helvetica,sans-Serif\" font-size=\"14.00\">value = [10, 83]</text>\r\n",
       "</g>\r\n",
       "<!-- 1&#45;&gt;2 -->\r\n",
       "<g id=\"edge2\" class=\"edge\"><title>1&#45;&gt;2</title>\r\n",
       "<path fill=\"none\" stroke=\"black\" d=\"M661.514,-400.884C642.698,-390.991 621.927,-380.07 602.576,-369.895\"/>\r\n",
       "<polygon fill=\"black\" stroke=\"black\" points=\"603.982,-366.681 593.502,-365.125 600.724,-372.876 603.982,-366.681\"/>\r\n",
       "</g>\r\n",
       "<!-- 9 -->\r\n",
       "<g id=\"node10\" class=\"node\"><title>9</title>\r\n",
       "<path fill=\"#f1bc95\" stroke=\"black\" d=\"M789.5,-365C789.5,-365 659.5,-365 659.5,-365 653.5,-365 647.5,-359 647.5,-353 647.5,-353 647.5,-309 647.5,-309 647.5,-303 653.5,-297 659.5,-297 659.5,-297 789.5,-297 789.5,-297 795.5,-297 801.5,-303 801.5,-309 801.5,-309 801.5,-353 801.5,-353 801.5,-359 795.5,-365 789.5,-365\"/>\r\n",
       "<text text-anchor=\"middle\" x=\"724.5\" y=\"-349.8\" font-family=\"Helvetica,sans-Serif\" font-size=\"14.00\">浏览行为数据 &lt;= 129.5</text>\r\n",
       "<text text-anchor=\"middle\" x=\"724.5\" y=\"-334.8\" font-family=\"Helvetica,sans-Serif\" font-size=\"14.00\">gini = 0.433</text>\r\n",
       "<text text-anchor=\"middle\" x=\"724.5\" y=\"-319.8\" font-family=\"Helvetica,sans-Serif\" font-size=\"14.00\">samples = 2364</text>\r\n",
       "<text text-anchor=\"middle\" x=\"724.5\" y=\"-304.8\" font-family=\"Helvetica,sans-Serif\" font-size=\"14.00\">value = [1614, 750]</text>\r\n",
       "</g>\r\n",
       "<!-- 1&#45;&gt;9 -->\r\n",
       "<g id=\"edge9\" class=\"edge\"><title>1&#45;&gt;9</title>\r\n",
       "<path fill=\"none\" stroke=\"black\" d=\"M724.5,-400.884C724.5,-392.778 724.5,-383.982 724.5,-375.472\"/>\r\n",
       "<polygon fill=\"black\" stroke=\"black\" points=\"728,-375.299 724.5,-365.299 721,-375.299 728,-375.299\"/>\r\n",
       "</g>\r\n",
       "<!-- 3 -->\r\n",
       "<g id=\"node4\" class=\"node\"><title>3</title>\r\n",
       "<path fill=\"#43a2e6\" stroke=\"black\" d=\"M359.5,-261C359.5,-261 221.5,-261 221.5,-261 215.5,-261 209.5,-255 209.5,-249 209.5,-249 209.5,-205 209.5,-205 209.5,-199 215.5,-193 221.5,-193 221.5,-193 359.5,-193 359.5,-193 365.5,-193 371.5,-199 371.5,-205 371.5,-205 371.5,-249 371.5,-249 371.5,-255 365.5,-261 359.5,-261\"/>\r\n",
       "<text text-anchor=\"middle\" x=\"290.5\" y=\"-245.8\" font-family=\"Helvetica,sans-Serif\" font-size=\"14.00\">平均工资收入 &lt;= 12.434</text>\r\n",
       "<text text-anchor=\"middle\" x=\"290.5\" y=\"-230.8\" font-family=\"Helvetica,sans-Serif\" font-size=\"14.00\">gini = 0.092</text>\r\n",
       "<text text-anchor=\"middle\" x=\"290.5\" y=\"-215.8\" font-family=\"Helvetica,sans-Serif\" font-size=\"14.00\">samples = 83</text>\r\n",
       "<text text-anchor=\"middle\" x=\"290.5\" y=\"-200.8\" font-family=\"Helvetica,sans-Serif\" font-size=\"14.00\">value = [4, 79]</text>\r\n",
       "</g>\r\n",
       "<!-- 2&#45;&gt;3 -->\r\n",
       "<g id=\"edge3\" class=\"edge\"><title>2&#45;&gt;3</title>\r\n",
       "<path fill=\"none\" stroke=\"black\" d=\"M461.726,-300.771C435.467,-289.611 405.181,-276.739 377.448,-264.953\"/>\r\n",
       "<polygon fill=\"black\" stroke=\"black\" points=\"378.723,-261.692 368.151,-261.001 375.985,-268.134 378.723,-261.692\"/>\r\n",
       "</g>\r\n",
       "<!-- 8 -->\r\n",
       "<g id=\"node9\" class=\"node\"><title>8</title>\r\n",
       "<path fill=\"#f6d5bd\" stroke=\"black\" d=\"M570,-253.5C570,-253.5 491,-253.5 491,-253.5 485,-253.5 479,-247.5 479,-241.5 479,-241.5 479,-212.5 479,-212.5 479,-206.5 485,-200.5 491,-200.5 491,-200.5 570,-200.5 570,-200.5 576,-200.5 582,-206.5 582,-212.5 582,-212.5 582,-241.5 582,-241.5 582,-247.5 576,-253.5 570,-253.5\"/>\r\n",
       "<text text-anchor=\"middle\" x=\"530.5\" y=\"-238.3\" font-family=\"Helvetica,sans-Serif\" font-size=\"14.00\">gini = 0.48</text>\r\n",
       "<text text-anchor=\"middle\" x=\"530.5\" y=\"-223.3\" font-family=\"Helvetica,sans-Serif\" font-size=\"14.00\">samples = 10</text>\r\n",
       "<text text-anchor=\"middle\" x=\"530.5\" y=\"-208.3\" font-family=\"Helvetica,sans-Serif\" font-size=\"14.00\">value = [6, 4]</text>\r\n",
       "</g>\r\n",
       "<!-- 2&#45;&gt;8 -->\r\n",
       "<g id=\"edge8\" class=\"edge\"><title>2&#45;&gt;8</title>\r\n",
       "<path fill=\"none\" stroke=\"black\" d=\"M530.5,-296.884C530.5,-286.326 530.5,-274.597 530.5,-263.854\"/>\r\n",
       "<polygon fill=\"black\" stroke=\"black\" points=\"534,-263.52 530.5,-253.52 527,-263.52 534,-263.52\"/>\r\n",
       "</g>\r\n",
       "<!-- 4 -->\r\n",
       "<g id=\"node5\" class=\"node\"><title>4</title>\r\n",
       "<path fill=\"#3fa0e6\" stroke=\"black\" d=\"M208.5,-157C208.5,-157 120.5,-157 120.5,-157 114.5,-157 108.5,-151 108.5,-145 108.5,-145 108.5,-101 108.5,-101 108.5,-95 114.5,-89 120.5,-89 120.5,-89 208.5,-89 208.5,-89 214.5,-89 220.5,-95 220.5,-101 220.5,-101 220.5,-145 220.5,-145 220.5,-151 214.5,-157 208.5,-157\"/>\r\n",
       "<text text-anchor=\"middle\" x=\"164.5\" y=\"-141.8\" font-family=\"Helvetica,sans-Serif\" font-size=\"14.00\">教育程度 &lt;= 3.5</text>\r\n",
       "<text text-anchor=\"middle\" x=\"164.5\" y=\"-126.8\" font-family=\"Helvetica,sans-Serif\" font-size=\"14.00\">gini = 0.053</text>\r\n",
       "<text text-anchor=\"middle\" x=\"164.5\" y=\"-111.8\" font-family=\"Helvetica,sans-Serif\" font-size=\"14.00\">samples = 73</text>\r\n",
       "<text text-anchor=\"middle\" x=\"164.5\" y=\"-96.8\" font-family=\"Helvetica,sans-Serif\" font-size=\"14.00\">value = [2, 71]</text>\r\n",
       "</g>\r\n",
       "<!-- 3&#45;&gt;4 -->\r\n",
       "<g id=\"edge4\" class=\"edge\"><title>3&#45;&gt;4</title>\r\n",
       "<path fill=\"none\" stroke=\"black\" d=\"M249.591,-192.884C238.148,-183.62 225.591,-173.455 213.721,-163.845\"/>\r\n",
       "<polygon fill=\"black\" stroke=\"black\" points=\"215.609,-160.871 205.635,-157.299 211.205,-166.312 215.609,-160.871\"/>\r\n",
       "</g>\r\n",
       "<!-- 7 -->\r\n",
       "<g id=\"node8\" class=\"node\"><title>7</title>\r\n",
       "<path fill=\"#6ab6ec\" stroke=\"black\" d=\"M330,-149.5C330,-149.5 251,-149.5 251,-149.5 245,-149.5 239,-143.5 239,-137.5 239,-137.5 239,-108.5 239,-108.5 239,-102.5 245,-96.5 251,-96.5 251,-96.5 330,-96.5 330,-96.5 336,-96.5 342,-102.5 342,-108.5 342,-108.5 342,-137.5 342,-137.5 342,-143.5 336,-149.5 330,-149.5\"/>\r\n",
       "<text text-anchor=\"middle\" x=\"290.5\" y=\"-134.3\" font-family=\"Helvetica,sans-Serif\" font-size=\"14.00\">gini = 0.32</text>\r\n",
       "<text text-anchor=\"middle\" x=\"290.5\" y=\"-119.3\" font-family=\"Helvetica,sans-Serif\" font-size=\"14.00\">samples = 10</text>\r\n",
       "<text text-anchor=\"middle\" x=\"290.5\" y=\"-104.3\" font-family=\"Helvetica,sans-Serif\" font-size=\"14.00\">value = [2, 8]</text>\r\n",
       "</g>\r\n",
       "<!-- 3&#45;&gt;7 -->\r\n",
       "<g id=\"edge7\" class=\"edge\"><title>3&#45;&gt;7</title>\r\n",
       "<path fill=\"none\" stroke=\"black\" d=\"M290.5,-192.884C290.5,-182.326 290.5,-170.597 290.5,-159.854\"/>\r\n",
       "<polygon fill=\"black\" stroke=\"black\" points=\"294,-159.52 290.5,-149.52 287,-159.52 294,-159.52\"/>\r\n",
       "</g>\r\n",
       "<!-- 5 -->\r\n",
       "<g id=\"node6\" class=\"node\"><title>5</title>\r\n",
       "<path fill=\"#399de5\" stroke=\"black\" d=\"M93,-53C93,-53 12,-53 12,-53 6,-53 0,-47 0,-41 0,-41 0,-12 0,-12 0,-6 6,-0 12,-0 12,-0 93,-0 93,-0 99,-0 105,-6 105,-12 105,-12 105,-41 105,-41 105,-47 99,-53 93,-53\"/>\r\n",
       "<text text-anchor=\"middle\" x=\"52.5\" y=\"-37.8\" font-family=\"Helvetica,sans-Serif\" font-size=\"14.00\">gini = 0.0</text>\r\n",
       "<text text-anchor=\"middle\" x=\"52.5\" y=\"-22.8\" font-family=\"Helvetica,sans-Serif\" font-size=\"14.00\">samples = 51</text>\r\n",
       "<text text-anchor=\"middle\" x=\"52.5\" y=\"-7.8\" font-family=\"Helvetica,sans-Serif\" font-size=\"14.00\">value = [0, 51]</text>\r\n",
       "</g>\r\n",
       "<!-- 4&#45;&gt;5 -->\r\n",
       "<g id=\"edge5\" class=\"edge\"><title>4&#45;&gt;5</title>\r\n",
       "<path fill=\"none\" stroke=\"black\" d=\"M125.328,-88.9485C114.16,-79.526 102.009,-69.2731 90.8888,-59.8906\"/>\r\n",
       "<polygon fill=\"black\" stroke=\"black\" points=\"92.9028,-57.0104 83.0028,-53.2367 88.3886,-62.3605 92.9028,-57.0104\"/>\r\n",
       "</g>\r\n",
       "<!-- 6 -->\r\n",
       "<g id=\"node7\" class=\"node\"><title>6</title>\r\n",
       "<path fill=\"#4da7e8\" stroke=\"black\" d=\"M216,-53C216,-53 135,-53 135,-53 129,-53 123,-47 123,-41 123,-41 123,-12 123,-12 123,-6 129,-0 135,-0 135,-0 216,-0 216,-0 222,-0 228,-6 228,-12 228,-12 228,-41 228,-41 228,-47 222,-53 216,-53\"/>\r\n",
       "<text text-anchor=\"middle\" x=\"175.5\" y=\"-37.8\" font-family=\"Helvetica,sans-Serif\" font-size=\"14.00\">gini = 0.165</text>\r\n",
       "<text text-anchor=\"middle\" x=\"175.5\" y=\"-22.8\" font-family=\"Helvetica,sans-Serif\" font-size=\"14.00\">samples = 22</text>\r\n",
       "<text text-anchor=\"middle\" x=\"175.5\" y=\"-7.8\" font-family=\"Helvetica,sans-Serif\" font-size=\"14.00\">value = [2, 20]</text>\r\n",
       "</g>\r\n",
       "<!-- 4&#45;&gt;6 -->\r\n",
       "<g id=\"edge6\" class=\"edge\"><title>4&#45;&gt;6</title>\r\n",
       "<path fill=\"none\" stroke=\"black\" d=\"M168.347,-88.9485C169.316,-80.6238 170.361,-71.6509 171.344,-63.2027\"/>\r\n",
       "<polygon fill=\"black\" stroke=\"black\" points=\"174.824,-63.5743 172.504,-53.2367 167.871,-62.7649 174.824,-63.5743\"/>\r\n",
       "</g>\r\n",
       "<!-- 10 -->\r\n",
       "<g id=\"node11\" class=\"node\"><title>10</title>\r\n",
       "<path fill=\"#fdf7f3\" stroke=\"black\" d=\"M760.5,-261C760.5,-261 638.5,-261 638.5,-261 632.5,-261 626.5,-255 626.5,-249 626.5,-249 626.5,-205 626.5,-205 626.5,-199 632.5,-193 638.5,-193 638.5,-193 760.5,-193 760.5,-193 766.5,-193 772.5,-199 772.5,-205 772.5,-205 772.5,-249 772.5,-249 772.5,-255 766.5,-261 760.5,-261\"/>\r\n",
       "<text text-anchor=\"middle\" x=\"699.5\" y=\"-245.8\" font-family=\"Helvetica,sans-Serif\" font-size=\"14.00\">浏览行为数据 &lt;= 73.5</text>\r\n",
       "<text text-anchor=\"middle\" x=\"699.5\" y=\"-230.8\" font-family=\"Helvetica,sans-Serif\" font-size=\"14.00\">gini = 0.5</text>\r\n",
       "<text text-anchor=\"middle\" x=\"699.5\" y=\"-215.8\" font-family=\"Helvetica,sans-Serif\" font-size=\"14.00\">samples = 417</text>\r\n",
       "<text text-anchor=\"middle\" x=\"699.5\" y=\"-200.8\" font-family=\"Helvetica,sans-Serif\" font-size=\"14.00\">value = [215, 202]</text>\r\n",
       "</g>\r\n",
       "<!-- 9&#45;&gt;10 -->\r\n",
       "<g id=\"edge10\" class=\"edge\"><title>9&#45;&gt;10</title>\r\n",
       "<path fill=\"none\" stroke=\"black\" d=\"M716.383,-296.884C714.375,-288.689 712.193,-279.789 710.086,-271.192\"/>\r\n",
       "<polygon fill=\"black\" stroke=\"black\" points=\"713.442,-270.179 707.662,-261.299 706.643,-271.845 713.442,-270.179\"/>\r\n",
       "</g>\r\n",
       "<!-- 17 -->\r\n",
       "<g id=\"node18\" class=\"node\"><title>17</title>\r\n",
       "<path fill=\"#efb287\" stroke=\"black\" d=\"M994.5,-261C994.5,-261 880.5,-261 880.5,-261 874.5,-261 868.5,-255 868.5,-249 868.5,-249 868.5,-205 868.5,-205 868.5,-199 874.5,-193 880.5,-193 880.5,-193 994.5,-193 994.5,-193 1000.5,-193 1006.5,-199 1006.5,-205 1006.5,-205 1006.5,-249 1006.5,-249 1006.5,-255 1000.5,-261 994.5,-261\"/>\r\n",
       "<text text-anchor=\"middle\" x=\"937.5\" y=\"-245.8\" font-family=\"Helvetica,sans-Serif\" font-size=\"14.00\">平均支出 &lt;= 12.452</text>\r\n",
       "<text text-anchor=\"middle\" x=\"937.5\" y=\"-230.8\" font-family=\"Helvetica,sans-Serif\" font-size=\"14.00\">gini = 0.404</text>\r\n",
       "<text text-anchor=\"middle\" x=\"937.5\" y=\"-215.8\" font-family=\"Helvetica,sans-Serif\" font-size=\"14.00\">samples = 1947</text>\r\n",
       "<text text-anchor=\"middle\" x=\"937.5\" y=\"-200.8\" font-family=\"Helvetica,sans-Serif\" font-size=\"14.00\">value = [1399, 548]</text>\r\n",
       "</g>\r\n",
       "<!-- 9&#45;&gt;17 -->\r\n",
       "<g id=\"edge17\" class=\"edge\"><title>9&#45;&gt;17</title>\r\n",
       "<path fill=\"none\" stroke=\"black\" d=\"M793.655,-296.884C814.594,-286.856 837.738,-275.773 859.23,-265.482\"/>\r\n",
       "<polygon fill=\"black\" stroke=\"black\" points=\"860.82,-268.601 868.328,-261.125 857.797,-262.287 860.82,-268.601\"/>\r\n",
       "</g>\r\n",
       "<!-- 11 -->\r\n",
       "<g id=\"node12\" class=\"node\"><title>11</title>\r\n",
       "<path fill=\"#eda673\" stroke=\"black\" d=\"M540.5,-157C540.5,-157 372.5,-157 372.5,-157 366.5,-157 360.5,-151 360.5,-145 360.5,-145 360.5,-101 360.5,-101 360.5,-95 366.5,-89 372.5,-89 372.5,-89 540.5,-89 540.5,-89 546.5,-89 552.5,-95 552.5,-101 552.5,-101 552.5,-145 552.5,-145 552.5,-151 546.5,-157 540.5,-157\"/>\r\n",
       "<text text-anchor=\"middle\" x=\"456.5\" y=\"-141.8\" font-family=\"Helvetica,sans-Serif\" font-size=\"14.00\">本期账单最低还款额 &lt;= 8.693</text>\r\n",
       "<text text-anchor=\"middle\" x=\"456.5\" y=\"-126.8\" font-family=\"Helvetica,sans-Serif\" font-size=\"14.00\">gini = 0.351</text>\r\n",
       "<text text-anchor=\"middle\" x=\"456.5\" y=\"-111.8\" font-family=\"Helvetica,sans-Serif\" font-size=\"14.00\">samples = 132</text>\r\n",
       "<text text-anchor=\"middle\" x=\"456.5\" y=\"-96.8\" font-family=\"Helvetica,sans-Serif\" font-size=\"14.00\">value = [102, 30]</text>\r\n",
       "</g>\r\n",
       "<!-- 10&#45;&gt;11 -->\r\n",
       "<g id=\"edge11\" class=\"edge\"><title>10&#45;&gt;11</title>\r\n",
       "<path fill=\"none\" stroke=\"black\" d=\"M626.262,-195.258C600.636,-184.502 571.589,-172.309 544.86,-161.089\"/>\r\n",
       "<polygon fill=\"black\" stroke=\"black\" points=\"546.087,-157.808 535.511,-157.165 543.377,-164.263 546.087,-157.808\"/>\r\n",
       "</g>\r\n",
       "<!-- 14 -->\r\n",
       "<g id=\"node15\" class=\"node\"><title>14</title>\r\n",
       "<path fill=\"#bbddf6\" stroke=\"black\" d=\"M768.5,-157C768.5,-157 630.5,-157 630.5,-157 624.5,-157 618.5,-151 618.5,-145 618.5,-145 618.5,-101 618.5,-101 618.5,-95 624.5,-89 630.5,-89 630.5,-89 768.5,-89 768.5,-89 774.5,-89 780.5,-95 780.5,-101 780.5,-101 780.5,-145 780.5,-145 780.5,-151 774.5,-157 768.5,-157\"/>\r\n",
       "<text text-anchor=\"middle\" x=\"699.5\" y=\"-141.8\" font-family=\"Helvetica,sans-Serif\" font-size=\"14.00\">平均工资收入 &lt;= 11.186</text>\r\n",
       "<text text-anchor=\"middle\" x=\"699.5\" y=\"-126.8\" font-family=\"Helvetica,sans-Serif\" font-size=\"14.00\">gini = 0.479</text>\r\n",
       "<text text-anchor=\"middle\" x=\"699.5\" y=\"-111.8\" font-family=\"Helvetica,sans-Serif\" font-size=\"14.00\">samples = 285</text>\r\n",
       "<text text-anchor=\"middle\" x=\"699.5\" y=\"-96.8\" font-family=\"Helvetica,sans-Serif\" font-size=\"14.00\">value = [113, 172]</text>\r\n",
       "</g>\r\n",
       "<!-- 10&#45;&gt;14 -->\r\n",
       "<g id=\"edge14\" class=\"edge\"><title>10&#45;&gt;14</title>\r\n",
       "<path fill=\"none\" stroke=\"black\" d=\"M699.5,-192.884C699.5,-184.778 699.5,-175.982 699.5,-167.472\"/>\r\n",
       "<polygon fill=\"black\" stroke=\"black\" points=\"703,-167.299 699.5,-157.299 696,-167.299 703,-167.299\"/>\r\n",
       "</g>\r\n",
       "<!-- 12 -->\r\n",
       "<g id=\"node13\" class=\"node\"><title>12</title>\r\n",
       "<path fill=\"#a7d3f3\" stroke=\"black\" d=\"M359,-53C359,-53 280,-53 280,-53 274,-53 268,-47 268,-41 268,-41 268,-12 268,-12 268,-6 274,-0 280,-0 280,-0 359,-0 359,-0 365,-0 371,-6 371,-12 371,-12 371,-41 371,-41 371,-47 365,-53 359,-53\"/>\r\n",
       "<text text-anchor=\"middle\" x=\"319.5\" y=\"-37.8\" font-family=\"Helvetica,sans-Serif\" font-size=\"14.00\">gini = 0.459</text>\r\n",
       "<text text-anchor=\"middle\" x=\"319.5\" y=\"-22.8\" font-family=\"Helvetica,sans-Serif\" font-size=\"14.00\">samples = 14</text>\r\n",
       "<text text-anchor=\"middle\" x=\"319.5\" y=\"-7.8\" font-family=\"Helvetica,sans-Serif\" font-size=\"14.00\">value = [5, 9]</text>\r\n",
       "</g>\r\n",
       "<!-- 11&#45;&gt;12 -->\r\n",
       "<g id=\"edge12\" class=\"edge\"><title>11&#45;&gt;12</title>\r\n",
       "<path fill=\"none\" stroke=\"black\" d=\"M408.584,-88.9485C394.526,-79.2516 379.193,-68.6752 365.272,-59.073\"/>\r\n",
       "<polygon fill=\"black\" stroke=\"black\" points=\"367.03,-56.0337 356.811,-53.2367 363.056,-61.7959 367.03,-56.0337\"/>\r\n",
       "</g>\r\n",
       "<!-- 13 -->\r\n",
       "<g id=\"node14\" class=\"node\"><title>13</title>\r\n",
       "<path fill=\"#eb9c64\" stroke=\"black\" d=\"M490,-53C490,-53 401,-53 401,-53 395,-53 389,-47 389,-41 389,-41 389,-12 389,-12 389,-6 395,-0 401,-0 401,-0 490,-0 490,-0 496,-0 502,-6 502,-12 502,-12 502,-41 502,-41 502,-47 496,-53 490,-53\"/>\r\n",
       "<text text-anchor=\"middle\" x=\"445.5\" y=\"-37.8\" font-family=\"Helvetica,sans-Serif\" font-size=\"14.00\">gini = 0.293</text>\r\n",
       "<text text-anchor=\"middle\" x=\"445.5\" y=\"-22.8\" font-family=\"Helvetica,sans-Serif\" font-size=\"14.00\">samples = 118</text>\r\n",
       "<text text-anchor=\"middle\" x=\"445.5\" y=\"-7.8\" font-family=\"Helvetica,sans-Serif\" font-size=\"14.00\">value = [97, 21]</text>\r\n",
       "</g>\r\n",
       "<!-- 11&#45;&gt;13 -->\r\n",
       "<g id=\"edge13\" class=\"edge\"><title>11&#45;&gt;13</title>\r\n",
       "<path fill=\"none\" stroke=\"black\" d=\"M452.653,-88.9485C451.684,-80.6238 450.639,-71.6509 449.656,-63.2027\"/>\r\n",
       "<polygon fill=\"black\" stroke=\"black\" points=\"453.129,-62.7649 448.496,-53.2367 446.176,-63.5743 453.129,-62.7649\"/>\r\n",
       "</g>\r\n",
       "<!-- 15 -->\r\n",
       "<g id=\"node16\" class=\"node\"><title>15</title>\r\n",
       "<path fill=\"#9ccef2\" stroke=\"black\" d=\"M630.5,-53C630.5,-53 532.5,-53 532.5,-53 526.5,-53 520.5,-47 520.5,-41 520.5,-41 520.5,-12 520.5,-12 520.5,-6 526.5,-0 532.5,-0 532.5,-0 630.5,-0 630.5,-0 636.5,-0 642.5,-6 642.5,-12 642.5,-12 642.5,-41 642.5,-41 642.5,-47 636.5,-53 630.5,-53\"/>\r\n",
       "<text text-anchor=\"middle\" x=\"581.5\" y=\"-37.8\" font-family=\"Helvetica,sans-Serif\" font-size=\"14.00\">gini = 0.444</text>\r\n",
       "<text text-anchor=\"middle\" x=\"581.5\" y=\"-22.8\" font-family=\"Helvetica,sans-Serif\" font-size=\"14.00\">samples = 249</text>\r\n",
       "<text text-anchor=\"middle\" x=\"581.5\" y=\"-7.8\" font-family=\"Helvetica,sans-Serif\" font-size=\"14.00\">value = [83, 166]</text>\r\n",
       "</g>\r\n",
       "<!-- 14&#45;&gt;15 -->\r\n",
       "<g id=\"edge15\" class=\"edge\"><title>14&#45;&gt;15</title>\r\n",
       "<path fill=\"none\" stroke=\"black\" d=\"M658.229,-88.9485C646.35,-79.4346 633.412,-69.074 621.604,-59.6175\"/>\r\n",
       "<polygon fill=\"black\" stroke=\"black\" points=\"623.63,-56.7558 613.637,-53.2367 619.254,-62.2196 623.63,-56.7558\"/>\r\n",
       "</g>\r\n",
       "<!-- 16 -->\r\n",
       "<g id=\"node17\" class=\"node\"><title>16</title>\r\n",
       "<path fill=\"#ea9a61\" stroke=\"black\" d=\"M754,-53C754,-53 673,-53 673,-53 667,-53 661,-47 661,-41 661,-41 661,-12 661,-12 661,-6 667,-0 673,-0 673,-0 754,-0 754,-0 760,-0 766,-6 766,-12 766,-12 766,-41 766,-41 766,-47 760,-53 754,-53\"/>\r\n",
       "<text text-anchor=\"middle\" x=\"713.5\" y=\"-37.8\" font-family=\"Helvetica,sans-Serif\" font-size=\"14.00\">gini = 0.278</text>\r\n",
       "<text text-anchor=\"middle\" x=\"713.5\" y=\"-22.8\" font-family=\"Helvetica,sans-Serif\" font-size=\"14.00\">samples = 36</text>\r\n",
       "<text text-anchor=\"middle\" x=\"713.5\" y=\"-7.8\" font-family=\"Helvetica,sans-Serif\" font-size=\"14.00\">value = [30, 6]</text>\r\n",
       "</g>\r\n",
       "<!-- 14&#45;&gt;16 -->\r\n",
       "<g id=\"edge16\" class=\"edge\"><title>14&#45;&gt;16</title>\r\n",
       "<path fill=\"none\" stroke=\"black\" d=\"M704.397,-88.9485C705.63,-80.6238 706.959,-71.6509 708.211,-63.2027\"/>\r\n",
       "<polygon fill=\"black\" stroke=\"black\" points=\"711.684,-63.6417 709.687,-53.2367 704.759,-62.6158 711.684,-63.6417\"/>\r\n",
       "</g>\r\n",
       "<!-- 18 -->\r\n",
       "<g id=\"node19\" class=\"node\"><title>18</title>\r\n",
       "<path fill=\"#f1bb93\" stroke=\"black\" d=\"M994.5,-157C994.5,-157 880.5,-157 880.5,-157 874.5,-157 868.5,-151 868.5,-145 868.5,-145 868.5,-101 868.5,-101 868.5,-95 874.5,-89 880.5,-89 880.5,-89 994.5,-89 994.5,-89 1000.5,-89 1006.5,-95 1006.5,-101 1006.5,-101 1006.5,-145 1006.5,-145 1006.5,-151 1000.5,-157 994.5,-157\"/>\r\n",
       "<text text-anchor=\"middle\" x=\"937.5\" y=\"-141.8\" font-family=\"Helvetica,sans-Serif\" font-size=\"14.00\">教育程度 &lt;= 3.5</text>\r\n",
       "<text text-anchor=\"middle\" x=\"937.5\" y=\"-126.8\" font-family=\"Helvetica,sans-Serif\" font-size=\"14.00\">gini = 0.431</text>\r\n",
       "<text text-anchor=\"middle\" x=\"937.5\" y=\"-111.8\" font-family=\"Helvetica,sans-Serif\" font-size=\"14.00\">samples = 1604</text>\r\n",
       "<text text-anchor=\"middle\" x=\"937.5\" y=\"-96.8\" font-family=\"Helvetica,sans-Serif\" font-size=\"14.00\">value = [1101, 503]</text>\r\n",
       "</g>\r\n",
       "<!-- 17&#45;&gt;18 -->\r\n",
       "<g id=\"edge18\" class=\"edge\"><title>17&#45;&gt;18</title>\r\n",
       "<path fill=\"none\" stroke=\"black\" d=\"M937.5,-192.884C937.5,-184.778 937.5,-175.982 937.5,-167.472\"/>\r\n",
       "<polygon fill=\"black\" stroke=\"black\" points=\"941,-167.299 937.5,-157.299 934,-167.299 941,-167.299\"/>\r\n",
       "</g>\r\n",
       "<!-- 21 -->\r\n",
       "<g id=\"node22\" class=\"node\"><title>21</title>\r\n",
       "<path fill=\"#e99457\" stroke=\"black\" d=\"M1190.5,-157C1190.5,-157 1092.5,-157 1092.5,-157 1086.5,-157 1080.5,-151 1080.5,-145 1080.5,-145 1080.5,-101 1080.5,-101 1080.5,-95 1086.5,-89 1092.5,-89 1092.5,-89 1190.5,-89 1190.5,-89 1196.5,-89 1202.5,-95 1202.5,-101 1202.5,-101 1202.5,-145 1202.5,-145 1202.5,-151 1196.5,-157 1190.5,-157\"/>\r\n",
       "<text text-anchor=\"middle\" x=\"1141.5\" y=\"-141.8\" font-family=\"Helvetica,sans-Serif\" font-size=\"14.00\">教育程度 &lt;= 3.5</text>\r\n",
       "<text text-anchor=\"middle\" x=\"1141.5\" y=\"-126.8\" font-family=\"Helvetica,sans-Serif\" font-size=\"14.00\">gini = 0.228</text>\r\n",
       "<text text-anchor=\"middle\" x=\"1141.5\" y=\"-111.8\" font-family=\"Helvetica,sans-Serif\" font-size=\"14.00\">samples = 343</text>\r\n",
       "<text text-anchor=\"middle\" x=\"1141.5\" y=\"-96.8\" font-family=\"Helvetica,sans-Serif\" font-size=\"14.00\">value = [298, 45]</text>\r\n",
       "</g>\r\n",
       "<!-- 17&#45;&gt;21 -->\r\n",
       "<g id=\"edge21\" class=\"edge\"><title>17&#45;&gt;21</title>\r\n",
       "<path fill=\"none\" stroke=\"black\" d=\"M1003.73,-192.884C1025.31,-182.093 1049.34,-170.079 1071.21,-159.145\"/>\r\n",
       "<polygon fill=\"black\" stroke=\"black\" points=\"1073.06,-162.135 1080.44,-154.532 1069.93,-155.874 1073.06,-162.135\"/>\r\n",
       "</g>\r\n",
       "<!-- 19 -->\r\n",
       "<g id=\"node20\" class=\"node\"><title>19</title>\r\n",
       "<path fill=\"#f4cbad\" stroke=\"black\" d=\"M902.5,-53C902.5,-53 796.5,-53 796.5,-53 790.5,-53 784.5,-47 784.5,-41 784.5,-41 784.5,-12 784.5,-12 784.5,-6 790.5,-0 796.5,-0 796.5,-0 902.5,-0 902.5,-0 908.5,-0 914.5,-6 914.5,-12 914.5,-12 914.5,-41 914.5,-41 914.5,-47 908.5,-53 902.5,-53\"/>\r\n",
       "<text text-anchor=\"middle\" x=\"849.5\" y=\"-37.8\" font-family=\"Helvetica,sans-Serif\" font-size=\"14.00\">gini = 0.465</text>\r\n",
       "<text text-anchor=\"middle\" x=\"849.5\" y=\"-22.8\" font-family=\"Helvetica,sans-Serif\" font-size=\"14.00\">samples = 996</text>\r\n",
       "<text text-anchor=\"middle\" x=\"849.5\" y=\"-7.8\" font-family=\"Helvetica,sans-Serif\" font-size=\"14.00\">value = [629, 367]</text>\r\n",
       "</g>\r\n",
       "<!-- 18&#45;&gt;19 -->\r\n",
       "<g id=\"edge19\" class=\"edge\"><title>18&#45;&gt;19</title>\r\n",
       "<path fill=\"none\" stroke=\"black\" d=\"M906.722,-88.9485C898.203,-79.8005 888.955,-69.8697 880.428,-60.7126\"/>\r\n",
       "<polygon fill=\"black\" stroke=\"black\" points=\"882.843,-58.1698 873.466,-53.2367 877.72,-62.9402 882.843,-58.1698\"/>\r\n",
       "</g>\r\n",
       "<!-- 20 -->\r\n",
       "<g id=\"node21\" class=\"node\"><title>20</title>\r\n",
       "<path fill=\"#eca572\" stroke=\"black\" d=\"M1050.5,-53C1050.5,-53 944.5,-53 944.5,-53 938.5,-53 932.5,-47 932.5,-41 932.5,-41 932.5,-12 932.5,-12 932.5,-6 938.5,-0 944.5,-0 944.5,-0 1050.5,-0 1050.5,-0 1056.5,-0 1062.5,-6 1062.5,-12 1062.5,-12 1062.5,-41 1062.5,-41 1062.5,-47 1056.5,-53 1050.5,-53\"/>\r\n",
       "<text text-anchor=\"middle\" x=\"997.5\" y=\"-37.8\" font-family=\"Helvetica,sans-Serif\" font-size=\"14.00\">gini = 0.347</text>\r\n",
       "<text text-anchor=\"middle\" x=\"997.5\" y=\"-22.8\" font-family=\"Helvetica,sans-Serif\" font-size=\"14.00\">samples = 608</text>\r\n",
       "<text text-anchor=\"middle\" x=\"997.5\" y=\"-7.8\" font-family=\"Helvetica,sans-Serif\" font-size=\"14.00\">value = [472, 136]</text>\r\n",
       "</g>\r\n",
       "<!-- 18&#45;&gt;20 -->\r\n",
       "<g id=\"edge20\" class=\"edge\"><title>18&#45;&gt;20</title>\r\n",
       "<path fill=\"none\" stroke=\"black\" d=\"M958.485,-88.9485C964.061,-80.1664 970.095,-70.6629 975.713,-61.815\"/>\r\n",
       "<polygon fill=\"black\" stroke=\"black\" points=\"978.754,-63.5549 981.159,-53.2367 972.844,-59.8028 978.754,-63.5549\"/>\r\n",
       "</g>\r\n",
       "<!-- 22 -->\r\n",
       "<g id=\"node23\" class=\"node\"><title>22</title>\r\n",
       "<path fill=\"#ea9a61\" stroke=\"black\" d=\"M1190.5,-53C1190.5,-53 1092.5,-53 1092.5,-53 1086.5,-53 1080.5,-47 1080.5,-41 1080.5,-41 1080.5,-12 1080.5,-12 1080.5,-6 1086.5,-0 1092.5,-0 1092.5,-0 1190.5,-0 1190.5,-0 1196.5,-0 1202.5,-6 1202.5,-12 1202.5,-12 1202.5,-41 1202.5,-41 1202.5,-47 1196.5,-53 1190.5,-53\"/>\r\n",
       "<text text-anchor=\"middle\" x=\"1141.5\" y=\"-37.8\" font-family=\"Helvetica,sans-Serif\" font-size=\"14.00\">gini = 0.279</text>\r\n",
       "<text text-anchor=\"middle\" x=\"1141.5\" y=\"-22.8\" font-family=\"Helvetica,sans-Serif\" font-size=\"14.00\">samples = 251</text>\r\n",
       "<text text-anchor=\"middle\" x=\"1141.5\" y=\"-7.8\" font-family=\"Helvetica,sans-Serif\" font-size=\"14.00\">value = [209, 42]</text>\r\n",
       "</g>\r\n",
       "<!-- 21&#45;&gt;22 -->\r\n",
       "<g id=\"edge22\" class=\"edge\"><title>21&#45;&gt;22</title>\r\n",
       "<path fill=\"none\" stroke=\"black\" d=\"M1141.5,-88.9485C1141.5,-80.7153 1141.5,-71.848 1141.5,-63.4814\"/>\r\n",
       "<polygon fill=\"black\" stroke=\"black\" points=\"1145,-63.2367 1141.5,-53.2367 1138,-63.2367 1145,-63.2367\"/>\r\n",
       "</g>\r\n",
       "<!-- 23 -->\r\n",
       "<g id=\"node24\" class=\"node\"><title>23</title>\r\n",
       "<path fill=\"#e68540\" stroke=\"black\" d=\"M1314,-53C1314,-53 1233,-53 1233,-53 1227,-53 1221,-47 1221,-41 1221,-41 1221,-12 1221,-12 1221,-6 1227,-0 1233,-0 1233,-0 1314,-0 1314,-0 1320,-0 1326,-6 1326,-12 1326,-12 1326,-41 1326,-41 1326,-47 1320,-53 1314,-53\"/>\r\n",
       "<text text-anchor=\"middle\" x=\"1273.5\" y=\"-37.8\" font-family=\"Helvetica,sans-Serif\" font-size=\"14.00\">gini = 0.063</text>\r\n",
       "<text text-anchor=\"middle\" x=\"1273.5\" y=\"-22.8\" font-family=\"Helvetica,sans-Serif\" font-size=\"14.00\">samples = 92</text>\r\n",
       "<text text-anchor=\"middle\" x=\"1273.5\" y=\"-7.8\" font-family=\"Helvetica,sans-Serif\" font-size=\"14.00\">value = [89, 3]</text>\r\n",
       "</g>\r\n",
       "<!-- 21&#45;&gt;23 -->\r\n",
       "<g id=\"edge23\" class=\"edge\"><title>21&#45;&gt;23</title>\r\n",
       "<path fill=\"none\" stroke=\"black\" d=\"M1187.67,-88.9485C1201.21,-79.2516 1215.99,-68.6752 1229.4,-59.073\"/>\r\n",
       "<polygon fill=\"black\" stroke=\"black\" points=\"1231.46,-61.9038 1237.55,-53.2367 1227.38,-56.212 1231.46,-61.9038\"/>\r\n",
       "</g>\r\n",
       "<!-- 25 -->\r\n",
       "<g id=\"node26\" class=\"node\"><title>25</title>\r\n",
       "<path fill=\"#399de5\" stroke=\"black\" d=\"M1110.5,-357.5C1110.5,-357.5 1012.5,-357.5 1012.5,-357.5 1006.5,-357.5 1000.5,-351.5 1000.5,-345.5 1000.5,-345.5 1000.5,-316.5 1000.5,-316.5 1000.5,-310.5 1006.5,-304.5 1012.5,-304.5 1012.5,-304.5 1110.5,-304.5 1110.5,-304.5 1116.5,-304.5 1122.5,-310.5 1122.5,-316.5 1122.5,-316.5 1122.5,-345.5 1122.5,-345.5 1122.5,-351.5 1116.5,-357.5 1110.5,-357.5\"/>\r\n",
       "<text text-anchor=\"middle\" x=\"1061.5\" y=\"-342.3\" font-family=\"Helvetica,sans-Serif\" font-size=\"14.00\">gini = 0.0</text>\r\n",
       "<text text-anchor=\"middle\" x=\"1061.5\" y=\"-327.3\" font-family=\"Helvetica,sans-Serif\" font-size=\"14.00\">samples = 1356</text>\r\n",
       "<text text-anchor=\"middle\" x=\"1061.5\" y=\"-312.3\" font-family=\"Helvetica,sans-Serif\" font-size=\"14.00\">value = [0, 1356]</text>\r\n",
       "</g>\r\n",
       "<!-- 24&#45;&gt;25 -->\r\n",
       "<g id=\"edge25\" class=\"edge\"><title>24&#45;&gt;25</title>\r\n",
       "<path fill=\"none\" stroke=\"black\" d=\"M1061.5,-400.884C1061.5,-390.326 1061.5,-378.597 1061.5,-367.854\"/>\r\n",
       "<polygon fill=\"black\" stroke=\"black\" points=\"1065,-367.52 1061.5,-357.52 1058,-367.52 1065,-367.52\"/>\r\n",
       "</g>\r\n",
       "<!-- 26 -->\r\n",
       "<g id=\"node27\" class=\"node\"><title>26</title>\r\n",
       "<path fill=\"#f7d8c2\" stroke=\"black\" d=\"M1442.5,-365C1442.5,-365 1320.5,-365 1320.5,-365 1314.5,-365 1308.5,-359 1308.5,-353 1308.5,-353 1308.5,-309 1308.5,-309 1308.5,-303 1314.5,-297 1320.5,-297 1320.5,-297 1442.5,-297 1442.5,-297 1448.5,-297 1454.5,-303 1454.5,-309 1454.5,-309 1454.5,-353 1454.5,-353 1454.5,-359 1448.5,-365 1442.5,-365\"/>\r\n",
       "<text text-anchor=\"middle\" x=\"1381.5\" y=\"-349.8\" font-family=\"Helvetica,sans-Serif\" font-size=\"14.00\">性别 &lt;= 0.5</text>\r\n",
       "<text text-anchor=\"middle\" x=\"1381.5\" y=\"-334.8\" font-family=\"Helvetica,sans-Serif\" font-size=\"14.00\">gini = 0.483</text>\r\n",
       "<text text-anchor=\"middle\" x=\"1381.5\" y=\"-319.8\" font-family=\"Helvetica,sans-Serif\" font-size=\"14.00\">samples = 3077</text>\r\n",
       "<text text-anchor=\"middle\" x=\"1381.5\" y=\"-304.8\" font-family=\"Helvetica,sans-Serif\" font-size=\"14.00\">value = [1821, 1256]</text>\r\n",
       "</g>\r\n",
       "<!-- 24&#45;&gt;26 -->\r\n",
       "<g id=\"edge26\" class=\"edge\"><title>24&#45;&gt;26</title>\r\n",
       "<path fill=\"none\" stroke=\"black\" d=\"M1143.08,-407.997C1190.72,-392.812 1250.68,-373.698 1298.55,-358.439\"/>\r\n",
       "<polygon fill=\"black\" stroke=\"black\" points=\"1299.8,-361.714 1308.27,-355.342 1297.68,-355.045 1299.8,-361.714\"/>\r\n",
       "</g>\r\n",
       "<!-- 27 -->\r\n",
       "<g id=\"node28\" class=\"node\"><title>27</title>\r\n",
       "<path fill=\"#59ade9\" stroke=\"black\" d=\"M1433.5,-261C1433.5,-261 1329.5,-261 1329.5,-261 1323.5,-261 1317.5,-255 1317.5,-249 1317.5,-249 1317.5,-205 1317.5,-205 1317.5,-199 1323.5,-193 1329.5,-193 1329.5,-193 1433.5,-193 1433.5,-193 1439.5,-193 1445.5,-199 1445.5,-205 1445.5,-205 1445.5,-249 1445.5,-249 1445.5,-255 1439.5,-261 1433.5,-261\"/>\r\n",
       "<text text-anchor=\"middle\" x=\"1381.5\" y=\"-245.8\" font-family=\"Helvetica,sans-Serif\" font-size=\"14.00\">消费笔数 &lt;= 0.013</text>\r\n",
       "<text text-anchor=\"middle\" x=\"1381.5\" y=\"-230.8\" font-family=\"Helvetica,sans-Serif\" font-size=\"14.00\">gini = 0.241</text>\r\n",
       "<text text-anchor=\"middle\" x=\"1381.5\" y=\"-215.8\" font-family=\"Helvetica,sans-Serif\" font-size=\"14.00\">samples = 150</text>\r\n",
       "<text text-anchor=\"middle\" x=\"1381.5\" y=\"-200.8\" font-family=\"Helvetica,sans-Serif\" font-size=\"14.00\">value = [21, 129]</text>\r\n",
       "</g>\r\n",
       "<!-- 26&#45;&gt;27 -->\r\n",
       "<g id=\"edge27\" class=\"edge\"><title>26&#45;&gt;27</title>\r\n",
       "<path fill=\"none\" stroke=\"black\" d=\"M1381.5,-296.884C1381.5,-288.778 1381.5,-279.982 1381.5,-271.472\"/>\r\n",
       "<polygon fill=\"black\" stroke=\"black\" points=\"1385,-271.299 1381.5,-261.299 1378,-271.299 1385,-271.299\"/>\r\n",
       "</g>\r\n",
       "<!-- 32 -->\r\n",
       "<g id=\"node33\" class=\"node\"><title>32</title>\r\n",
       "<path fill=\"#f5d0b5\" stroke=\"black\" d=\"M1794.5,-261C1794.5,-261 1672.5,-261 1672.5,-261 1666.5,-261 1660.5,-255 1660.5,-249 1660.5,-249 1660.5,-205 1660.5,-205 1660.5,-199 1666.5,-193 1672.5,-193 1672.5,-193 1794.5,-193 1794.5,-193 1800.5,-193 1806.5,-199 1806.5,-205 1806.5,-205 1806.5,-249 1806.5,-249 1806.5,-255 1800.5,-261 1794.5,-261\"/>\r\n",
       "<text text-anchor=\"middle\" x=\"1733.5\" y=\"-245.8\" font-family=\"Helvetica,sans-Serif\" font-size=\"14.00\">平均支出 &lt;= 11.592</text>\r\n",
       "<text text-anchor=\"middle\" x=\"1733.5\" y=\"-230.8\" font-family=\"Helvetica,sans-Serif\" font-size=\"14.00\">gini = 0.474</text>\r\n",
       "<text text-anchor=\"middle\" x=\"1733.5\" y=\"-215.8\" font-family=\"Helvetica,sans-Serif\" font-size=\"14.00\">samples = 2927</text>\r\n",
       "<text text-anchor=\"middle\" x=\"1733.5\" y=\"-200.8\" font-family=\"Helvetica,sans-Serif\" font-size=\"14.00\">value = [1800, 1127]</text>\r\n",
       "</g>\r\n",
       "<!-- 26&#45;&gt;32 -->\r\n",
       "<g id=\"edge32\" class=\"edge\"><title>26&#45;&gt;32</title>\r\n",
       "<path fill=\"none\" stroke=\"black\" d=\"M1454.86,-308.742C1511.93,-292.205 1591.13,-269.256 1650.51,-252.049\"/>\r\n",
       "<polygon fill=\"black\" stroke=\"black\" points=\"1651.6,-255.376 1660.23,-249.231 1649.65,-248.653 1651.6,-255.376\"/>\r\n",
       "</g>\r\n",
       "<!-- 28 -->\r\n",
       "<g id=\"node29\" class=\"node\"><title>28</title>\r\n",
       "<path fill=\"#f6d5bd\" stroke=\"black\" d=\"M1346,-149.5C1346,-149.5 1267,-149.5 1267,-149.5 1261,-149.5 1255,-143.5 1255,-137.5 1255,-137.5 1255,-108.5 1255,-108.5 1255,-102.5 1261,-96.5 1267,-96.5 1267,-96.5 1346,-96.5 1346,-96.5 1352,-96.5 1358,-102.5 1358,-108.5 1358,-108.5 1358,-137.5 1358,-137.5 1358,-143.5 1352,-149.5 1346,-149.5\"/>\r\n",
       "<text text-anchor=\"middle\" x=\"1306.5\" y=\"-134.3\" font-family=\"Helvetica,sans-Serif\" font-size=\"14.00\">gini = 0.48</text>\r\n",
       "<text text-anchor=\"middle\" x=\"1306.5\" y=\"-119.3\" font-family=\"Helvetica,sans-Serif\" font-size=\"14.00\">samples = 10</text>\r\n",
       "<text text-anchor=\"middle\" x=\"1306.5\" y=\"-104.3\" font-family=\"Helvetica,sans-Serif\" font-size=\"14.00\">value = [6, 4]</text>\r\n",
       "</g>\r\n",
       "<!-- 27&#45;&gt;28 -->\r\n",
       "<g id=\"edge28\" class=\"edge\"><title>27&#45;&gt;28</title>\r\n",
       "<path fill=\"none\" stroke=\"black\" d=\"M1357.15,-192.884C1348.9,-181.666 1339.68,-169.126 1331.39,-157.852\"/>\r\n",
       "<polygon fill=\"black\" stroke=\"black\" points=\"1334.01,-155.503 1325.26,-149.52 1328.37,-159.65 1334.01,-155.503\"/>\r\n",
       "</g>\r\n",
       "<!-- 29 -->\r\n",
       "<g id=\"node30\" class=\"node\"><title>29</title>\r\n",
       "<path fill=\"#51a9e8\" stroke=\"black\" d=\"M1526.5,-157C1526.5,-157 1388.5,-157 1388.5,-157 1382.5,-157 1376.5,-151 1376.5,-145 1376.5,-145 1376.5,-101 1376.5,-101 1376.5,-95 1382.5,-89 1388.5,-89 1388.5,-89 1526.5,-89 1526.5,-89 1532.5,-89 1538.5,-95 1538.5,-101 1538.5,-101 1538.5,-145 1538.5,-145 1538.5,-151 1532.5,-157 1526.5,-157\"/>\r\n",
       "<text text-anchor=\"middle\" x=\"1457.5\" y=\"-141.8\" font-family=\"Helvetica,sans-Serif\" font-size=\"14.00\">平均工资收入 &lt;= 11.019</text>\r\n",
       "<text text-anchor=\"middle\" x=\"1457.5\" y=\"-126.8\" font-family=\"Helvetica,sans-Serif\" font-size=\"14.00\">gini = 0.191</text>\r\n",
       "<text text-anchor=\"middle\" x=\"1457.5\" y=\"-111.8\" font-family=\"Helvetica,sans-Serif\" font-size=\"14.00\">samples = 140</text>\r\n",
       "<text text-anchor=\"middle\" x=\"1457.5\" y=\"-96.8\" font-family=\"Helvetica,sans-Serif\" font-size=\"14.00\">value = [15, 125]</text>\r\n",
       "</g>\r\n",
       "<!-- 27&#45;&gt;29 -->\r\n",
       "<g id=\"edge29\" class=\"edge\"><title>27&#45;&gt;29</title>\r\n",
       "<path fill=\"none\" stroke=\"black\" d=\"M1406.18,-192.884C1412.68,-184.154 1419.78,-174.625 1426.57,-165.514\"/>\r\n",
       "<polygon fill=\"black\" stroke=\"black\" points=\"1429.52,-167.409 1432.69,-157.299 1423.91,-163.227 1429.52,-167.409\"/>\r\n",
       "</g>\r\n",
       "<!-- 30 -->\r\n",
       "<g id=\"node31\" class=\"node\"><title>30</title>\r\n",
       "<path fill=\"#4aa5e7\" stroke=\"black\" d=\"M1454.5,-53C1454.5,-53 1356.5,-53 1356.5,-53 1350.5,-53 1344.5,-47 1344.5,-41 1344.5,-41 1344.5,-12 1344.5,-12 1344.5,-6 1350.5,-0 1356.5,-0 1356.5,-0 1454.5,-0 1454.5,-0 1460.5,-0 1466.5,-6 1466.5,-12 1466.5,-12 1466.5,-41 1466.5,-41 1466.5,-47 1460.5,-53 1454.5,-53\"/>\r\n",
       "<text text-anchor=\"middle\" x=\"1405.5\" y=\"-37.8\" font-family=\"Helvetica,sans-Serif\" font-size=\"14.00\">gini = 0.146</text>\r\n",
       "<text text-anchor=\"middle\" x=\"1405.5\" y=\"-22.8\" font-family=\"Helvetica,sans-Serif\" font-size=\"14.00\">samples = 126</text>\r\n",
       "<text text-anchor=\"middle\" x=\"1405.5\" y=\"-7.8\" font-family=\"Helvetica,sans-Serif\" font-size=\"14.00\">value = [10, 116]</text>\r\n",
       "</g>\r\n",
       "<!-- 29&#45;&gt;30 -->\r\n",
       "<g id=\"edge30\" class=\"edge\"><title>29&#45;&gt;30</title>\r\n",
       "<path fill=\"none\" stroke=\"black\" d=\"M1439.31,-88.9485C1434.53,-80.2579 1429.36,-70.8608 1424.53,-62.0917\"/>\r\n",
       "<polygon fill=\"black\" stroke=\"black\" points=\"1427.55,-60.3105 1419.66,-53.2367 1421.42,-63.6853 1427.55,-60.3105\"/>\r\n",
       "</g>\r\n",
       "<!-- 31 -->\r\n",
       "<g id=\"node32\" class=\"node\"><title>31</title>\r\n",
       "<path fill=\"#a7d3f3\" stroke=\"black\" d=\"M1576,-53C1576,-53 1497,-53 1497,-53 1491,-53 1485,-47 1485,-41 1485,-41 1485,-12 1485,-12 1485,-6 1491,-0 1497,-0 1497,-0 1576,-0 1576,-0 1582,-0 1588,-6 1588,-12 1588,-12 1588,-41 1588,-41 1588,-47 1582,-53 1576,-53\"/>\r\n",
       "<text text-anchor=\"middle\" x=\"1536.5\" y=\"-37.8\" font-family=\"Helvetica,sans-Serif\" font-size=\"14.00\">gini = 0.459</text>\r\n",
       "<text text-anchor=\"middle\" x=\"1536.5\" y=\"-22.8\" font-family=\"Helvetica,sans-Serif\" font-size=\"14.00\">samples = 14</text>\r\n",
       "<text text-anchor=\"middle\" x=\"1536.5\" y=\"-7.8\" font-family=\"Helvetica,sans-Serif\" font-size=\"14.00\">value = [5, 9]</text>\r\n",
       "</g>\r\n",
       "<!-- 29&#45;&gt;31 -->\r\n",
       "<g id=\"edge31\" class=\"edge\"><title>29&#45;&gt;31</title>\r\n",
       "<path fill=\"none\" stroke=\"black\" d=\"M1485.13,-88.9485C1492.7,-79.892 1500.91,-70.0682 1508.51,-60.9875\"/>\r\n",
       "<polygon fill=\"black\" stroke=\"black\" points=\"1511.26,-63.1538 1514.98,-53.2367 1505.89,-58.6641 1511.26,-63.1538\"/>\r\n",
       "</g>\r\n",
       "<!-- 33 -->\r\n",
       "<g id=\"node34\" class=\"node\"><title>33</title>\r\n",
       "<path fill=\"#fcf0e8\" stroke=\"black\" d=\"M1802.5,-157C1802.5,-157 1664.5,-157 1664.5,-157 1658.5,-157 1652.5,-151 1652.5,-145 1652.5,-145 1652.5,-101 1652.5,-101 1652.5,-95 1658.5,-89 1664.5,-89 1664.5,-89 1802.5,-89 1802.5,-89 1808.5,-89 1814.5,-95 1814.5,-101 1814.5,-101 1814.5,-145 1814.5,-145 1814.5,-151 1808.5,-157 1802.5,-157\"/>\r\n",
       "<text text-anchor=\"middle\" x=\"1733.5\" y=\"-141.8\" font-family=\"Helvetica,sans-Serif\" font-size=\"14.00\">平均工资收入 &lt;= 14.161</text>\r\n",
       "<text text-anchor=\"middle\" x=\"1733.5\" y=\"-126.8\" font-family=\"Helvetica,sans-Serif\" font-size=\"14.00\">gini = 0.498</text>\r\n",
       "<text text-anchor=\"middle\" x=\"1733.5\" y=\"-111.8\" font-family=\"Helvetica,sans-Serif\" font-size=\"14.00\">samples = 1657</text>\r\n",
       "<text text-anchor=\"middle\" x=\"1733.5\" y=\"-96.8\" font-family=\"Helvetica,sans-Serif\" font-size=\"14.00\">value = [880, 777]</text>\r\n",
       "</g>\r\n",
       "<!-- 32&#45;&gt;33 -->\r\n",
       "<g id=\"edge33\" class=\"edge\"><title>32&#45;&gt;33</title>\r\n",
       "<path fill=\"none\" stroke=\"black\" d=\"M1733.5,-192.884C1733.5,-184.778 1733.5,-175.982 1733.5,-167.472\"/>\r\n",
       "<polygon fill=\"black\" stroke=\"black\" points=\"1737,-167.299 1733.5,-157.299 1730,-167.299 1737,-167.299\"/>\r\n",
       "</g>\r\n",
       "<!-- 36 -->\r\n",
       "<g id=\"node37\" class=\"node\"><title>36</title>\r\n",
       "<path fill=\"#efb184\" stroke=\"black\" d=\"M2012.5,-157C2012.5,-157 1906.5,-157 1906.5,-157 1900.5,-157 1894.5,-151 1894.5,-145 1894.5,-145 1894.5,-101 1894.5,-101 1894.5,-95 1900.5,-89 1906.5,-89 1906.5,-89 2012.5,-89 2012.5,-89 2018.5,-89 2024.5,-95 2024.5,-101 2024.5,-101 2024.5,-145 2024.5,-145 2024.5,-151 2018.5,-157 2012.5,-157\"/>\r\n",
       "<text text-anchor=\"middle\" x=\"1959.5\" y=\"-141.8\" font-family=\"Helvetica,sans-Serif\" font-size=\"14.00\">婚姻状态 &lt;= 2.5</text>\r\n",
       "<text text-anchor=\"middle\" x=\"1959.5\" y=\"-126.8\" font-family=\"Helvetica,sans-Serif\" font-size=\"14.00\">gini = 0.399</text>\r\n",
       "<text text-anchor=\"middle\" x=\"1959.5\" y=\"-111.8\" font-family=\"Helvetica,sans-Serif\" font-size=\"14.00\">samples = 1270</text>\r\n",
       "<text text-anchor=\"middle\" x=\"1959.5\" y=\"-96.8\" font-family=\"Helvetica,sans-Serif\" font-size=\"14.00\">value = [920, 350]</text>\r\n",
       "</g>\r\n",
       "<!-- 32&#45;&gt;36 -->\r\n",
       "<g id=\"edge36\" class=\"edge\"><title>32&#45;&gt;36</title>\r\n",
       "<path fill=\"none\" stroke=\"black\" d=\"M1806.56,-193.024C1831.72,-181.672 1859.9,-168.952 1885.16,-157.553\"/>\r\n",
       "<polygon fill=\"black\" stroke=\"black\" points=\"1886.64,-160.723 1894.32,-153.419 1883.76,-154.343 1886.64,-160.723\"/>\r\n",
       "</g>\r\n",
       "<!-- 34 -->\r\n",
       "<g id=\"node35\" class=\"node\"><title>34</title>\r\n",
       "<path fill=\"#f9fcfe\" stroke=\"black\" d=\"M1724.5,-53C1724.5,-53 1618.5,-53 1618.5,-53 1612.5,-53 1606.5,-47 1606.5,-41 1606.5,-41 1606.5,-12 1606.5,-12 1606.5,-6 1612.5,-0 1618.5,-0 1618.5,-0 1724.5,-0 1724.5,-0 1730.5,-0 1736.5,-6 1736.5,-12 1736.5,-12 1736.5,-41 1736.5,-41 1736.5,-47 1730.5,-53 1724.5,-53\"/>\r\n",
       "<text text-anchor=\"middle\" x=\"1671.5\" y=\"-37.8\" font-family=\"Helvetica,sans-Serif\" font-size=\"14.00\">gini = 0.5</text>\r\n",
       "<text text-anchor=\"middle\" x=\"1671.5\" y=\"-22.8\" font-family=\"Helvetica,sans-Serif\" font-size=\"14.00\">samples = 1477</text>\r\n",
       "<text text-anchor=\"middle\" x=\"1671.5\" y=\"-7.8\" font-family=\"Helvetica,sans-Serif\" font-size=\"14.00\">value = [728, 749]</text>\r\n",
       "</g>\r\n",
       "<!-- 33&#45;&gt;34 -->\r\n",
       "<g id=\"edge34\" class=\"edge\"><title>33&#45;&gt;34</title>\r\n",
       "<path fill=\"none\" stroke=\"black\" d=\"M1711.82,-88.9485C1706.05,-80.1664 1699.82,-70.6629 1694.01,-61.815\"/>\r\n",
       "<polygon fill=\"black\" stroke=\"black\" points=\"1696.8,-59.6779 1688.39,-53.2367 1690.94,-63.5178 1696.8,-59.6779\"/>\r\n",
       "</g>\r\n",
       "<!-- 35 -->\r\n",
       "<g id=\"node36\" class=\"node\"><title>35</title>\r\n",
       "<path fill=\"#ea985d\" stroke=\"black\" d=\"M1864.5,-53C1864.5,-53 1766.5,-53 1766.5,-53 1760.5,-53 1754.5,-47 1754.5,-41 1754.5,-41 1754.5,-12 1754.5,-12 1754.5,-6 1760.5,-0 1766.5,-0 1766.5,-0 1864.5,-0 1864.5,-0 1870.5,-0 1876.5,-6 1876.5,-12 1876.5,-12 1876.5,-41 1876.5,-41 1876.5,-47 1870.5,-53 1864.5,-53\"/>\r\n",
       "<text text-anchor=\"middle\" x=\"1815.5\" y=\"-37.8\" font-family=\"Helvetica,sans-Serif\" font-size=\"14.00\">gini = 0.263</text>\r\n",
       "<text text-anchor=\"middle\" x=\"1815.5\" y=\"-22.8\" font-family=\"Helvetica,sans-Serif\" font-size=\"14.00\">samples = 180</text>\r\n",
       "<text text-anchor=\"middle\" x=\"1815.5\" y=\"-7.8\" font-family=\"Helvetica,sans-Serif\" font-size=\"14.00\">value = [152, 28]</text>\r\n",
       "</g>\r\n",
       "<!-- 33&#45;&gt;35 -->\r\n",
       "<g id=\"edge35\" class=\"edge\"><title>33&#45;&gt;35</title>\r\n",
       "<path fill=\"none\" stroke=\"black\" d=\"M1762.18,-88.9485C1770.04,-79.892 1778.56,-70.0682 1786.44,-60.9875\"/>\r\n",
       "<polygon fill=\"black\" stroke=\"black\" points=\"1789.26,-63.0835 1793.17,-53.2367 1783.97,-58.4958 1789.26,-63.0835\"/>\r\n",
       "</g>\r\n",
       "<!-- 37 -->\r\n",
       "<g id=\"node38\" class=\"node\"><title>37</title>\r\n",
       "<path fill=\"#f3c3a1\" stroke=\"black\" d=\"M2012.5,-53C2012.5,-53 1906.5,-53 1906.5,-53 1900.5,-53 1894.5,-47 1894.5,-41 1894.5,-41 1894.5,-12 1894.5,-12 1894.5,-6 1900.5,-0 1906.5,-0 1906.5,-0 2012.5,-0 2012.5,-0 2018.5,-0 2024.5,-6 2024.5,-12 2024.5,-12 2024.5,-41 2024.5,-41 2024.5,-47 2018.5,-53 2012.5,-53\"/>\r\n",
       "<text text-anchor=\"middle\" x=\"1959.5\" y=\"-37.8\" font-family=\"Helvetica,sans-Serif\" font-size=\"14.00\">gini = 0.452</text>\r\n",
       "<text text-anchor=\"middle\" x=\"1959.5\" y=\"-22.8\" font-family=\"Helvetica,sans-Serif\" font-size=\"14.00\">samples = 711</text>\r\n",
       "<text text-anchor=\"middle\" x=\"1959.5\" y=\"-7.8\" font-family=\"Helvetica,sans-Serif\" font-size=\"14.00\">value = [466, 245]</text>\r\n",
       "</g>\r\n",
       "<!-- 36&#45;&gt;37 -->\r\n",
       "<g id=\"edge37\" class=\"edge\"><title>36&#45;&gt;37</title>\r\n",
       "<path fill=\"none\" stroke=\"black\" d=\"M1959.5,-88.9485C1959.5,-80.7153 1959.5,-71.848 1959.5,-63.4814\"/>\r\n",
       "<polygon fill=\"black\" stroke=\"black\" points=\"1963,-63.2367 1959.5,-53.2367 1956,-63.2367 1963,-63.2367\"/>\r\n",
       "</g>\r\n",
       "<!-- 38 -->\r\n",
       "<g id=\"node39\" class=\"node\"><title>38</title>\r\n",
       "<path fill=\"#eb9e67\" stroke=\"black\" d=\"M2160.5,-53C2160.5,-53 2054.5,-53 2054.5,-53 2048.5,-53 2042.5,-47 2042.5,-41 2042.5,-41 2042.5,-12 2042.5,-12 2042.5,-6 2048.5,-0 2054.5,-0 2054.5,-0 2160.5,-0 2160.5,-0 2166.5,-0 2172.5,-6 2172.5,-12 2172.5,-12 2172.5,-41 2172.5,-41 2172.5,-47 2166.5,-53 2160.5,-53\"/>\r\n",
       "<text text-anchor=\"middle\" x=\"2107.5\" y=\"-37.8\" font-family=\"Helvetica,sans-Serif\" font-size=\"14.00\">gini = 0.305</text>\r\n",
       "<text text-anchor=\"middle\" x=\"2107.5\" y=\"-22.8\" font-family=\"Helvetica,sans-Serif\" font-size=\"14.00\">samples = 559</text>\r\n",
       "<text text-anchor=\"middle\" x=\"2107.5\" y=\"-7.8\" font-family=\"Helvetica,sans-Serif\" font-size=\"14.00\">value = [454, 105]</text>\r\n",
       "</g>\r\n",
       "<!-- 36&#45;&gt;38 -->\r\n",
       "<g id=\"edge38\" class=\"edge\"><title>36&#45;&gt;38</title>\r\n",
       "<path fill=\"none\" stroke=\"black\" d=\"M2011.26,-88.9485C2026.59,-79.1601 2043.33,-68.4756 2058.48,-58.8015\"/>\r\n",
       "<polygon fill=\"black\" stroke=\"black\" points=\"2060.65,-61.5683 2067.19,-53.2367 2056.88,-55.6685 2060.65,-61.5683\"/>\r\n",
       "</g>\r\n",
       "</g>\r\n",
       "</svg>\r\n"
      ],
      "text/plain": [
       "<graphviz.files.Source at 0xb2dbec8>"
      ]
     },
     "execution_count": 77,
     "metadata": {},
     "output_type": "execute_result"
    }
   ],
   "source": [
    "import graphviz\n",
    "from sklearn import tree\n",
    "#首先配置\n",
    "dot_data = tree.export_graphviz( dtc #要对已经建成的dct这个实例化好的模型进行画图\n",
    "                                ,feature_names= x.columns #更改列名为中文\n",
    "                    #            ,class_names=[] #更改标签名字\n",
    "                                ,filled=True #给每一个节点分配颜色,颜色约深表示叶子的纯度越高\n",
    "                                ,rounded=True #节点性状为圆角\n",
    "                                  )\n",
    "graph = graphviz.Source(dot_data)\n",
    "graph"
   ]
  },
  {
   "cell_type": "markdown",
   "metadata": {},
   "source": [
    "# 随机森林"
   ]
  },
  {
   "cell_type": "code",
   "execution_count": 78,
   "metadata": {
    "ExecuteTime": {
     "end_time": "2020-03-21T02:51:39.933174Z",
     "start_time": "2020-03-21T02:51:39.924173Z"
    }
   },
   "outputs": [],
   "source": [
    "from sklearn.ensemble import RandomForestClassifier as RFC\n",
    "from sklearn.model_selection import GridSearchCV"
   ]
  },
  {
   "cell_type": "code",
   "execution_count": 79,
   "metadata": {
    "ExecuteTime": {
     "end_time": "2020-03-21T02:52:01.372400Z",
     "start_time": "2020-03-21T02:51:44.660444Z"
    }
   },
   "outputs": [
    {
     "data": {
      "text/plain": [
       "0.8429840630249139"
      ]
     },
     "execution_count": 79,
     "metadata": {},
     "output_type": "execute_result"
    },
    {
     "name": "stdout",
     "output_type": "stream",
     "text": [
      "              precision    recall  f1-score   support\n",
      "\n",
      "           0       1.00      1.00      1.00      3445\n",
      "           1       1.00      1.00      1.00       569\n",
      "\n",
      "    accuracy                           1.00      4014\n",
      "   macro avg       1.00      1.00      1.00      4014\n",
      "weighted avg       1.00      1.00      1.00      4014\n",
      "\n",
      "              precision    recall  f1-score   support\n",
      "\n",
      "           0       1.00      1.00      1.00      3445\n",
      "           1       1.00      1.00      1.00      3445\n",
      "\n",
      "    accuracy                           1.00      6890\n",
      "   macro avg       1.00      1.00      1.00      6890\n",
      "weighted avg       1.00      1.00      1.00      6890\n",
      "\n",
      "              precision    recall  f1-score   support\n",
      "\n",
      "           0       0.69      0.93      0.79      1454\n",
      "           1       0.89      0.58      0.70      1454\n",
      "\n",
      "    accuracy                           0.75      2908\n",
      "   macro avg       0.79      0.75      0.75      2908\n",
      "weighted avg       0.79      0.75      0.75      2908\n",
      "\n"
     ]
    }
   ],
   "source": [
    "rfc = RFC(n_estimators=200,random_state=90).fit(over_samples_x_train,over_samples_y_train)\n",
    "score_pre = cvs(rfc,over_samples_x_train,over_samples_y_train,cv=5, scoring='f1').mean()\n",
    "score_pre\n",
    "#print(classification_report(y_train,rfc.predict(x_train)))\n",
    "print(classification_report(over_samples_y_train,rfc.predict(over_samples_x_train)))\n",
    "print(classification_report(over_samples_y_test,rfc.predict(over_samples_x_test)))"
   ]
  },
  {
   "cell_type": "code",
   "execution_count": null,
   "metadata": {
    "ExecuteTime": {
     "end_time": "2020-03-21T02:20:30.093225Z",
     "start_time": "2020-03-21T02:13:51.043Z"
    }
   },
   "outputs": [],
   "source": [
    "for i in range(0,200,10):\n",
    "    i"
   ]
  },
  {
   "cell_type": "code",
   "execution_count": 81,
   "metadata": {
    "ExecuteTime": {
     "end_time": "2020-03-21T02:56:03.551252Z",
     "start_time": "2020-03-21T02:54:37.862351Z"
    }
   },
   "outputs": [
    {
     "data": {
      "text/plain": [
       "'\\n在这⾥我们选择学习曲线，可以使⽤⽹格搜索吗？可以，但是只有学习曲线，才能看⻅趋势\\n我个⼈的倾向是，要看⻅n_estimators在什么取值开始变得平稳，是否⼀直推动模型整体准确率的上升等\\n信息\\n第⼀次的学习曲线，可以先⽤来帮助我们划定范围，我们取每⼗个数作为⼀个阶段，来观察n_estimators\\n的变化如何引起模型整体准确率的变化\\n'"
      ]
     },
     "execution_count": 81,
     "metadata": {},
     "output_type": "execute_result"
    },
    {
     "name": "stdout",
     "output_type": "stream",
     "text": [
      "最⾼score: 0.8433495577693615\n",
      "最优n_estimators: 191\n"
     ]
    },
    {
     "data": {
      "text/plain": [
       "[<matplotlib.lines.Line2D at 0x127ee608>]"
      ]
     },
     "execution_count": 81,
     "metadata": {},
     "output_type": "execute_result"
    },
    {
     "data": {
      "image/png": "[encoded data removed]",
      "text/plain": [
       "<Figure size 432x288 with 1 Axes>"
      ]
     },
     "metadata": {
      "needs_background": "light"
     },
     "output_type": "display_data"
    }
   ],
   "source": [
    "'''\n",
    "在这⾥我们选择学习曲线，可以使⽤⽹格搜索吗？可以，但是只有学习曲线，才能看⻅趋势\n",
    "我个⼈的倾向是，要看⻅n_estimators在什么取值开始变得平稳，是否⼀直推动模型整体准确率的上升等\n",
    "信息\n",
    "第⼀次的学习曲线，可以先⽤来帮助我们划定范围，我们取每⼗个数作为⼀个阶段，来观察n_estimators\n",
    "的变化如何引起模型整体准确率的变化\n",
    "'''\n",
    "\n",
    "scorel = []\n",
    "for i in range(0,200,10):\n",
    "    rfc = RFC(n_estimators=i+1,\n",
    "                                 n_jobs=-1,\n",
    "                                 random_state=90)\n",
    "    score = cvs(rfc,over_samples_x_train, over_samples_y_train,cv=5, scoring='f1').mean()\n",
    "    scorel.append(score)\n",
    "\n",
    "print('最⾼score:',max(scorel))\n",
    "print('最优n_estimators:',(scorel.index(max(scorel))*10)+1)\n",
    "#plt.figure(figsize=[20,5])\n",
    "plt.plot(range(1,201,10),scorel)\n",
    "plt.show()"
   ]
  },
  {
   "cell_type": "code",
   "execution_count": null,
   "metadata": {
    "ExecuteTime": {
     "end_time": "2020-03-21T02:20:30.101226Z",
     "start_time": "2020-03-21T02:13:51.106Z"
    }
   },
   "outputs": [],
   "source": [
    "# scorel = []\n",
    "# for i in range(190,300,10):\n",
    "#     rfc = RandomForestClassifier(n_estimators=i,\n",
    "#     n_jobs=-1,\n",
    "#     random_state=90)\n",
    "#     score = cvs(rfc,over_samples_x_train, over_samples_y_train,cv=5, scoring='f1').mean()\n",
    "#     scorel.append(score)\n",
    "# print(max(scorel),([*range(190,300)][scorel.index(max(scorel))]))"
   ]
  },
  {
   "cell_type": "code",
   "execution_count": null,
   "metadata": {
    "ExecuteTime": {
     "end_time": "2020-03-21T02:20:30.105226Z",
     "start_time": "2020-03-21T02:13:51.165Z"
    }
   },
   "outputs": [],
   "source": [
    "#plt.figure(figsize=[20,5])\n",
    "# plt.plot(range(190,300,10),scorel)\n",
    "# plt.show()"
   ]
  },
  {
   "cell_type": "code",
   "execution_count": null,
   "metadata": {
    "ExecuteTime": {
     "end_time": "2020-03-21T02:20:30.108226Z",
     "start_time": "2020-03-21T02:13:51.192Z"
    }
   },
   "outputs": [],
   "source": [
    "# 数量越多 分数越高 但是提升不大，所以就选200"
   ]
  },
  {
   "cell_type": "code",
   "execution_count": null,
   "metadata": {
    "ExecuteTime": {
     "end_time": "2020-03-21T02:20:30.122227Z",
     "start_time": "2020-03-21T02:13:51.216Z"
    }
   },
   "outputs": [],
   "source": [
    "\"\"\"\n",
    "有⼀些参数是没有参照的，很难说清⼀个范围，这种情况下我们使⽤学习曲线，看趋势\n",
    "从曲线跑出的结果中选取⼀个更⼩的区间，再跑曲线\n",
    "param_grid = {'n_estimators':np.arange(0, 200, 10)}\n",
    "param_grid = {'max_depth':np.arange(1, 20, 1)}\n",
    "param_grid = {'max_leaf_nodes':np.arange(25,50,1)}\n",
    "对于⼤型数据集，可以尝试从1000来构建，先输⼊1000，每100个为⼀个区间，再逐渐缩⼩范围\n",
    "有⼀些参数是可以找到⼀个范围的，或者说我们知道他们的取值和随着他们的取值，模型的整体准确率会如\n",
    "何变化，这样的参数我们就可以直接跑⽹格搜索\n",
    "param_grid = {'criterion':['gini', 'entropy']}\n",
    "param_grid = {'min_samples_split':np.arange(2, 2+20, 1)}\n",
    "param_grid = {'min_samples_leaf':np.arange(1, 1+10, 1)}\n",
    "param_grid = {'max_features':np.arange(5,30,1)}\n",
    "\"\"\""
   ]
  },
  {
   "cell_type": "code",
   "execution_count": 82,
   "metadata": {
    "ExecuteTime": {
     "end_time": "2020-03-21T03:00:34.541752Z",
     "start_time": "2020-03-21T02:58:49.552747Z"
    }
   },
   "outputs": [
    {
     "data": {
      "text/plain": [
       "GridSearchCV(cv=5, error_score=nan,\n",
       "             estimator=RandomForestClassifier(bootstrap=True, ccp_alpha=0.0,\n",
       "                                              class_weight=None,\n",
       "                                              criterion='gini', max_depth=None,\n",
       "                                              max_features='auto',\n",
       "                                              max_leaf_nodes=None,\n",
       "                                              max_samples=None,\n",
       "                                              min_impurity_decrease=0.0,\n",
       "                                              min_impurity_split=None,\n",
       "                                              min_samples_leaf=1,\n",
       "                                              min_samples_split=2,\n",
       "                                              min_weight_fraction_leaf=0.0,\n",
       "                                              n_estimators=150, n_jobs=-1,\n",
       "                                              oob_score=False, random_state=90,\n",
       "                                              verbose=0, warm_start=False),\n",
       "             iid='deprecated', n_jobs=None,\n",
       "             param_grid={'max_depth': array([ 1,  2,  3,  4,  5,  6,  7,  8,  9, 10, 11, 12, 13, 14, 15, 16, 17,\n",
       "       18, 19])},\n",
       "             pre_dispatch='2*n_jobs', refit=True, return_train_score=False,\n",
       "             scoring='f1', verbose=0)"
      ]
     },
     "execution_count": 82,
     "metadata": {},
     "output_type": "execute_result"
    },
    {
     "data": {
      "text/plain": [
       "{'max_depth': 19}"
      ]
     },
     "execution_count": 82,
     "metadata": {},
     "output_type": "execute_result"
    },
    {
     "data": {
      "text/plain": [
       "0.8274356481922205"
      ]
     },
     "execution_count": 82,
     "metadata": {},
     "output_type": "execute_result"
    }
   ],
   "source": [
    "#调整max_depth\n",
    "param_grid = {'max_depth':np.arange(1, 20, 1)}\n",
    "# ⼀般根据数据的⼤⼩来进⾏⼀个试探，乳腺癌数据很⼩，所以可以采⽤1~10，或者1~20这样的试探\n",
    "# 但对于像digit recognition那样的⼤型数据来说，我们应该尝试30~50层深度（或许还不⾜够\n",
    "# 更应该画出学习曲线，来观察深度对模型的影响\n",
    "rfc = RFC(n_estimators=150,random_state=90, n_jobs=-1)\n",
    "GS = GridSearchCV(rfc,param_grid,cv=5, scoring='f1')\n",
    "GS.fit(over_samples_x, over_samples_y)\n",
    "GS.best_params_\n",
    "GS.best_score_"
   ]
  },
  {
   "cell_type": "code",
   "execution_count": null,
   "metadata": {
    "ExecuteTime": {
     "end_time": "2020-03-21T02:20:30.156229Z",
     "start_time": "2020-03-21T02:13:51.263Z"
    }
   },
   "outputs": [],
   "source": [
    "GridSearchCV?"
   ]
  },
  {
   "cell_type": "code",
   "execution_count": 84,
   "metadata": {
    "ExecuteTime": {
     "end_time": "2020-03-21T03:05:11.485592Z",
     "start_time": "2020-03-21T03:02:58.593991Z"
    }
   },
   "outputs": [
    {
     "data": {
      "text/plain": [
       "'\\nmax_features是唯⼀⼀个即能够将模型往左（低⽅差⾼偏差）推，也能够将模型往右（⾼⽅差低偏差）推\\n的参数。我们需要根据调参前，模型所在的位置（在泛化误差最低点的左边还是右边）来决定我们要将\\nmax_features往哪边调。现在模型位于图像左侧，我们需要的是更⾼的复杂度，因此我们应该把\\nmax_features往更⼤的⽅向调整，可⽤的特征越多，模型才会越复杂。max_features的默认最⼩值是\\nsqrt(n_features)，因此我们使⽤这个值作为调参范围的最⼩值。\\n'"
      ]
     },
     "execution_count": 84,
     "metadata": {},
     "output_type": "execute_result"
    },
    {
     "data": {
      "text/plain": [
       "GridSearchCV(cv=5, error_score=nan,\n",
       "             estimator=RandomForestClassifier(bootstrap=True, ccp_alpha=0.0,\n",
       "                                              class_weight=None,\n",
       "                                              criterion='gini', max_depth=None,\n",
       "                                              max_features='auto',\n",
       "                                              max_leaf_nodes=None,\n",
       "                                              max_samples=None,\n",
       "                                              min_impurity_decrease=0.0,\n",
       "                                              min_impurity_split=None,\n",
       "                                              min_samples_leaf=1,\n",
       "                                              min_samples_split=2,\n",
       "                                              min_weight_fraction_leaf=0.0,\n",
       "                                              n_estimators=150, n_jobs=None,\n",
       "                                              oob_score=False, random_state=90,\n",
       "                                              verbose=0, warm_start=False),\n",
       "             iid='deprecated', n_jobs=None,\n",
       "             param_grid={'max_features': array([ 5,  6,  7,  8,  9, 10, 11])},\n",
       "             pre_dispatch='2*n_jobs', refit=True, return_train_score=False,\n",
       "             scoring='f1', verbose=0)"
      ]
     },
     "execution_count": 84,
     "metadata": {},
     "output_type": "execute_result"
    },
    {
     "data": {
      "text/plain": [
       "{'max_features': 6}"
      ]
     },
     "execution_count": 84,
     "metadata": {},
     "output_type": "execute_result"
    },
    {
     "data": {
      "text/plain": [
       "0.8449510789812068"
      ]
     },
     "execution_count": 84,
     "metadata": {},
     "output_type": "execute_result"
    }
   ],
   "source": [
    "#调整max_features\n",
    "param_grid = {'max_features':np.arange(5,12,1)}\n",
    "\"\"\"\n",
    "max_features是唯⼀⼀个即能够将模型往左（低⽅差⾼偏差）推，也能够将模型往右（⾼⽅差低偏差）推\n",
    "的参数。我们需要根据调参前，模型所在的位置（在泛化误差最低点的左边还是右边）来决定我们要将\n",
    "max_features往哪边调。现在模型位于图像左侧，我们需要的是更⾼的复杂度，因此我们应该把\n",
    "max_features往更⼤的⽅向调整，可⽤的特征越多，模型才会越复杂。max_features的默认最⼩值是\n",
    "sqrt(n_features)，因此我们使⽤这个值作为调参范围的最⼩值。\n",
    "\"\"\"\n",
    "rfc = RFC(n_estimators=150,random_state=90)\n",
    "GS = GridSearchCV(rfc,param_grid,cv=5, scoring='f1')\n",
    "GS.fit(over_samples_x_train, over_samples_y_train)\n",
    "GS.best_params_\n",
    "GS.best_score_"
   ]
  },
  {
   "cell_type": "code",
   "execution_count": 85,
   "metadata": {
    "ExecuteTime": {
     "end_time": "2020-03-21T03:07:31.148580Z",
     "start_time": "2020-03-21T03:06:37.950538Z"
    }
   },
   "outputs": [
    {
     "data": {
      "text/plain": [
       "GridSearchCV(cv=5, error_score=nan,\n",
       "             estimator=RandomForestClassifier(bootstrap=True, ccp_alpha=0.0,\n",
       "                                              class_weight=None,\n",
       "                                              criterion='gini', max_depth=None,\n",
       "                                              max_features='auto',\n",
       "                                              max_leaf_nodes=None,\n",
       "                                              max_samples=None,\n",
       "                                              min_impurity_decrease=0.0,\n",
       "                                              min_impurity_split=None,\n",
       "                                              min_samples_leaf=1,\n",
       "                                              min_samples_split=2,\n",
       "                                              min_weight_fraction_leaf=0.0,\n",
       "                                              n_estimators=150, n_jobs=-1,\n",
       "                                              oob_score=False, random_state=90,\n",
       "                                              verbose=0, warm_start=False),\n",
       "             iid='deprecated', n_jobs=None,\n",
       "             param_grid={'min_samples_leaf': array([ 1,  2,  3,  4,  5,  6,  7,  8,  9, 10])},\n",
       "             pre_dispatch='2*n_jobs', refit=True, return_train_score=False,\n",
       "             scoring='f1', verbose=0)"
      ]
     },
     "execution_count": 85,
     "metadata": {},
     "output_type": "execute_result"
    },
    {
     "data": {
      "text/plain": [
       "{'min_samples_leaf': 1}"
      ]
     },
     "execution_count": 85,
     "metadata": {},
     "output_type": "execute_result"
    },
    {
     "data": {
      "text/plain": [
       "0.8415850321705683"
      ]
     },
     "execution_count": 85,
     "metadata": {},
     "output_type": "execute_result"
    }
   ],
   "source": [
    "#调整min_samples_leaf\n",
    "param_grid={'min_samples_leaf':np.arange(1, 1+10, 1)}\n",
    "#对于min_samples_split和min_samples_leaf,⼀般是从他们的最⼩值开始向上增加10或20\n",
    "#⾯对⾼维度⾼样本量数据，如果不放⼼，也可以直接+50，对于⼤型数据，可能需要200~300的范围\n",
    "#如果调整的时候发现准确率⽆论如何都上不来，那可以放⼼⼤胆调⼀个很⼤的数据，⼤⼒限制模型的复杂\n",
    "#度\n",
    "rfc = RFC(n_estimators=150,random_state=90, n_jobs=-1)\n",
    "GS = GridSearchCV(rfc,param_grid,cv=5, scoring='f1')\n",
    "GS.fit(over_samples_x_train, over_samples_y_train)\n",
    "GS.best_params_\n",
    "GS.best_score_"
   ]
  },
  {
   "cell_type": "code",
   "execution_count": 86,
   "metadata": {
    "ExecuteTime": {
     "end_time": "2020-03-21T03:09:23.309996Z",
     "start_time": "2020-03-21T03:07:38.316990Z"
    }
   },
   "outputs": [
    {
     "data": {
      "text/plain": [
       "GridSearchCV(cv=5, error_score=nan,\n",
       "             estimator=RandomForestClassifier(bootstrap=True, ccp_alpha=0.0,\n",
       "                                              class_weight=None,\n",
       "                                              criterion='gini', max_depth=None,\n",
       "                                              max_features='auto',\n",
       "                                              max_leaf_nodes=None,\n",
       "                                              max_samples=None,\n",
       "                                              min_impurity_decrease=0.0,\n",
       "                                              min_impurity_split=None,\n",
       "                                              min_samples_leaf=1,\n",
       "                                              min_samples_split=2,\n",
       "                                              min_weight_fraction_leaf=0.0,\n",
       "                                              n_estimators=150, n_jobs=-1,\n",
       "                                              oob_score=False, random_state=90,\n",
       "                                              verbose=0, warm_start=False),\n",
       "             iid='deprecated', n_jobs=None,\n",
       "             param_grid={'min_samples_split': array([ 2,  3,  4,  5,  6,  7,  8,  9, 10, 11, 12, 13, 14, 15, 16, 17, 18,\n",
       "       19, 20, 21])},\n",
       "             pre_dispatch='2*n_jobs', refit=True, return_train_score=False,\n",
       "             scoring='f1', verbose=0)"
      ]
     },
     "execution_count": 86,
     "metadata": {},
     "output_type": "execute_result"
    },
    {
     "data": {
      "text/plain": [
       "{'min_samples_split': 2}"
      ]
     },
     "execution_count": 86,
     "metadata": {},
     "output_type": "execute_result"
    },
    {
     "data": {
      "text/plain": [
       "0.8415850321705683"
      ]
     },
     "execution_count": 86,
     "metadata": {},
     "output_type": "execute_result"
    }
   ],
   "source": [
    "# 调整min_samples_split\n",
    "param_grid={'min_samples_split':np.arange(2, 2+20, 1)}\n",
    "rfc = RFC(n_estimators=150,random_state=90, n_jobs=-1)\n",
    "GS = GridSearchCV(rfc,param_grid,cv=5, scoring='f1')\n",
    "GS.fit(over_samples_x_train, over_samples_y_train)\n",
    "GS.best_params_\n",
    "GS.best_score_"
   ]
  },
  {
   "cell_type": "code",
   "execution_count": 87,
   "metadata": {
    "ExecuteTime": {
     "end_time": "2020-03-21T03:09:50.190533Z",
     "start_time": "2020-03-21T03:09:34.297624Z"
    }
   },
   "outputs": [
    {
     "data": {
      "text/plain": [
       "GridSearchCV(cv=5, error_score=nan,\n",
       "             estimator=RandomForestClassifier(bootstrap=True, ccp_alpha=0.0,\n",
       "                                              class_weight=None,\n",
       "                                              criterion='gini', max_depth=None,\n",
       "                                              max_features='auto',\n",
       "                                              max_leaf_nodes=None,\n",
       "                                              max_samples=None,\n",
       "                                              min_impurity_decrease=0.0,\n",
       "                                              min_impurity_split=None,\n",
       "                                              min_samples_leaf=1,\n",
       "                                              min_samples_split=2,\n",
       "                                              min_weight_fraction_leaf=0.0,\n",
       "                                              n_estimators=150, n_jobs=-1,\n",
       "                                              oob_score=False, random_state=90,\n",
       "                                              verbose=0, warm_start=False),\n",
       "             iid='deprecated', n_jobs=None,\n",
       "             param_grid={'criterion': ['gini', 'entropy']},\n",
       "             pre_dispatch='2*n_jobs', refit=True, return_train_score=False,\n",
       "             scoring='f1', verbose=0)"
      ]
     },
     "execution_count": 87,
     "metadata": {},
     "output_type": "execute_result"
    },
    {
     "data": {
      "text/plain": [
       "{'criterion': 'entropy'}"
      ]
     },
     "execution_count": 87,
     "metadata": {},
     "output_type": "execute_result"
    },
    {
     "data": {
      "text/plain": [
       "0.8416553782456979"
      ]
     },
     "execution_count": 87,
     "metadata": {},
     "output_type": "execute_result"
    }
   ],
   "source": [
    "#调整Criterion\n",
    "param_grid = {'criterion':['gini', 'entropy']}\n",
    "rfc = RFC(n_estimators=150,random_state=90, n_jobs=-1)\n",
    "GS = GridSearchCV(rfc,param_grid,cv=5, scoring='f1')\n",
    "GS.fit(over_samples_x_train, over_samples_y_train)\n",
    "GS.best_params_\n",
    "GS.best_score_"
   ]
  },
  {
   "cell_type": "code",
   "execution_count": 101,
   "metadata": {
    "ExecuteTime": {
     "end_time": "2020-03-21T04:12:11.672534Z",
     "start_time": "2020-03-21T04:11:52.936462Z"
    }
   },
   "outputs": [
    {
     "data": {
      "text/plain": [
       "0.7155282968977138"
      ]
     },
     "execution_count": 101,
     "metadata": {},
     "output_type": "execute_result"
    },
    {
     "name": "stdout",
     "output_type": "stream",
     "text": [
      "              precision    recall  f1-score   support\n",
      "\n",
      "           0       0.87      0.88      0.87      1454\n",
      "           1       0.28      0.26      0.27       267\n",
      "\n",
      "    accuracy                           0.78      1721\n",
      "   macro avg       0.57      0.57      0.57      1721\n",
      "weighted avg       0.77      0.78      0.78      1721\n",
      "\n",
      "              precision    recall  f1-score   support\n",
      "\n",
      "           0       0.73      0.88      0.80      3445\n",
      "           1       0.85      0.67      0.75      3445\n",
      "\n",
      "    accuracy                           0.78      6890\n",
      "   macro avg       0.79      0.78      0.77      6890\n",
      "weighted avg       0.79      0.78      0.77      6890\n",
      "\n",
      "              precision    recall  f1-score   support\n",
      "\n",
      "           0       0.70      0.88      0.78      1454\n",
      "           1       0.84      0.63      0.72      1454\n",
      "\n",
      "    accuracy                           0.75      2908\n",
      "   macro avg       0.77      0.75      0.75      2908\n",
      "weighted avg       0.77      0.75      0.75      2908\n",
      "\n"
     ]
    }
   ],
   "source": [
    "rfc = RFC(n_estimators=150,criterion='entropy', max_depth=6, max_features=6, class_weight='balanced',\n",
    "          min_samples_leaf=1, min_samples_split=2,random_state=90).fit(over_samples_x_train, over_samples_y_train)\n",
    "score_pre = cvs(rfc,over_samples_x_train,over_samples_y_train,cv=5, scoring='f1').mean()\n",
    "score_pre \n",
    "#print(classification_report(y_test,rfc.predict(x_test)))\n",
    "print(classification_report(over_samples_y_train,rfc.predict(over_samples_x_train)))\n",
    "print(classification_report(over_samples_y_test,rfc.predict(over_samples_x_test)))"
   ]
  },
  {
   "cell_type": "code",
   "execution_count": null,
   "metadata": {
    "ExecuteTime": {
     "end_time": "2020-03-21T02:20:30.181230Z",
     "start_time": "2020-03-21T02:13:51.418Z"
    }
   },
   "outputs": [],
   "source": [
    "# 随机森林网格搜索调参后效果与原先差不多，甚至还降低了，于是我通过设置max_depth进行减枝"
   ]
  },
  {
   "cell_type": "code",
   "execution_count": null,
   "metadata": {},
   "outputs": [],
   "source": []
  },
  {
   "cell_type": "code",
   "execution_count": null,
   "metadata": {},
   "outputs": [],
   "source": []
  }
 ],
 "metadata": {
  "kernelspec": {
   "display_name": "Python 3",
   "language": "python",
   "name": "python3"
  },
  "language_info": {
   "codemirror_mode": {
    "name": "ipython",
    "version": 3
   },
   "file_extension": ".py",
   "mimetype": "text/x-python",
   "name": "python",
   "nbconvert_exporter": "python",
   "pygments_lexer": "ipython3",
   "version": "3.7.4"
  },
  "toc": {
   "base_numbering": 1,
   "nav_menu": {},
   "number_sections": true,
   "sideBar": true,
   "skip_h1_title": false,
   "title_cell": "Table of Contents",
   "title_sidebar": "Contents",
   "toc_cell": false,
   "toc_position": {
    "height": "calc(100% - 180px)",
    "left": "10px",
    "top": "150px",
    "width": "285.035px"
   },
   "toc_section_display": true,
   "toc_window_display": true
  }
 },
 "nbformat": 4,
 "nbformat_minor": 2
}
